{
 "cells": [
  {
   "cell_type": "code",
   "execution_count": 1,
   "metadata": {},
   "outputs": [],
   "source": [
    "%load_ext autoreload\n",
    "%autoreload 2\n",
    "%matplotlib inline\n",
    "\n",
    "import common\n",
    "\n",
    "import matplotlib.pyplot as plt\n",
    "import numpy as np\n",
    "import pandas as pd\n",
    "import sklearn.dummy\n",
    "import sklearn.ensemble"
   ]
  },
  {
   "cell_type": "code",
   "execution_count": 2,
   "metadata": {},
   "outputs": [
    {
     "name": "stderr",
     "output_type": "stream",
     "text": [
      "/home/asgavar/.local/lib/python3.8/site-packages/numpy/lib/arraysetops.py:569: FutureWarning: elementwise comparison failed; returning scalar instead, but in the future will perform elementwise comparison\n",
      "  mask |= (ar1 == a)\n",
      "/home/asgavar/.local/lib/python3.8/site-packages/sklearn/dummy.py:131: FutureWarning: The default value of strategy will change from stratified to prior in 0.24.\n",
      "  warnings.warn(\"The default value of strategy will change from \"\n"
     ]
    },
    {
     "data": {
      "text/plain": [
       "DummyClassifier(constant=None, random_state=None, strategy='warn')"
      ]
     },
     "execution_count": 2,
     "metadata": {},
     "output_type": "execute_result"
    }
   ],
   "source": [
    "train_as_vec, train_targets, test_as_vec, test_targets = common.load_dataset('full', 'count', None)\n",
    "baseline_classifier = sklearn.dummy.DummyClassifier()\n",
    "baseline_classifier.fit(train_as_vec, train_targets)"
   ]
  },
  {
   "cell_type": "code",
   "execution_count": 3,
   "metadata": {},
   "outputs": [
    {
     "name": "stdout",
     "output_type": "stream",
     "text": [
      "SCORE: 0.20032527768207462\n",
      "[[0.06366651 0.06035015 0.11846367 0.226207   0.53131266]\n",
      " [0.06044322 0.06071779 0.11735634 0.22463228 0.53685036]\n",
      " [0.06119861 0.05909856 0.11788014 0.22518078 0.5366419 ]\n",
      " [0.06142915 0.06023282 0.11745919 0.22538933 0.53548951]\n",
      " [0.06063029 0.05977759 0.11849041 0.22565709 0.53544462]]\n"
     ]
    },
    {
     "data": {
      "image/png": "[encoded data removed]",
      "text/plain": [
       "<Figure size 432x288 with 2 Axes>"
      ]
     },
     "metadata": {
      "needs_background": "light"
     },
     "output_type": "display_data"
    }
   ],
   "source": [
    "common.display_classifier_performance(baseline_classifier, test_as_vec, test_targets)"
   ]
  },
  {
   "cell_type": "code",
   "execution_count": 4,
   "metadata": {},
   "outputs": [
    {
     "data": {
      "text/html": [
       "<div>\n",
       "<style scoped>\n",
       "    .dataframe tbody tr th:only-of-type {\n",
       "        vertical-align: middle;\n",
       "    }\n",
       "\n",
       "    .dataframe tbody tr th {\n",
       "        vertical-align: top;\n",
       "    }\n",
       "\n",
       "    .dataframe thead th {\n",
       "        text-align: right;\n",
       "    }\n",
       "</style>\n",
       "<table border=\"1\" class=\"dataframe\">\n",
       "  <thead>\n",
       "    <tr style=\"text-align: right;\">\n",
       "      <th></th>\n",
       "      <th>classifier_type</th>\n",
       "      <th>sampling</th>\n",
       "      <th>representation</th>\n",
       "      <th>preprocessing</th>\n",
       "      <th>learning_rate</th>\n",
       "      <th>n_estimators</th>\n",
       "      <th>real_world_acc</th>\n",
       "      <th>score</th>\n",
       "    </tr>\n",
       "  </thead>\n",
       "  <tbody>\n",
       "    <tr>\n",
       "      <th>0</th>\n",
       "      <td>baseline</td>\n",
       "      <td>full</td>\n",
       "      <td>count</td>\n",
       "      <td>None</td>\n",
       "      <td>N/A</td>\n",
       "      <td>N/A</td>\n",
       "      <td>0.357756</td>\n",
       "      <td>0.19963</td>\n",
       "    </tr>\n",
       "  </tbody>\n",
       "</table>\n",
       "</div>"
      ],
      "text/plain": [
       "  classifier_type sampling representation preprocessing learning_rate  \\\n",
       "0        baseline     full          count          None           N/A   \n",
       "\n",
       "  n_estimators  real_world_acc    score  \n",
       "0          N/A        0.357756  0.19963  "
      ]
     },
     "execution_count": 4,
     "metadata": {},
     "output_type": "execute_result"
    }
   ],
   "source": [
    "results_df = pd.DataFrame.from_dict([\n",
    "    common.perf_row(\n",
    "        baseline_classifier, test_as_vec, test_targets, 'baseline',\n",
    "        'full', 'count', None, learning_rate='N/A', n_estimators='N/A')])\n",
    "results_df"
   ]
  },
  {
   "cell_type": "code",
   "execution_count": 11,
   "metadata": {},
   "outputs": [
    {
     "data": {
      "text/plain": [
       "0.39705397202428083"
      ]
     },
     "execution_count": 11,
     "metadata": {},
     "output_type": "execute_result"
    }
   ],
   "source": [
    "train_as_vec, train_targets, test_as_vec, test_targets = common.load_dataset('random_downsampling', 'count', None)\n",
    "classifier = sklearn.ensemble.AdaBoostClassifier(n_estimators=1)\n",
    "classifier.fit(train_as_vec, train_targets)\n",
    "classifier.score(test_as_vec, test_targets)"
   ]
  },
  {
   "cell_type": "code",
   "execution_count": 9,
   "metadata": {},
   "outputs": [
    {
     "data": {
      "text/plain": [
       "0.533355483919617"
      ]
     },
     "execution_count": 9,
     "metadata": {},
     "output_type": "execute_result"
    }
   ],
   "source": [
    "classifier.score(test_as_vec, test_targets)"
   ]
  },
  {
   "cell_type": "code",
   "execution_count": null,
   "metadata": {},
   "outputs": [
    {
     "name": "stdout",
     "output_type": "stream",
     "text": [
      "sampling = random_downsampling\n",
      "    representation = count\n",
      "        learning_rate = 0.1\n",
      "        learning_rate = 0.5\n",
      "        learning_rate = 1\n",
      "    representation = tf_idf\n",
      "        learning_rate = 0.1\n",
      "        learning_rate = 0.5\n",
      "        learning_rate = 1\n",
      "sampling = full\n",
      "    representation = count\n",
      "        learning_rate = 0.1\n"
     ]
    }
   ],
   "source": [
    "N_ESTIMATORS = 25\n",
    "\n",
    "for sampling in ['random_downsampling', 'full', 'oversampled']:\n",
    "    print(f'sampling = {sampling}')\n",
    "    for representation in ['count', 'tf_idf']:\n",
    "        print(f'    representation = {representation}')\n",
    "        for learning_rate in [0.1, 0.5, 1]:\n",
    "            print(f'        learning_rate = {learning_rate}')\n",
    "\n",
    "            train_as_vec, train_targets, test_as_vec, test_targets = common.load_dataset(\n",
    "                sampling, representation, None)\n",
    "\n",
    "            classifier = sklearn.ensemble.AdaBoostClassifier(n_estimators=N_ESTIMATORS, learning_rate=learning_rate)\n",
    "            classifier.fit(train_as_vec, train_targets)\n",
    "\n",
    "            results_df = results_df.append([\n",
    "                    common.perf_row(\n",
    "                        classifier, test_as_vec, test_targets,\n",
    "                        'N/A', sampling, representation, \n",
    "                        None, n_estimators=N_ESTIMATORS, learning_rate=learning_rate)])"
   ]
  },
  {
   "cell_type": "code",
   "execution_count": 6,
   "metadata": {},
   "outputs": [
    {
     "data": {
      "text/html": [
       "<div>\n",
       "<style scoped>\n",
       "    .dataframe tbody tr th:only-of-type {\n",
       "        vertical-align: middle;\n",
       "    }\n",
       "\n",
       "    .dataframe tbody tr th {\n",
       "        vertical-align: top;\n",
       "    }\n",
       "\n",
       "    .dataframe thead th {\n",
       "        text-align: right;\n",
       "    }\n",
       "</style>\n",
       "<table border=\"1\" class=\"dataframe\">\n",
       "  <thead>\n",
       "    <tr style=\"text-align: right;\">\n",
       "      <th></th>\n",
       "      <th>classifier_type</th>\n",
       "      <th>sampling</th>\n",
       "      <th>representation</th>\n",
       "      <th>preprocessing</th>\n",
       "      <th>learning_rate</th>\n",
       "      <th>n_estimators</th>\n",
       "      <th>real_world_acc</th>\n",
       "      <th>score</th>\n",
       "    </tr>\n",
       "  </thead>\n",
       "  <tbody>\n",
       "    <tr>\n",
       "      <th>0</th>\n",
       "      <td>N/A</td>\n",
       "      <td>oversampled</td>\n",
       "      <td>tf_idf</td>\n",
       "      <td>None</td>\n",
       "      <td>1</td>\n",
       "      <td>25</td>\n",
       "      <td>0.456451</td>\n",
       "      <td>0.379707</td>\n",
       "    </tr>\n",
       "    <tr>\n",
       "      <th>0</th>\n",
       "      <td>N/A</td>\n",
       "      <td>random_downsampling</td>\n",
       "      <td>tf_idf</td>\n",
       "      <td>None</td>\n",
       "      <td>1</td>\n",
       "      <td>25</td>\n",
       "      <td>0.456024</td>\n",
       "      <td>0.379319</td>\n",
       "    </tr>\n",
       "    <tr>\n",
       "      <th>0</th>\n",
       "      <td>N/A</td>\n",
       "      <td>oversampled</td>\n",
       "      <td>count</td>\n",
       "      <td>None</td>\n",
       "      <td>1</td>\n",
       "      <td>25</td>\n",
       "      <td>0.459462</td>\n",
       "      <td>0.378354</td>\n",
       "    </tr>\n",
       "    <tr>\n",
       "      <th>0</th>\n",
       "      <td>N/A</td>\n",
       "      <td>random_downsampling</td>\n",
       "      <td>count</td>\n",
       "      <td>None</td>\n",
       "      <td>1</td>\n",
       "      <td>25</td>\n",
       "      <td>0.465497</td>\n",
       "      <td>0.378036</td>\n",
       "    </tr>\n",
       "    <tr>\n",
       "      <th>0</th>\n",
       "      <td>N/A</td>\n",
       "      <td>oversampled</td>\n",
       "      <td>tf_idf</td>\n",
       "      <td>None</td>\n",
       "      <td>0.5</td>\n",
       "      <td>25</td>\n",
       "      <td>0.444084</td>\n",
       "      <td>0.374556</td>\n",
       "    </tr>\n",
       "    <tr>\n",
       "      <th>0</th>\n",
       "      <td>N/A</td>\n",
       "      <td>random_downsampling</td>\n",
       "      <td>tf_idf</td>\n",
       "      <td>None</td>\n",
       "      <td>0.5</td>\n",
       "      <td>25</td>\n",
       "      <td>0.450326</td>\n",
       "      <td>0.373669</td>\n",
       "    </tr>\n",
       "    <tr>\n",
       "      <th>0</th>\n",
       "      <td>N/A</td>\n",
       "      <td>oversampled</td>\n",
       "      <td>count</td>\n",
       "      <td>None</td>\n",
       "      <td>0.5</td>\n",
       "      <td>25</td>\n",
       "      <td>0.455944</td>\n",
       "      <td>0.373277</td>\n",
       "    </tr>\n",
       "    <tr>\n",
       "      <th>0</th>\n",
       "      <td>N/A</td>\n",
       "      <td>random_downsampling</td>\n",
       "      <td>count</td>\n",
       "      <td>None</td>\n",
       "      <td>0.5</td>\n",
       "      <td>25</td>\n",
       "      <td>0.463871</td>\n",
       "      <td>0.372087</td>\n",
       "    </tr>\n",
       "    <tr>\n",
       "      <th>0</th>\n",
       "      <td>N/A</td>\n",
       "      <td>random_downsampling</td>\n",
       "      <td>count</td>\n",
       "      <td>None</td>\n",
       "      <td>0.1</td>\n",
       "      <td>25</td>\n",
       "      <td>0.423215</td>\n",
       "      <td>0.323615</td>\n",
       "    </tr>\n",
       "    <tr>\n",
       "      <th>0</th>\n",
       "      <td>N/A</td>\n",
       "      <td>oversampled</td>\n",
       "      <td>tf_idf</td>\n",
       "      <td>None</td>\n",
       "      <td>0.1</td>\n",
       "      <td>25</td>\n",
       "      <td>0.410104</td>\n",
       "      <td>0.323531</td>\n",
       "    </tr>\n",
       "    <tr>\n",
       "      <th>0</th>\n",
       "      <td>N/A</td>\n",
       "      <td>random_downsampling</td>\n",
       "      <td>tf_idf</td>\n",
       "      <td>None</td>\n",
       "      <td>0.1</td>\n",
       "      <td>25</td>\n",
       "      <td>0.414595</td>\n",
       "      <td>0.322856</td>\n",
       "    </tr>\n",
       "    <tr>\n",
       "      <th>0</th>\n",
       "      <td>N/A</td>\n",
       "      <td>oversampled</td>\n",
       "      <td>count</td>\n",
       "      <td>None</td>\n",
       "      <td>0.1</td>\n",
       "      <td>25</td>\n",
       "      <td>0.414652</td>\n",
       "      <td>0.322487</td>\n",
       "    </tr>\n",
       "    <tr>\n",
       "      <th>0</th>\n",
       "      <td>N/A</td>\n",
       "      <td>full</td>\n",
       "      <td>tf_idf</td>\n",
       "      <td>None</td>\n",
       "      <td>1</td>\n",
       "      <td>25</td>\n",
       "      <td>0.556984</td>\n",
       "      <td>0.297228</td>\n",
       "    </tr>\n",
       "    <tr>\n",
       "      <th>0</th>\n",
       "      <td>N/A</td>\n",
       "      <td>full</td>\n",
       "      <td>count</td>\n",
       "      <td>None</td>\n",
       "      <td>1</td>\n",
       "      <td>25</td>\n",
       "      <td>0.555614</td>\n",
       "      <td>0.293414</td>\n",
       "    </tr>\n",
       "    <tr>\n",
       "      <th>0</th>\n",
       "      <td>N/A</td>\n",
       "      <td>full</td>\n",
       "      <td>tf_idf</td>\n",
       "      <td>None</td>\n",
       "      <td>0.5</td>\n",
       "      <td>25</td>\n",
       "      <td>0.546142</td>\n",
       "      <td>0.241857</td>\n",
       "    </tr>\n",
       "    <tr>\n",
       "      <th>0</th>\n",
       "      <td>N/A</td>\n",
       "      <td>full</td>\n",
       "      <td>count</td>\n",
       "      <td>None</td>\n",
       "      <td>0.5</td>\n",
       "      <td>25</td>\n",
       "      <td>0.546363</td>\n",
       "      <td>0.239938</td>\n",
       "    </tr>\n",
       "    <tr>\n",
       "      <th>0</th>\n",
       "      <td>N/A</td>\n",
       "      <td>full</td>\n",
       "      <td>tf_idf</td>\n",
       "      <td>None</td>\n",
       "      <td>0.1</td>\n",
       "      <td>25</td>\n",
       "      <td>0.534352</td>\n",
       "      <td>0.203297</td>\n",
       "    </tr>\n",
       "    <tr>\n",
       "      <th>0</th>\n",
       "      <td>N/A</td>\n",
       "      <td>full</td>\n",
       "      <td>count</td>\n",
       "      <td>None</td>\n",
       "      <td>0.1</td>\n",
       "      <td>25</td>\n",
       "      <td>0.533966</td>\n",
       "      <td>0.202079</td>\n",
       "    </tr>\n",
       "    <tr>\n",
       "      <th>0</th>\n",
       "      <td>baseline</td>\n",
       "      <td>full</td>\n",
       "      <td>count</td>\n",
       "      <td>None</td>\n",
       "      <td>N/A</td>\n",
       "      <td>N/A</td>\n",
       "      <td>0.357346</td>\n",
       "      <td>0.200278</td>\n",
       "    </tr>\n",
       "  </tbody>\n",
       "</table>\n",
       "</div>"
      ],
      "text/plain": [
       "  classifier_type             sampling representation preprocessing  \\\n",
       "0             N/A          oversampled         tf_idf          None   \n",
       "0             N/A  random_downsampling         tf_idf          None   \n",
       "0             N/A          oversampled          count          None   \n",
       "0             N/A  random_downsampling          count          None   \n",
       "0             N/A          oversampled         tf_idf          None   \n",
       "0             N/A  random_downsampling         tf_idf          None   \n",
       "0             N/A          oversampled          count          None   \n",
       "0             N/A  random_downsampling          count          None   \n",
       "0             N/A  random_downsampling          count          None   \n",
       "0             N/A          oversampled         tf_idf          None   \n",
       "0             N/A  random_downsampling         tf_idf          None   \n",
       "0             N/A          oversampled          count          None   \n",
       "0             N/A                 full         tf_idf          None   \n",
       "0             N/A                 full          count          None   \n",
       "0             N/A                 full         tf_idf          None   \n",
       "0             N/A                 full          count          None   \n",
       "0             N/A                 full         tf_idf          None   \n",
       "0             N/A                 full          count          None   \n",
       "0        baseline                 full          count          None   \n",
       "\n",
       "  learning_rate n_estimators  real_world_acc     score  \n",
       "0             1           25        0.456451  0.379707  \n",
       "0             1           25        0.456024  0.379319  \n",
       "0             1           25        0.459462  0.378354  \n",
       "0             1           25        0.465497  0.378036  \n",
       "0           0.5           25        0.444084  0.374556  \n",
       "0           0.5           25        0.450326  0.373669  \n",
       "0           0.5           25        0.455944  0.373277  \n",
       "0           0.5           25        0.463871  0.372087  \n",
       "0           0.1           25        0.423215  0.323615  \n",
       "0           0.1           25        0.410104  0.323531  \n",
       "0           0.1           25        0.414595  0.322856  \n",
       "0           0.1           25        0.414652  0.322487  \n",
       "0             1           25        0.556984  0.297228  \n",
       "0             1           25        0.555614  0.293414  \n",
       "0           0.5           25        0.546142  0.241857  \n",
       "0           0.5           25        0.546363  0.239938  \n",
       "0           0.1           25        0.534352  0.203297  \n",
       "0           0.1           25        0.533966  0.202079  \n",
       "0           N/A          N/A        0.357346  0.200278  "
      ]
     },
     "execution_count": 6,
     "metadata": {},
     "output_type": "execute_result"
    }
   ],
   "source": [
    "results_df.sort_values('score', ascending=False)"
   ]
  },
  {
   "cell_type": "code",
   "execution_count": 7,
   "metadata": {},
   "outputs": [
    {
     "data": {
      "text/html": [
       "<div>\n",
       "<style scoped>\n",
       "    .dataframe tbody tr th:only-of-type {\n",
       "        vertical-align: middle;\n",
       "    }\n",
       "\n",
       "    .dataframe tbody tr th {\n",
       "        vertical-align: top;\n",
       "    }\n",
       "\n",
       "    .dataframe thead th {\n",
       "        text-align: right;\n",
       "    }\n",
       "</style>\n",
       "<table border=\"1\" class=\"dataframe\">\n",
       "  <thead>\n",
       "    <tr style=\"text-align: right;\">\n",
       "      <th></th>\n",
       "      <th>classifier_type</th>\n",
       "      <th>sampling</th>\n",
       "      <th>representation</th>\n",
       "      <th>preprocessing</th>\n",
       "      <th>learning_rate</th>\n",
       "      <th>n_estimators</th>\n",
       "      <th>real_world_acc</th>\n",
       "      <th>score</th>\n",
       "    </tr>\n",
       "  </thead>\n",
       "  <tbody>\n",
       "    <tr>\n",
       "      <th>0</th>\n",
       "      <td>N/A</td>\n",
       "      <td>full</td>\n",
       "      <td>tf_idf</td>\n",
       "      <td>None</td>\n",
       "      <td>1</td>\n",
       "      <td>25</td>\n",
       "      <td>0.556984</td>\n",
       "      <td>0.297228</td>\n",
       "    </tr>\n",
       "    <tr>\n",
       "      <th>0</th>\n",
       "      <td>N/A</td>\n",
       "      <td>full</td>\n",
       "      <td>count</td>\n",
       "      <td>None</td>\n",
       "      <td>1</td>\n",
       "      <td>25</td>\n",
       "      <td>0.555614</td>\n",
       "      <td>0.293414</td>\n",
       "    </tr>\n",
       "    <tr>\n",
       "      <th>0</th>\n",
       "      <td>N/A</td>\n",
       "      <td>full</td>\n",
       "      <td>count</td>\n",
       "      <td>None</td>\n",
       "      <td>0.5</td>\n",
       "      <td>25</td>\n",
       "      <td>0.546363</td>\n",
       "      <td>0.239938</td>\n",
       "    </tr>\n",
       "    <tr>\n",
       "      <th>0</th>\n",
       "      <td>N/A</td>\n",
       "      <td>full</td>\n",
       "      <td>tf_idf</td>\n",
       "      <td>None</td>\n",
       "      <td>0.5</td>\n",
       "      <td>25</td>\n",
       "      <td>0.546142</td>\n",
       "      <td>0.241857</td>\n",
       "    </tr>\n",
       "    <tr>\n",
       "      <th>0</th>\n",
       "      <td>N/A</td>\n",
       "      <td>full</td>\n",
       "      <td>tf_idf</td>\n",
       "      <td>None</td>\n",
       "      <td>0.1</td>\n",
       "      <td>25</td>\n",
       "      <td>0.534352</td>\n",
       "      <td>0.203297</td>\n",
       "    </tr>\n",
       "    <tr>\n",
       "      <th>0</th>\n",
       "      <td>N/A</td>\n",
       "      <td>full</td>\n",
       "      <td>count</td>\n",
       "      <td>None</td>\n",
       "      <td>0.1</td>\n",
       "      <td>25</td>\n",
       "      <td>0.533966</td>\n",
       "      <td>0.202079</td>\n",
       "    </tr>\n",
       "    <tr>\n",
       "      <th>0</th>\n",
       "      <td>N/A</td>\n",
       "      <td>random_downsampling</td>\n",
       "      <td>count</td>\n",
       "      <td>None</td>\n",
       "      <td>1</td>\n",
       "      <td>25</td>\n",
       "      <td>0.465497</td>\n",
       "      <td>0.378036</td>\n",
       "    </tr>\n",
       "    <tr>\n",
       "      <th>0</th>\n",
       "      <td>N/A</td>\n",
       "      <td>random_downsampling</td>\n",
       "      <td>count</td>\n",
       "      <td>None</td>\n",
       "      <td>0.5</td>\n",
       "      <td>25</td>\n",
       "      <td>0.463871</td>\n",
       "      <td>0.372087</td>\n",
       "    </tr>\n",
       "    <tr>\n",
       "      <th>0</th>\n",
       "      <td>N/A</td>\n",
       "      <td>oversampled</td>\n",
       "      <td>count</td>\n",
       "      <td>None</td>\n",
       "      <td>1</td>\n",
       "      <td>25</td>\n",
       "      <td>0.459462</td>\n",
       "      <td>0.378354</td>\n",
       "    </tr>\n",
       "    <tr>\n",
       "      <th>0</th>\n",
       "      <td>N/A</td>\n",
       "      <td>oversampled</td>\n",
       "      <td>tf_idf</td>\n",
       "      <td>None</td>\n",
       "      <td>1</td>\n",
       "      <td>25</td>\n",
       "      <td>0.456451</td>\n",
       "      <td>0.379707</td>\n",
       "    </tr>\n",
       "    <tr>\n",
       "      <th>0</th>\n",
       "      <td>N/A</td>\n",
       "      <td>random_downsampling</td>\n",
       "      <td>tf_idf</td>\n",
       "      <td>None</td>\n",
       "      <td>1</td>\n",
       "      <td>25</td>\n",
       "      <td>0.456024</td>\n",
       "      <td>0.379319</td>\n",
       "    </tr>\n",
       "    <tr>\n",
       "      <th>0</th>\n",
       "      <td>N/A</td>\n",
       "      <td>oversampled</td>\n",
       "      <td>count</td>\n",
       "      <td>None</td>\n",
       "      <td>0.5</td>\n",
       "      <td>25</td>\n",
       "      <td>0.455944</td>\n",
       "      <td>0.373277</td>\n",
       "    </tr>\n",
       "    <tr>\n",
       "      <th>0</th>\n",
       "      <td>N/A</td>\n",
       "      <td>random_downsampling</td>\n",
       "      <td>tf_idf</td>\n",
       "      <td>None</td>\n",
       "      <td>0.5</td>\n",
       "      <td>25</td>\n",
       "      <td>0.450326</td>\n",
       "      <td>0.373669</td>\n",
       "    </tr>\n",
       "    <tr>\n",
       "      <th>0</th>\n",
       "      <td>N/A</td>\n",
       "      <td>oversampled</td>\n",
       "      <td>tf_idf</td>\n",
       "      <td>None</td>\n",
       "      <td>0.5</td>\n",
       "      <td>25</td>\n",
       "      <td>0.444084</td>\n",
       "      <td>0.374556</td>\n",
       "    </tr>\n",
       "    <tr>\n",
       "      <th>0</th>\n",
       "      <td>N/A</td>\n",
       "      <td>random_downsampling</td>\n",
       "      <td>count</td>\n",
       "      <td>None</td>\n",
       "      <td>0.1</td>\n",
       "      <td>25</td>\n",
       "      <td>0.423215</td>\n",
       "      <td>0.323615</td>\n",
       "    </tr>\n",
       "    <tr>\n",
       "      <th>0</th>\n",
       "      <td>N/A</td>\n",
       "      <td>oversampled</td>\n",
       "      <td>count</td>\n",
       "      <td>None</td>\n",
       "      <td>0.1</td>\n",
       "      <td>25</td>\n",
       "      <td>0.414652</td>\n",
       "      <td>0.322487</td>\n",
       "    </tr>\n",
       "    <tr>\n",
       "      <th>0</th>\n",
       "      <td>N/A</td>\n",
       "      <td>random_downsampling</td>\n",
       "      <td>tf_idf</td>\n",
       "      <td>None</td>\n",
       "      <td>0.1</td>\n",
       "      <td>25</td>\n",
       "      <td>0.414595</td>\n",
       "      <td>0.322856</td>\n",
       "    </tr>\n",
       "    <tr>\n",
       "      <th>0</th>\n",
       "      <td>N/A</td>\n",
       "      <td>oversampled</td>\n",
       "      <td>tf_idf</td>\n",
       "      <td>None</td>\n",
       "      <td>0.1</td>\n",
       "      <td>25</td>\n",
       "      <td>0.410104</td>\n",
       "      <td>0.323531</td>\n",
       "    </tr>\n",
       "    <tr>\n",
       "      <th>0</th>\n",
       "      <td>baseline</td>\n",
       "      <td>full</td>\n",
       "      <td>count</td>\n",
       "      <td>None</td>\n",
       "      <td>N/A</td>\n",
       "      <td>N/A</td>\n",
       "      <td>0.357346</td>\n",
       "      <td>0.200278</td>\n",
       "    </tr>\n",
       "  </tbody>\n",
       "</table>\n",
       "</div>"
      ],
      "text/plain": [
       "  classifier_type             sampling representation preprocessing  \\\n",
       "0             N/A                 full         tf_idf          None   \n",
       "0             N/A                 full          count          None   \n",
       "0             N/A                 full          count          None   \n",
       "0             N/A                 full         tf_idf          None   \n",
       "0             N/A                 full         tf_idf          None   \n",
       "0             N/A                 full          count          None   \n",
       "0             N/A  random_downsampling          count          None   \n",
       "0             N/A  random_downsampling          count          None   \n",
       "0             N/A          oversampled          count          None   \n",
       "0             N/A          oversampled         tf_idf          None   \n",
       "0             N/A  random_downsampling         tf_idf          None   \n",
       "0             N/A          oversampled          count          None   \n",
       "0             N/A  random_downsampling         tf_idf          None   \n",
       "0             N/A          oversampled         tf_idf          None   \n",
       "0             N/A  random_downsampling          count          None   \n",
       "0             N/A          oversampled          count          None   \n",
       "0             N/A  random_downsampling         tf_idf          None   \n",
       "0             N/A          oversampled         tf_idf          None   \n",
       "0        baseline                 full          count          None   \n",
       "\n",
       "  learning_rate n_estimators  real_world_acc     score  \n",
       "0             1           25        0.556984  0.297228  \n",
       "0             1           25        0.555614  0.293414  \n",
       "0           0.5           25        0.546363  0.239938  \n",
       "0           0.5           25        0.546142  0.241857  \n",
       "0           0.1           25        0.534352  0.203297  \n",
       "0           0.1           25        0.533966  0.202079  \n",
       "0             1           25        0.465497  0.378036  \n",
       "0           0.5           25        0.463871  0.372087  \n",
       "0             1           25        0.459462  0.378354  \n",
       "0             1           25        0.456451  0.379707  \n",
       "0             1           25        0.456024  0.379319  \n",
       "0           0.5           25        0.455944  0.373277  \n",
       "0           0.5           25        0.450326  0.373669  \n",
       "0           0.5           25        0.444084  0.374556  \n",
       "0           0.1           25        0.423215  0.323615  \n",
       "0           0.1           25        0.414652  0.322487  \n",
       "0           0.1           25        0.414595  0.322856  \n",
       "0           0.1           25        0.410104  0.323531  \n",
       "0           N/A          N/A        0.357346  0.200278  "
      ]
     },
     "execution_count": 7,
     "metadata": {},
     "output_type": "execute_result"
    }
   ],
   "source": [
    "results_df.sort_values('real_world_acc', ascending=False)"
   ]
  },
  {
   "cell_type": "markdown",
   "metadata": {},
   "source": [
    "# Winner re-training"
   ]
  },
  {
   "cell_type": "code",
   "execution_count": null,
   "metadata": {},
   "outputs": [
    {
     "name": "stderr",
     "output_type": "stream",
     "text": [
      "/home/asgavar/.local/lib/python3.8/site-packages/numpy/lib/arraysetops.py:569: FutureWarning: elementwise comparison failed; returning scalar instead, but in the future will perform elementwise comparison\n",
      "  mask |= (ar1 == a)\n"
     ]
    }
   ],
   "source": [
    "N_ESTIMATORS = 1_000\n",
    "sampling = 'oversampled'\n",
    "representation = 'tf_idf'\n",
    "preprocessing = None\n",
    "learning_rate = 1\n",
    "\n",
    "train_as_vec, train_targets, test_as_vec, test_targets = common.load_dataset(sampling, representation, None)\n",
    "classifier = sklearn.ensemble.AdaBoostClassifier(n_estimators=N_ESTIMATORS, learning_rate=learning_rate)\n",
    "classifier.fit(train_as_vec, train_targets)"
   ]
  },
  {
   "cell_type": "code",
   "execution_count": 30,
   "metadata": {},
   "outputs": [],
   "source": [
    "results_df = results_df.append([\n",
    "    common.perf_row(\n",
    "        best_ada, test_as_vec, test_targets,\n",
    "        'N/A', sampling, representation, \n",
    "        None, n_estimators=N_ESTIMATORS, learning_rate=learning_rate)])"
   ]
  },
  {
   "cell_type": "code",
   "execution_count": 31,
   "metadata": {},
   "outputs": [
    {
     "data": {
      "text/html": [
       "<div>\n",
       "<style scoped>\n",
       "    .dataframe tbody tr th:only-of-type {\n",
       "        vertical-align: middle;\n",
       "    }\n",
       "\n",
       "    .dataframe tbody tr th {\n",
       "        vertical-align: top;\n",
       "    }\n",
       "\n",
       "    .dataframe thead th {\n",
       "        text-align: right;\n",
       "    }\n",
       "</style>\n",
       "<table border=\"1\" class=\"dataframe\">\n",
       "  <thead>\n",
       "    <tr style=\"text-align: right;\">\n",
       "      <th></th>\n",
       "      <th>classifier_type</th>\n",
       "      <th>sampling</th>\n",
       "      <th>representation</th>\n",
       "      <th>preprocessing</th>\n",
       "      <th>learning_rate</th>\n",
       "      <th>n_estimators</th>\n",
       "      <th>real_world_acc</th>\n",
       "      <th>score</th>\n",
       "      <th>order_aware_error_1</th>\n",
       "      <th>order_aware_error_2</th>\n",
       "      <th>order_aware_error_3</th>\n",
       "      <th>order_aware_error_4</th>\n",
       "      <th>order_aware_error_5</th>\n",
       "      <th>order_aware_error_avg</th>\n",
       "    </tr>\n",
       "  </thead>\n",
       "  <tbody>\n",
       "    <tr>\n",
       "      <th>0</th>\n",
       "      <td>baseline</td>\n",
       "      <td>full</td>\n",
       "      <td>count</td>\n",
       "      <td>None</td>\n",
       "      <td>N/A</td>\n",
       "      <td>N/A</td>\n",
       "      <td>0.357756</td>\n",
       "      <td>0.199630</td>\n",
       "      <td>NaN</td>\n",
       "      <td>NaN</td>\n",
       "      <td>NaN</td>\n",
       "      <td>NaN</td>\n",
       "      <td>NaN</td>\n",
       "      <td>NaN</td>\n",
       "    </tr>\n",
       "    <tr>\n",
       "      <th>0</th>\n",
       "      <td>N/A</td>\n",
       "      <td>oversampled</td>\n",
       "      <td>tf_idf</td>\n",
       "      <td>None</td>\n",
       "      <td>1</td>\n",
       "      <td>1000</td>\n",
       "      <td>0.570877</td>\n",
       "      <td>0.510199</td>\n",
       "      <td>NaN</td>\n",
       "      <td>NaN</td>\n",
       "      <td>NaN</td>\n",
       "      <td>NaN</td>\n",
       "      <td>NaN</td>\n",
       "      <td>NaN</td>\n",
       "    </tr>\n",
       "    <tr>\n",
       "      <th>0</th>\n",
       "      <td>N/A</td>\n",
       "      <td>oversampled</td>\n",
       "      <td>tf_idf</td>\n",
       "      <td>None</td>\n",
       "      <td>1</td>\n",
       "      <td>1000</td>\n",
       "      <td>0.570877</td>\n",
       "      <td>0.510199</td>\n",
       "      <td>1.830312</td>\n",
       "      <td>1.277904</td>\n",
       "      <td>1.316928</td>\n",
       "      <td>1.227841</td>\n",
       "      <td>1.716943</td>\n",
       "      <td>1.473986</td>\n",
       "    </tr>\n",
       "  </tbody>\n",
       "</table>\n",
       "</div>"
      ],
      "text/plain": [
       "  classifier_type     sampling representation preprocessing learning_rate  \\\n",
       "0        baseline         full          count          None           N/A   \n",
       "0             N/A  oversampled         tf_idf          None             1   \n",
       "0             N/A  oversampled         tf_idf          None             1   \n",
       "\n",
       "  n_estimators  real_world_acc     score  order_aware_error_1  \\\n",
       "0          N/A        0.357756  0.199630                  NaN   \n",
       "0         1000        0.570877  0.510199                  NaN   \n",
       "0         1000        0.570877  0.510199             1.830312   \n",
       "\n",
       "   order_aware_error_2  order_aware_error_3  order_aware_error_4  \\\n",
       "0                  NaN                  NaN                  NaN   \n",
       "0                  NaN                  NaN                  NaN   \n",
       "0             1.277904             1.316928             1.227841   \n",
       "\n",
       "   order_aware_error_5  order_aware_error_avg  \n",
       "0                  NaN                    NaN  \n",
       "0                  NaN                    NaN  \n",
       "0             1.716943               1.473986  "
      ]
     },
     "execution_count": 31,
     "metadata": {},
     "output_type": "execute_result"
    }
   ],
   "source": [
    "results_df"
   ]
  },
  {
   "cell_type": "code",
   "execution_count": 9,
   "metadata": {},
   "outputs": [],
   "source": [
    "best_ada = classifier"
   ]
  },
  {
   "cell_type": "code",
   "execution_count": 29,
   "metadata": {},
   "outputs": [
    {
     "name": "stdout",
     "output_type": "stream",
     "text": [
      "SCORE: 0.5101993972055945\n",
      "[[0.67025297 0.18822304 0.06324233 0.02429431 0.05398735]\n",
      " [0.28248676 0.39662679 0.20584428 0.06240439 0.05263777]\n",
      " [0.09196632 0.19556216 0.38450718 0.22486379 0.10310054]\n",
      " [0.04065455 0.05287796 0.19403497 0.41104997 0.30138255]\n",
      " [0.03976778 0.02205541 0.05987037 0.18974635 0.68856008]]\n"
     ]
    },
    {
     "data": {
      "image/png": "[encoded data removed]",
      "text/plain": [
       "<Figure size 432x288 with 2 Axes>"
      ]
     },
     "metadata": {
      "needs_background": "light"
     },
     "output_type": "display_data"
    }
   ],
   "source": [
    "common.display_classifier_performance(best_ada, test_as_vec, test_targets)"
   ]
  },
  {
   "cell_type": "markdown",
   "metadata": {},
   "source": [
    "## Word importance"
   ]
  },
  {
   "cell_type": "code",
   "execution_count": 19,
   "metadata": {},
   "outputs": [
    {
     "data": {
      "text/plain": [
       "array([268723, 107436, 264611, 426698,  70812, 178019, 397765, 367713,\n",
       "       657602,  45867, 470636, 660953, 599185, 656960, 427082, 679973,\n",
       "       580427, 607883,  67897, 227899, 424122, 435118, 601759, 671538,\n",
       "        95949, 333185, 616418, 217932, 673632, 249221, 665487, 402766,\n",
       "       321351, 470679, 659459, 420625, 151758,  85058, 413549, 367834,\n",
       "       476999, 132823, 289734, 181511, 208435, 181490, 532025, 323015,\n",
       "        84529, 215776,  30511,  67772, 181456, 571696, 635681, 421830,\n",
       "       673564, 445092, 666770, 187979, 322314, 208353,  95769, 209529,\n",
       "        88441, 360438, 657416, 622569, 303984, 467551, 575126, 196157,\n",
       "       126049, 141319, 512554, 649476, 573081,  42178, 466981, 446042,\n",
       "       226930, 460764, 287631, 110827, 197494, 637139, 389133, 316092,\n",
       "       637142, 261524, 188329, 551756, 170342, 404351, 363185, 277066,\n",
       "       499079, 435703, 554345, 411132])"
      ]
     },
     "execution_count": 19,
     "metadata": {},
     "output_type": "execute_result"
    }
   ],
   "source": [
    "np.argsort(best_ada.feature_importances_)[::-1][:100]"
   ]
  },
  {
   "cell_type": "markdown",
   "metadata": {},
   "source": [
    "## Boosting score increase"
   ]
  },
  {
   "cell_type": "code",
   "execution_count": 24,
   "metadata": {
    "collapsed": true,
    "jupyter": {
     "outputs_hidden": true
    }
   },
   "outputs": [
    {
     "data": {
      "text/plain": [
       "array([0.22099112, 0.28306871, 0.29711779, 0.30026303, 0.31518395,\n",
       "       0.32504792, 0.33134019, 0.33368791, 0.3363466 , 0.34114058,\n",
       "       0.34463307, 0.34608783, 0.35243397, 0.35120324, 0.35412651,\n",
       "       0.35659963, 0.35886721, 0.36690495, 0.36935311, 0.37069892,\n",
       "       0.37273959, 0.37512772, 0.37670065, 0.37905941, 0.37970706,\n",
       "       0.38175214, 0.38321833, 0.38435333, 0.3863881 , 0.388258  ,\n",
       "       0.38920169, 0.39151647, 0.39281928, 0.39466662, 0.3955769 ,\n",
       "       0.39612154, 0.39817516, 0.39990053, 0.39974025, 0.40237078,\n",
       "       0.40300868, 0.40452868, 0.40647517, 0.40752821, 0.40936125,\n",
       "       0.41018809, 0.41031967, 0.41076255, 0.41204526, 0.41264755,\n",
       "       0.41524459, 0.41514564, 0.41670317, 0.41713395, 0.41818109,\n",
       "       0.41917495, 0.41995377, 0.42150415, 0.4228146 , 0.4237988 ,\n",
       "       0.42484751, 0.42567616, 0.42647222, 0.42763987, 0.42840811,\n",
       "       0.43033551, 0.43046334, 0.43157547, 0.43247126, 0.43328341,\n",
       "       0.43366454, 0.43490949, 0.43584643, 0.43579953, 0.43658576,\n",
       "       0.43678441, 0.43791406, 0.43824915, 0.43873885, 0.43903596,\n",
       "       0.43938941, 0.43964748, 0.4394065 , 0.44034105, 0.44048517,\n",
       "       0.44089776, 0.44146626, 0.44165641, 0.44311141, 0.44384666,\n",
       "       0.4438328 , 0.44449083, 0.44500467, 0.44611329, 0.44668707,\n",
       "       0.44707659, 0.44786372, 0.44842454, 0.44878005, 0.448909  ,\n",
       "       0.44938439, 0.44943243, 0.45006219, 0.4505351 , 0.45130711,\n",
       "       0.45183495, 0.45237909, 0.45272149, 0.45307477, 0.45374357,\n",
       "       0.45388748, 0.45425242, 0.45459283, 0.45558584, 0.45604491,\n",
       "       0.45601953, 0.45641456, 0.45661786, 0.45700382, 0.45755969,\n",
       "       0.45752922, 0.45778036, 0.45823209, 0.45839251, 0.45882588,\n",
       "       0.45899615, 0.45954869, 0.45977973, 0.45998221, 0.46020184,\n",
       "       0.46044152, 0.46029119, 0.46097279, 0.46124664, 0.46182852,\n",
       "       0.46194976, 0.4621455 , 0.46245092, 0.46250966, 0.46282513,\n",
       "       0.46293288, 0.46323857, 0.46393497, 0.4639978 , 0.46402777,\n",
       "       0.4643541 , 0.46452856, 0.46480442, 0.46497992, 0.4650748 ,\n",
       "       0.46488065, 0.46545167, 0.46544619, 0.4658112 , 0.46582881,\n",
       "       0.46621315, 0.46623087, 0.46657441, 0.46690048, 0.46714735,\n",
       "       0.46719576, 0.46754233, 0.46759788, 0.46791301, 0.46825526,\n",
       "       0.46846042, 0.46884529, 0.46918164, 0.46953336, 0.46989017,\n",
       "       0.47030607, 0.4705379 , 0.47054513, 0.47051288, 0.47083033,\n",
       "       0.47116501, 0.47146365, 0.47149599, 0.47194884, 0.47217125,\n",
       "       0.47230899, 0.47238182, 0.47258726, 0.47280279, 0.47304462,\n",
       "       0.47309599, 0.47330126, 0.47356039, 0.47370433, 0.47387617,\n",
       "       0.47444542, 0.47424088, 0.4743667 , 0.47438572, 0.47451821,\n",
       "       0.47453722, 0.47476835, 0.47479369, 0.47486472, 0.47487738,\n",
       "       0.47514659, 0.475277  , 0.47519183, 0.47544307, 0.47549917,\n",
       "       0.47568618, 0.4758718 , 0.4761011 , 0.47634611, 0.47665242,\n",
       "       0.4769351 , 0.47710768, 0.47731017, 0.47746795, 0.47739676,\n",
       "       0.47756169, 0.47761791, 0.47817146, 0.47825863, 0.47832667,\n",
       "       0.47837415, 0.47842617, 0.47845908, 0.47849578, 0.47846176,\n",
       "       0.47886271, 0.47909247, 0.47928192, 0.479556  , 0.47970226,\n",
       "       0.4798606 , 0.47988942, 0.4799435 , 0.48009231, 0.48032352,\n",
       "       0.48039088, 0.48034326, 0.48023024, 0.48029005, 0.48053042,\n",
       "       0.48073026, 0.48072078, 0.48076092, 0.48063595, 0.48096475,\n",
       "       0.48102722, 0.48106237, 0.48088781, 0.48124706, 0.48126439,\n",
       "       0.48203468, 0.48200169, 0.48230617, 0.48230741, 0.48225375,\n",
       "       0.48249642, 0.48260567, 0.48266482, 0.48282571, 0.48276964,\n",
       "       0.48290591, 0.48292086, 0.48323184, 0.48351894, 0.48354965,\n",
       "       0.48369565, 0.48388859, 0.48380421, 0.48365863, 0.48380731,\n",
       "       0.48421635, 0.4843431 , 0.4841514 , 0.48430107, 0.48428887,\n",
       "       0.4845538 , 0.48458551, 0.48483651, 0.48482228, 0.48483735,\n",
       "       0.48500363, 0.48518591, 0.48531472, 0.48536613, 0.48533854,\n",
       "       0.48552532, 0.48547562, 0.48564673, 0.48569777, 0.48591964,\n",
       "       0.48600904, 0.48600514, 0.48633096, 0.48651008, 0.48654518,\n",
       "       0.48653785, 0.48680984, 0.48696217, 0.48711987, 0.48722686,\n",
       "       0.48731543, 0.48727884, 0.48748016, 0.48768112, 0.48743177,\n",
       "       0.48735453, 0.48745599, 0.48765904, 0.48794847, 0.48779441,\n",
       "       0.48796423, 0.48787032, 0.4880493 , 0.48805554, 0.48809443,\n",
       "       0.48833706, 0.48857254, 0.48843909, 0.48844541, 0.48873854,\n",
       "       0.48903718, 0.48902752, 0.48920672, 0.48933987, 0.48924622,\n",
       "       0.48920264, 0.48915068, 0.4892227 , 0.48955593, 0.48964046,\n",
       "       0.48954052, 0.48962906, 0.48974423, 0.48987537, 0.49008791,\n",
       "       0.49008875, 0.49004713, 0.49034887, 0.49041572, 0.49054999,\n",
       "       0.49046966, 0.49056231, 0.49057632, 0.49063041, 0.49056222,\n",
       "       0.49046658, 0.49056356, 0.49054574, 0.49056429, 0.49069038,\n",
       "       0.49066255, 0.49072553, 0.4907912 , 0.49083726, 0.4909045 ,\n",
       "       0.49097095, 0.491025  , 0.49116474, 0.49125859, 0.49123171,\n",
       "       0.49146068, 0.49143979, 0.49144558, 0.49151315, 0.49186541,\n",
       "       0.49190508, 0.49195896, 0.49196306, 0.49196564, 0.49213361,\n",
       "       0.49208615, 0.49214834, 0.49216121, 0.49214722, 0.49225334,\n",
       "       0.49240036, 0.49244655, 0.49272715, 0.49275766, 0.49279208,\n",
       "       0.49298527, 0.49297875, 0.49294282, 0.49312461, 0.49314404,\n",
       "       0.4931178 , 0.49318933, 0.49325971, 0.49327717, 0.49337314,\n",
       "       0.49328232, 0.49338892, 0.49343489, 0.49361572, 0.49361452,\n",
       "       0.49358632, 0.49357933, 0.49363481, 0.49358885, 0.49371996,\n",
       "       0.4937614 , 0.49385348, 0.49374946, 0.49377945, 0.49389109,\n",
       "       0.49401031, 0.49413962, 0.4941651 , 0.49434072, 0.49449362,\n",
       "       0.49459431, 0.49472979, 0.49476689, 0.49479883, 0.49476259,\n",
       "       0.49492219, 0.49488192, 0.49492559, 0.49498045, 0.4949995 ,\n",
       "       0.49510359, 0.49520758, 0.49514118, 0.49505208, 0.49502032,\n",
       "       0.49514839, 0.49491756, 0.49493258, 0.49508413, 0.49516915,\n",
       "       0.49518472, 0.49545347, 0.49573194, 0.4957261 , 0.49575747,\n",
       "       0.4957763 , 0.49607714, 0.49576243, 0.49618138, 0.49600506,\n",
       "       0.49616684, 0.49607762, 0.49600496, 0.49587492, 0.49606234,\n",
       "       0.49605223, 0.49595628, 0.49594273, 0.49597154, 0.49606288,\n",
       "       0.49608614, 0.49615754, 0.49611232, 0.49625275, 0.49621952,\n",
       "       0.49658957, 0.49656871, 0.49658365, 0.49656219, 0.49661296,\n",
       "       0.4965546 , 0.49659171, 0.49665424, 0.49668862, 0.49680763,\n",
       "       0.49679695, 0.49688727, 0.49700799, 0.49699354, 0.49699105,\n",
       "       0.49690665, 0.49692773, 0.49688224, 0.49697837, 0.4969792 ,\n",
       "       0.49701057, 0.49711971, 0.49708973, 0.4971123 , 0.49707965,\n",
       "       0.49713137, 0.4972567 , 0.4972768 , 0.49728696, 0.49729632,\n",
       "       0.49729877, 0.49752482, 0.49745048, 0.49751758, 0.49746377,\n",
       "       0.49745996, 0.49755181, 0.49769609, 0.49769927, 0.49760222,\n",
       "       0.49769877, 0.49772069, 0.49773543, 0.49747485, 0.49750461,\n",
       "       0.49748852, 0.497486  , 0.49750988, 0.49750884, 0.49760376,\n",
       "       0.49779906, 0.49764726, 0.49763823, 0.49793378, 0.49792413,\n",
       "       0.49795989, 0.49791793, 0.49808968, 0.49815216, 0.4981909 ,\n",
       "       0.49819122, 0.49809711, 0.49821004, 0.49840233, 0.49854484,\n",
       "       0.49854859, 0.49861765, 0.49860677, 0.49880967, 0.49890291,\n",
       "       0.49903168, 0.49904944, 0.49914405, 0.49923805, 0.4992123 ,\n",
       "       0.49922568, 0.49929048, 0.49940557, 0.49939658, 0.49940682,\n",
       "       0.49948659, 0.49949283, 0.49950836, 0.49952213, 0.49957353,\n",
       "       0.49960024, 0.49960693, 0.49966502, 0.49976586, 0.49968429,\n",
       "       0.49975415, 0.49993802, 0.50002397, 0.50001   , 0.50009828,\n",
       "       0.50011319, 0.49981843, 0.49994181, 0.49999849, 0.50000194,\n",
       "       0.5000043 , 0.50014185, 0.50016244, 0.50017665, 0.50022317,\n",
       "       0.5000528 , 0.49982345, 0.49965737, 0.49968363, 0.49965273,\n",
       "       0.49957655, 0.50004152, 0.50011876, 0.50022118, 0.50031764,\n",
       "       0.50031422, 0.50062857, 0.50061293, 0.5007246 , 0.50073293,\n",
       "       0.5007174 , 0.50066724, 0.50059988, 0.50088033, 0.50090051,\n",
       "       0.50097634, 0.50095846, 0.50097614, 0.50098567, 0.50111083,\n",
       "       0.50113159, 0.50110985, 0.50114794, 0.50116959, 0.5011669 ,\n",
       "       0.50119935, 0.50133546, 0.50141024, 0.50151586, 0.50154213,\n",
       "       0.50152645, 0.50157936, 0.50155448, 0.50160962, 0.50158047,\n",
       "       0.50158174, 0.50156748, 0.50154271, 0.5015258 , 0.50156492,\n",
       "       0.5016391 , 0.5016459 , 0.50170296, 0.50174252, 0.50168971,\n",
       "       0.50185025, 0.50153473, 0.50161475, 0.5017717 , 0.50166636,\n",
       "       0.5018251 , 0.50200829, 0.50199576, 0.50201474, 0.50199329,\n",
       "       0.50198184, 0.50204752, 0.50203233, 0.50215154, 0.50224678,\n",
       "       0.50222213, 0.50204093, 0.50205658, 0.50208731, 0.50200889,\n",
       "       0.50213991, 0.50215099, 0.50207442, 0.50207664, 0.50206975,\n",
       "       0.50206913, 0.50218404, 0.50216697, 0.50214171, 0.50219006,\n",
       "       0.50230802, 0.50229008, 0.50228879, 0.50223809, 0.50223624,\n",
       "       0.5022795 , 0.50224283, 0.50228394, 0.50233231, 0.50239048,\n",
       "       0.50240196, 0.50242438, 0.50241451, 0.50247801, 0.50251808,\n",
       "       0.50249562, 0.50260611, 0.50261791, 0.50270339, 0.50282454,\n",
       "       0.50284159, 0.50289373, 0.50290448, 0.50292394, 0.50298939,\n",
       "       0.50299937, 0.50307459, 0.50304152, 0.50320187, 0.50316501,\n",
       "       0.50319763, 0.503201  , 0.50317145, 0.50316202, 0.50333816,\n",
       "       0.50332661, 0.50333685, 0.50348719, 0.50349745, 0.5034748 ,\n",
       "       0.50350308, 0.50349183, 0.50353746, 0.50348514, 0.50358412,\n",
       "       0.50364068, 0.50354671, 0.50349663, 0.50358034, 0.50364558,\n",
       "       0.50364327, 0.5035865 , 0.50362572, 0.50364959, 0.50369174,\n",
       "       0.50371763, 0.50380308, 0.50393896, 0.50392845, 0.50396668,\n",
       "       0.50397566, 0.50398695, 0.50394104, 0.50404947, 0.50403075,\n",
       "       0.50399194, 0.50397808, 0.50400568, 0.50402092, 0.50404274,\n",
       "       0.50408302, 0.50419905, 0.50424172, 0.50432159, 0.50434531,\n",
       "       0.50436128, 0.50453627, 0.50455387, 0.50457449, 0.50459264,\n",
       "       0.50449818, 0.50454754, 0.50461937, 0.5046207 , 0.5046084 ,\n",
       "       0.50466208, 0.5046457 , 0.50464311, 0.50463535, 0.50455029,\n",
       "       0.50452056, 0.50453433, 0.50461231, 0.50462056, 0.50474184,\n",
       "       0.50485282, 0.50493851, 0.50481732, 0.50479903, 0.50485877,\n",
       "       0.50495553, 0.50495338, 0.5049636 , 0.50493801, 0.50467453,\n",
       "       0.50480963, 0.50502269, 0.50499884, 0.50512244, 0.50510556,\n",
       "       0.50510145, 0.50509517, 0.50513253, 0.50513531, 0.50518305,\n",
       "       0.50515053, 0.50510752, 0.50516012, 0.50520902, 0.50520334,\n",
       "       0.50517735, 0.50518092, 0.5049116 , 0.50490537, 0.50501083,\n",
       "       0.50500617, 0.50521687, 0.50531638, 0.50532831, 0.50533481,\n",
       "       0.50536796, 0.50540386, 0.50550367, 0.50548197, 0.505452  ,\n",
       "       0.50544168, 0.50561467, 0.50557801, 0.5056308 , 0.5058161 ,\n",
       "       0.50579139, 0.50573613, 0.50577518, 0.50574818, 0.50591334,\n",
       "       0.50592131, 0.50585417, 0.50588915, 0.50584751, 0.50605977,\n",
       "       0.50603178, 0.50597158, 0.50586078, 0.505854  , 0.50587431,\n",
       "       0.50589649, 0.50591716, 0.50569704, 0.50566792, 0.50567305,\n",
       "       0.50571881, 0.5057226 , 0.5058185 , 0.50615429, 0.50614406,\n",
       "       0.50613966, 0.506213  , 0.50602433, 0.50627992, 0.50615509,\n",
       "       0.506225  , 0.50624254, 0.50625851, 0.50623352, 0.50631399,\n",
       "       0.50628809, 0.5065524 , 0.50657629, 0.50654159, 0.50656129,\n",
       "       0.50657359, 0.50660778, 0.50669505, 0.50663504, 0.50667228,\n",
       "       0.50666481, 0.5066884 , 0.50686757, 0.50687785, 0.50698909,\n",
       "       0.50695483, 0.50698597, 0.50703785, 0.50695707, 0.50701541,\n",
       "       0.50703707, 0.50708599, 0.50707436, 0.50707647, 0.50712762,\n",
       "       0.50715122, 0.50710078, 0.50713277, 0.50708352, 0.50712389,\n",
       "       0.50735674, 0.50723828, 0.50726512, 0.50714714, 0.50721764,\n",
       "       0.50725403, 0.50730773, 0.50732807, 0.50745779, 0.50743078,\n",
       "       0.50740397, 0.50740361, 0.50751587, 0.50757981, 0.50755789,\n",
       "       0.50756631, 0.50759863, 0.50763677, 0.50765541, 0.50772508,\n",
       "       0.50757468, 0.50754591, 0.50756734, 0.50758788, 0.50758528,\n",
       "       0.50761518, 0.50761194, 0.50772772, 0.50773622, 0.50773701,\n",
       "       0.50787425, 0.50786773, 0.50787255, 0.50788437, 0.50786698,\n",
       "       0.5078477 , 0.50788234, 0.50788833, 0.5079761 , 0.50791216,\n",
       "       0.50797044, 0.50797219, 0.50806633, 0.50806798, 0.50805348,\n",
       "       0.50802318, 0.5079638 , 0.50797751, 0.5079717 , 0.50799066,\n",
       "       0.50799211, 0.50806893, 0.50807069, 0.50808835, 0.50809616,\n",
       "       0.50810354, 0.50820902, 0.50820872, 0.50826901, 0.50826078,\n",
       "       0.50824527, 0.50824345, 0.50825691, 0.50829402, 0.5083304 ,\n",
       "       0.50835578, 0.50838083, 0.50840509, 0.5084399 , 0.50846444,\n",
       "       0.50845878, 0.50846996, 0.50850545, 0.50852373, 0.50862862,\n",
       "       0.50866854, 0.50870001, 0.50873989, 0.50873583, 0.50876426,\n",
       "       0.50884151, 0.50879388, 0.50879463, 0.50880065, 0.5087149 ,\n",
       "       0.50866982, 0.50874617, 0.5087122 , 0.50875659, 0.50874325,\n",
       "       0.50875903, 0.50875447, 0.50881318, 0.50871029, 0.50873512,\n",
       "       0.50871735, 0.50871348, 0.50882723, 0.50885644, 0.50884571,\n",
       "       0.50869113, 0.508851  , 0.50885213, 0.50887976, 0.50885839,\n",
       "       0.50900168, 0.50899683, 0.50900151, 0.509132  , 0.50920713,\n",
       "       0.50924559, 0.50912368, 0.50921633, 0.50922708, 0.50922613,\n",
       "       0.50922521, 0.50924267, 0.50930409, 0.50931513, 0.5093198 ,\n",
       "       0.50936497, 0.50944881, 0.50948969, 0.50945773, 0.50953956,\n",
       "       0.50958222, 0.50960909, 0.50961985, 0.50969311, 0.50967671,\n",
       "       0.50980333, 0.5098258 , 0.50996508, 0.50994158, 0.51002698,\n",
       "       0.51005439, 0.51010159, 0.51019682, 0.51020085, 0.51025284,\n",
       "       0.51004677, 0.5100877 , 0.51009062, 0.51006926, 0.51005612,\n",
       "       0.51006183, 0.51013005, 0.51012423, 0.51020223, 0.51018142,\n",
       "       0.51018762, 0.51020378, 0.51014654, 0.51014584, 0.5101994 ])"
      ]
     },
     "execution_count": 24,
     "metadata": {},
     "output_type": "execute_result"
    }
   ],
   "source": [
    "from sklearn.metrics import balanced_accuracy_score\n",
    "\n",
    "ada_scores = np.zeros((1_000,))\n",
    "for idx, y_pred in enumerate(best_ada.staged_predict(test_as_vec)):\n",
    "    ada_scores[idx] = balanced_accuracy_score(test_targets, y_pred)\n",
    "\n",
    "ada_scores"
   ]
  },
  {
   "cell_type": "code",
   "execution_count": 27,
   "metadata": {},
   "outputs": [
    {
     "data": {
      "text/plain": [
       "Text(0.5, 1.0, 'Balanced accuracy score <-> boosting levels')"
      ]
     },
     "execution_count": 27,
     "metadata": {},
     "output_type": "execute_result"
    },
    {
     "data": {
      "image/png": "[encoded data removed]",
      "text/plain": [
       "<Figure size 432x288 with 1 Axes>"
      ]
     },
     "metadata": {
      "needs_background": "light"
     },
     "output_type": "display_data"
    }
   ],
   "source": [
    "plt.scatter(np.arange(ada_scores.shape[0]), ada_scores, marker='.', color='orange')\n",
    "plt.xlabel('boosting levels')\n",
    "plt.ylabel('balanced accuracy score')\n",
    "plt.title('Balanced accuracy score <-> boosting levels')"
   ]
  },
  {
   "cell_type": "markdown",
   "metadata": {},
   "source": [
    "# Winners (boo!)"
   ]
  },
  {
   "cell_type": "code",
   "execution_count": 19,
   "metadata": {},
   "outputs": [
    {
     "data": {
      "text/plain": [
       "0.42966717565886214"
      ]
     },
     "execution_count": 19,
     "metadata": {},
     "output_type": "execute_result"
    }
   ],
   "source": [
    "train_as_vec, train_targets, test_as_vec, test_targets = common.load_dataset('random_downsampling', 'tf_idf', None)\n",
    "classifier = sklearn.ensemble.AdaBoostClassifier(n_estimators=10, learning_rate=1)\n",
    "classifier.fit(train_as_vec, train_targets)\n",
    "classifier.score(test_as_vec, test_targets)"
   ]
  },
  {
   "cell_type": "code",
   "execution_count": 21,
   "metadata": {},
   "outputs": [
    {
     "data": {
      "text/plain": [
       "0.33993329124163346"
      ]
     },
     "execution_count": 21,
     "metadata": {},
     "output_type": "execute_result"
    }
   ],
   "source": [
    "common.get_score(classifier, test_as_vec, test_targets)"
   ]
  },
  {
   "cell_type": "code",
   "execution_count": 22,
   "metadata": {},
   "outputs": [
    {
     "name": "stdout",
     "output_type": "stream",
     "text": [
      "SCORE: 0.33993329124163346\n",
      "[[0.39399198 0.13894031 0.1714484  0.05132655 0.24429277]\n",
      " [0.21666994 0.17321043 0.28601687 0.10892332 0.21517945]\n",
      " [0.10419019 0.13521545 0.35603764 0.16229817 0.24225854]\n",
      " [0.06028483 0.07970705 0.29876101 0.19969415 0.36155295]\n",
      " [0.04715493 0.04139366 0.18038429 0.15433487 0.57673225]]\n"
     ]
    },
    {
     "data": {
      "image/png": "[encoded data removed]",
      "text/plain": [
       "<Figure size 432x288 with 2 Axes>"
      ]
     },
     "metadata": {
      "needs_background": "light"
     },
     "output_type": "display_data"
    }
   ],
   "source": [
    "common.display_classifier_performance(classifier, test_as_vec, test_targets)"
   ]
  },
  {
   "cell_type": "code",
   "execution_count": 23,
   "metadata": {},
   "outputs": [
    {
     "data": {
      "text/plain": [
       "0.5458257927082155"
      ]
     },
     "execution_count": 23,
     "metadata": {},
     "output_type": "execute_result"
    }
   ],
   "source": [
    "train_as_vec, train_targets, test_as_vec, test_targets = common.load_dataset('full', 'count', None)\n",
    "classifier = sklearn.ensemble.AdaBoostClassifier(n_estimators=10, learning_rate=1)\n",
    "classifier.fit(train_as_vec, train_targets)\n",
    "classifier.score(test_as_vec, test_targets)"
   ]
  },
  {
   "cell_type": "code",
   "execution_count": 25,
   "metadata": {},
   "outputs": [
    {
     "name": "stdout",
     "output_type": "stream",
     "text": [
      "SCORE: 0.27254614272317623\n",
      "[[0.22250501 0.01966682 0.05498997 0.07847447 0.62436372]\n",
      " [0.09809767 0.02565209 0.06130614 0.147323   0.6676211 ]\n",
      " [0.03627538 0.00980684 0.04570579 0.19021298 0.71799901]\n",
      " [0.01371103 0.00391149 0.02197093 0.1461192  0.81428735]\n",
      " [0.00693208 0.0018247  0.00867725 0.05981735 0.92274862]]\n"
     ]
    },
    {
     "data": {
      "image/png": "[encoded data removed]",
      "text/plain": [
       "<Figure size 432x288 with 2 Axes>"
      ]
     },
     "metadata": {
      "needs_background": "light"
     },
     "output_type": "display_data"
    }
   ],
   "source": [
    "common.display_classifier_performance(classifier, test_as_vec, test_targets)"
   ]
  }
 ],
 "metadata": {
  "kernelspec": {
   "display_name": "Python 3",
   "language": "python",
   "name": "python3"
  },
  "language_info": {
   "codemirror_mode": {
    "name": "ipython",
    "version": 3
   },
   "file_extension": ".py",
   "mimetype": "text/x-python",
   "name": "python",
   "nbconvert_exporter": "python",
   "pygments_lexer": "ipython3",
   "version": "3.8.1"
  }
 },
 "nbformat": 4,
 "nbformat_minor": 4
}
