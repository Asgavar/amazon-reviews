{
 "cells": [
  {
   "cell_type": "markdown",
   "metadata": {},
   "source": [
    "# Naive Bayes approach"
   ]
  },
  {
   "cell_type": "code",
   "execution_count": 55,
   "metadata": {},
   "outputs": [
    {
     "name": "stdout",
     "output_type": "stream",
     "text": [
      "The autoreload extension is already loaded. To reload it, use:\n",
      "  %reload_ext autoreload\n"
     ]
    }
   ],
   "source": [
    "%load_ext autoreload\n",
    "%autoreload 2\n",
    "%matplotlib inline\n",
    "\n",
    "import common\n",
    "\n",
    "import matplotlib.pyplot as plt\n",
    "import numpy as np\n",
    "import pandas as pd\n",
    "import seaborn as sns\n",
    "import sklearn.dummy\n",
    "import sklearn.naive_bayes"
   ]
  },
  {
   "cell_type": "code",
   "execution_count": 2,
   "metadata": {},
   "outputs": [
    {
     "name": "stderr",
     "output_type": "stream",
     "text": [
      "/home/asgavar/.local/lib/python3.8/site-packages/numpy/lib/arraysetops.py:568: FutureWarning: elementwise comparison failed; returning scalar instead, but in the future will perform elementwise comparison\n",
      "  mask |= (ar1 == a)\n",
      "/home/asgavar/.local/lib/python3.8/site-packages/sklearn/dummy.py:131: FutureWarning: The default value of strategy will change from stratified to prior in 0.24.\n",
      "  warnings.warn(\"The default value of strategy will change from \"\n"
     ]
    },
    {
     "data": {
      "text/plain": [
       "DummyClassifier(constant=None, random_state=None, strategy='warn')"
      ]
     },
     "execution_count": 2,
     "metadata": {},
     "output_type": "execute_result"
    }
   ],
   "source": [
    "train_as_vec, train_targets, test_as_vec, test_targets = common.load_dataset('full', 'count', None)\n",
    "baseline_classifier = sklearn.dummy.DummyClassifier()\n",
    "baseline_classifier.fit(train_as_vec, train_targets)"
   ]
  },
  {
   "cell_type": "code",
   "execution_count": 3,
   "metadata": {},
   "outputs": [
    {
     "name": "stdout",
     "output_type": "stream",
     "text": [
      "SCORE: 0.19750153622616157\n",
      "[[0.06324233 0.05853771 0.12050748 0.22551288 0.5321996 ]\n",
      " [0.06201216 0.05993332 0.12092567 0.22227888 0.53484997]\n",
      " [0.06189203 0.06109955 0.11930659 0.22207033 0.5356315 ]\n",
      " [0.0605449  0.0608882  0.11893641 0.22523329 0.5343972 ]\n",
      " [0.06120465 0.06058611 0.11701474 0.22774688 0.53344762]]\n"
     ]
    },
    {
     "data": {
      "image/png": "[encoded data removed]",
      "text/plain": [
       "<Figure size 432x288 with 2 Axes>"
      ]
     },
     "metadata": {
      "needs_background": "light"
     },
     "output_type": "display_data"
    }
   ],
   "source": [
    "common.display_classifier_performance(baseline_classifier, test_as_vec, test_targets)"
   ]
  },
  {
   "cell_type": "markdown",
   "metadata": {},
   "source": [
    "## Performance measure row schema"
   ]
  },
  {
   "cell_type": "code",
   "execution_count": 4,
   "metadata": {},
   "outputs": [
    {
     "data": {
      "text/html": [
       "<div>\n",
       "<style scoped>\n",
       "    .dataframe tbody tr th:only-of-type {\n",
       "        vertical-align: middle;\n",
       "    }\n",
       "\n",
       "    .dataframe tbody tr th {\n",
       "        vertical-align: top;\n",
       "    }\n",
       "\n",
       "    .dataframe thead th {\n",
       "        text-align: right;\n",
       "    }\n",
       "</style>\n",
       "<table border=\"1\" class=\"dataframe\">\n",
       "  <thead>\n",
       "    <tr style=\"text-align: right;\">\n",
       "      <th></th>\n",
       "      <th>classifier_type</th>\n",
       "      <th>sampling</th>\n",
       "      <th>representation</th>\n",
       "      <th>preprocessing</th>\n",
       "      <th>fit_prior</th>\n",
       "      <th>alpha</th>\n",
       "      <th>real_world_acc</th>\n",
       "      <th>score</th>\n",
       "    </tr>\n",
       "  </thead>\n",
       "  <tbody>\n",
       "    <tr>\n",
       "      <th>0</th>\n",
       "      <td>baseline</td>\n",
       "      <td>full</td>\n",
       "      <td>count</td>\n",
       "      <td>None</td>\n",
       "      <td>N/A</td>\n",
       "      <td>N/A</td>\n",
       "      <td>0.356457</td>\n",
       "      <td>0.201218</td>\n",
       "    </tr>\n",
       "  </tbody>\n",
       "</table>\n",
       "</div>"
      ],
      "text/plain": [
       "  classifier_type sampling representation preprocessing fit_prior alpha  \\\n",
       "0        baseline     full          count          None       N/A   N/A   \n",
       "\n",
       "   real_world_acc     score  \n",
       "0        0.356457  0.201218  "
      ]
     },
     "execution_count": 4,
     "metadata": {},
     "output_type": "execute_result"
    }
   ],
   "source": [
    "results_df = pd.DataFrame.from_dict([\n",
    "    common.perf_row(\n",
    "        baseline_classifier, test_as_vec, test_targets, 'baseline',\n",
    "        'full', 'count', None, fit_prior='N/A', alpha='N/A')])\n",
    "results_df"
   ]
  },
  {
   "cell_type": "markdown",
   "metadata": {},
   "source": [
    "## One multi-class combined classifier, exposed to all classes at once"
   ]
  },
  {
   "cell_type": "code",
   "execution_count": 5,
   "metadata": {},
   "outputs": [
    {
     "name": "stdout",
     "output_type": "stream",
     "text": [
      "sampling = random_downsampling\n",
      "    representation = count\n",
      "        preprocessing = None\n",
      "            fit_prior = False\n",
      "            fit_prior = True\n",
      "        preprocessing = stem\n",
      "            fit_prior = False\n",
      "            fit_prior = True\n",
      "    representation = tf_idf\n",
      "        preprocessing = None\n",
      "            fit_prior = False\n",
      "            fit_prior = True\n",
      "        preprocessing = stem\n",
      "            fit_prior = False\n",
      "            fit_prior = True\n",
      "sampling = full\n",
      "    representation = count\n",
      "        preprocessing = None\n",
      "            fit_prior = False\n"
     ]
    },
    {
     "name": "stderr",
     "output_type": "stream",
     "text": [
      "/home/asgavar/.local/lib/python3.8/site-packages/numpy/lib/arraysetops.py:568: FutureWarning: elementwise comparison failed; returning scalar instead, but in the future will perform elementwise comparison\n",
      "  mask |= (ar1 == a)\n"
     ]
    },
    {
     "name": "stdout",
     "output_type": "stream",
     "text": [
      "            fit_prior = True\n",
      "        preprocessing = stem\n",
      "            fit_prior = False\n"
     ]
    },
    {
     "name": "stderr",
     "output_type": "stream",
     "text": [
      "/home/asgavar/.local/lib/python3.8/site-packages/numpy/lib/arraysetops.py:568: FutureWarning: elementwise comparison failed; returning scalar instead, but in the future will perform elementwise comparison\n",
      "  mask |= (ar1 == a)\n"
     ]
    },
    {
     "name": "stdout",
     "output_type": "stream",
     "text": [
      "            fit_prior = True\n",
      "    representation = tf_idf\n",
      "        preprocessing = None\n",
      "            fit_prior = False\n"
     ]
    },
    {
     "name": "stderr",
     "output_type": "stream",
     "text": [
      "/home/asgavar/.local/lib/python3.8/site-packages/numpy/lib/arraysetops.py:568: FutureWarning: elementwise comparison failed; returning scalar instead, but in the future will perform elementwise comparison\n",
      "  mask |= (ar1 == a)\n"
     ]
    },
    {
     "name": "stdout",
     "output_type": "stream",
     "text": [
      "            fit_prior = True\n",
      "        preprocessing = stem\n",
      "            fit_prior = False\n"
     ]
    },
    {
     "name": "stderr",
     "output_type": "stream",
     "text": [
      "/home/asgavar/.local/lib/python3.8/site-packages/numpy/lib/arraysetops.py:568: FutureWarning: elementwise comparison failed; returning scalar instead, but in the future will perform elementwise comparison\n",
      "  mask |= (ar1 == a)\n"
     ]
    },
    {
     "name": "stdout",
     "output_type": "stream",
     "text": [
      "            fit_prior = True\n"
     ]
    }
   ],
   "source": [
    "for sampling in ['random_downsampling', 'full']:# , 'oversampled']:\n",
    "    print(f'sampling = {sampling}')\n",
    "    for representation in ['count', 'tf_idf']:\n",
    "        print(f'    representation = {representation}')\n",
    "        for preprocessing in [None, 'stem']:\n",
    "            print(f'        preprocessing = {preprocessing}')\n",
    "            for fit_prior in [False, True]:\n",
    "                print(f'            fit_prior = {fit_prior}')\n",
    "                for alpha in np.arange(0.1, 5., .1):\n",
    "\n",
    "                    train_as_vec, train_targets, test_as_vec, test_targets = common.load_dataset(\n",
    "                        sampling, representation, preprocessing)\n",
    "\n",
    "                    classifier = sklearn.naive_bayes.MultinomialNB(fit_prior=fit_prior, alpha=alpha)\n",
    "                    classifier.fit(train_as_vec, train_targets)\n",
    "\n",
    "                    results_df = results_df.append([\n",
    "                            common.perf_row(\n",
    "                                classifier, test_as_vec, test_targets,\n",
    "                                'multiclass', sampling, representation, \n",
    "                                preprocessing, fit_prior=fit_prior, alpha=alpha)])"
   ]
  },
  {
   "cell_type": "markdown",
   "metadata": {},
   "source": [
    "## Word representation <-> score correlation"
   ]
  },
  {
   "cell_type": "code",
   "execution_count": 22,
   "metadata": {},
   "outputs": [
    {
     "data": {
      "text/plain": [
       "tf_idf    84\n",
       "count     16\n",
       "Name: representation, dtype: int64"
      ]
     },
     "execution_count": 22,
     "metadata": {},
     "output_type": "execute_result"
    }
   ],
   "source": [
    "results_df.sort_values('score', ascending=False).head(100)['representation'].value_counts()"
   ]
  },
  {
   "cell_type": "code",
   "execution_count": 25,
   "metadata": {},
   "outputs": [
    {
     "data": {
      "text/plain": [
       "count    100\n",
       "Name: representation, dtype: int64"
      ]
     },
     "execution_count": 25,
     "metadata": {},
     "output_type": "execute_result"
    }
   ],
   "source": [
    "results_df.sort_values('real_world_acc', ascending=False).head(100)['representation'].value_counts()"
   ]
  },
  {
   "cell_type": "markdown",
   "metadata": {},
   "source": [
    "## Training dataset <-> score correlation"
   ]
  },
  {
   "cell_type": "code",
   "execution_count": 29,
   "metadata": {},
   "outputs": [
    {
     "data": {
      "text/plain": [
       "random_downsampling    86\n",
       "full                   14\n",
       "Name: sampling, dtype: int64"
      ]
     },
     "execution_count": 29,
     "metadata": {},
     "output_type": "execute_result"
    }
   ],
   "source": [
    "results_df.sort_values('score', ascending=False).head(100)['sampling'].value_counts()"
   ]
  },
  {
   "cell_type": "code",
   "execution_count": 30,
   "metadata": {},
   "outputs": [
    {
     "data": {
      "text/plain": [
       "full    100\n",
       "Name: sampling, dtype: int64"
      ]
     },
     "execution_count": 30,
     "metadata": {},
     "output_type": "execute_result"
    }
   ],
   "source": [
    "results_df.sort_values('real_world_acc', ascending=False).head(100)['sampling'].value_counts()"
   ]
  },
  {
   "cell_type": "markdown",
   "metadata": {},
   "source": [
    "## Best of the best!"
   ]
  },
  {
   "cell_type": "code",
   "execution_count": 33,
   "metadata": {},
   "outputs": [
    {
     "data": {
      "text/html": [
       "<div>\n",
       "<style scoped>\n",
       "    .dataframe tbody tr th:only-of-type {\n",
       "        vertical-align: middle;\n",
       "    }\n",
       "\n",
       "    .dataframe tbody tr th {\n",
       "        vertical-align: top;\n",
       "    }\n",
       "\n",
       "    .dataframe thead th {\n",
       "        text-align: right;\n",
       "    }\n",
       "</style>\n",
       "<table border=\"1\" class=\"dataframe\">\n",
       "  <thead>\n",
       "    <tr style=\"text-align: right;\">\n",
       "      <th></th>\n",
       "      <th>classifier_type</th>\n",
       "      <th>sampling</th>\n",
       "      <th>representation</th>\n",
       "      <th>preprocessing</th>\n",
       "      <th>fit_prior</th>\n",
       "      <th>alpha</th>\n",
       "      <th>real_world_acc</th>\n",
       "      <th>score</th>\n",
       "    </tr>\n",
       "  </thead>\n",
       "  <tbody>\n",
       "    <tr>\n",
       "      <th>0</th>\n",
       "      <td>multiclass</td>\n",
       "      <td>random_downsampling</td>\n",
       "      <td>tf_idf</td>\n",
       "      <td>None</td>\n",
       "      <td>True</td>\n",
       "      <td>0.5</td>\n",
       "      <td>0.488517</td>\n",
       "      <td>0.473654</td>\n",
       "    </tr>\n",
       "    <tr>\n",
       "      <th>0</th>\n",
       "      <td>multiclass</td>\n",
       "      <td>random_downsampling</td>\n",
       "      <td>tf_idf</td>\n",
       "      <td>None</td>\n",
       "      <td>True</td>\n",
       "      <td>0.6</td>\n",
       "      <td>0.483441</td>\n",
       "      <td>0.473553</td>\n",
       "    </tr>\n",
       "    <tr>\n",
       "      <th>0</th>\n",
       "      <td>multiclass</td>\n",
       "      <td>random_downsampling</td>\n",
       "      <td>tf_idf</td>\n",
       "      <td>None</td>\n",
       "      <td>False</td>\n",
       "      <td>0.5</td>\n",
       "      <td>0.485571</td>\n",
       "      <td>0.473528</td>\n",
       "    </tr>\n",
       "    <tr>\n",
       "      <th>0</th>\n",
       "      <td>multiclass</td>\n",
       "      <td>random_downsampling</td>\n",
       "      <td>tf_idf</td>\n",
       "      <td>stem</td>\n",
       "      <td>True</td>\n",
       "      <td>0.6</td>\n",
       "      <td>0.483140</td>\n",
       "      <td>0.473487</td>\n",
       "    </tr>\n",
       "    <tr>\n",
       "      <th>0</th>\n",
       "      <td>multiclass</td>\n",
       "      <td>random_downsampling</td>\n",
       "      <td>tf_idf</td>\n",
       "      <td>None</td>\n",
       "      <td>True</td>\n",
       "      <td>0.7</td>\n",
       "      <td>0.478611</td>\n",
       "      <td>0.473258</td>\n",
       "    </tr>\n",
       "    <tr>\n",
       "      <th>0</th>\n",
       "      <td>multiclass</td>\n",
       "      <td>random_downsampling</td>\n",
       "      <td>tf_idf</td>\n",
       "      <td>stem</td>\n",
       "      <td>True</td>\n",
       "      <td>0.5</td>\n",
       "      <td>0.488124</td>\n",
       "      <td>0.473246</td>\n",
       "    </tr>\n",
       "    <tr>\n",
       "      <th>0</th>\n",
       "      <td>multiclass</td>\n",
       "      <td>random_downsampling</td>\n",
       "      <td>tf_idf</td>\n",
       "      <td>None</td>\n",
       "      <td>False</td>\n",
       "      <td>0.4</td>\n",
       "      <td>0.490393</td>\n",
       "      <td>0.473210</td>\n",
       "    </tr>\n",
       "    <tr>\n",
       "      <th>0</th>\n",
       "      <td>multiclass</td>\n",
       "      <td>random_downsampling</td>\n",
       "      <td>tf_idf</td>\n",
       "      <td>None</td>\n",
       "      <td>True</td>\n",
       "      <td>0.4</td>\n",
       "      <td>0.493327</td>\n",
       "      <td>0.473200</td>\n",
       "    </tr>\n",
       "    <tr>\n",
       "      <th>0</th>\n",
       "      <td>multiclass</td>\n",
       "      <td>random_downsampling</td>\n",
       "      <td>tf_idf</td>\n",
       "      <td>None</td>\n",
       "      <td>False</td>\n",
       "      <td>0.6</td>\n",
       "      <td>0.480390</td>\n",
       "      <td>0.473168</td>\n",
       "    </tr>\n",
       "    <tr>\n",
       "      <th>0</th>\n",
       "      <td>multiclass</td>\n",
       "      <td>random_downsampling</td>\n",
       "      <td>tf_idf</td>\n",
       "      <td>None</td>\n",
       "      <td>True</td>\n",
       "      <td>0.8</td>\n",
       "      <td>0.474449</td>\n",
       "      <td>0.473164</td>\n",
       "    </tr>\n",
       "    <tr>\n",
       "      <th>0</th>\n",
       "      <td>multiclass</td>\n",
       "      <td>random_downsampling</td>\n",
       "      <td>tf_idf</td>\n",
       "      <td>stem</td>\n",
       "      <td>False</td>\n",
       "      <td>0.5</td>\n",
       "      <td>0.485077</td>\n",
       "      <td>0.473062</td>\n",
       "    </tr>\n",
       "    <tr>\n",
       "      <th>0</th>\n",
       "      <td>multiclass</td>\n",
       "      <td>random_downsampling</td>\n",
       "      <td>tf_idf</td>\n",
       "      <td>stem</td>\n",
       "      <td>True</td>\n",
       "      <td>0.7</td>\n",
       "      <td>0.478208</td>\n",
       "      <td>0.472989</td>\n",
       "    </tr>\n",
       "    <tr>\n",
       "      <th>0</th>\n",
       "      <td>multiclass</td>\n",
       "      <td>random_downsampling</td>\n",
       "      <td>tf_idf</td>\n",
       "      <td>stem</td>\n",
       "      <td>True</td>\n",
       "      <td>0.4</td>\n",
       "      <td>0.492917</td>\n",
       "      <td>0.472946</td>\n",
       "    </tr>\n",
       "    <tr>\n",
       "      <th>0</th>\n",
       "      <td>multiclass</td>\n",
       "      <td>random_downsampling</td>\n",
       "      <td>tf_idf</td>\n",
       "      <td>stem</td>\n",
       "      <td>False</td>\n",
       "      <td>0.6</td>\n",
       "      <td>0.480006</td>\n",
       "      <td>0.472902</td>\n",
       "    </tr>\n",
       "    <tr>\n",
       "      <th>0</th>\n",
       "      <td>multiclass</td>\n",
       "      <td>random_downsampling</td>\n",
       "      <td>tf_idf</td>\n",
       "      <td>None</td>\n",
       "      <td>False</td>\n",
       "      <td>0.7</td>\n",
       "      <td>0.475509</td>\n",
       "      <td>0.472793</td>\n",
       "    </tr>\n",
       "    <tr>\n",
       "      <th>0</th>\n",
       "      <td>multiclass</td>\n",
       "      <td>random_downsampling</td>\n",
       "      <td>tf_idf</td>\n",
       "      <td>stem</td>\n",
       "      <td>True</td>\n",
       "      <td>0.8</td>\n",
       "      <td>0.473964</td>\n",
       "      <td>0.472788</td>\n",
       "    </tr>\n",
       "    <tr>\n",
       "      <th>0</th>\n",
       "      <td>multiclass</td>\n",
       "      <td>random_downsampling</td>\n",
       "      <td>tf_idf</td>\n",
       "      <td>None</td>\n",
       "      <td>True</td>\n",
       "      <td>0.3</td>\n",
       "      <td>0.498518</td>\n",
       "      <td>0.472783</td>\n",
       "    </tr>\n",
       "    <tr>\n",
       "      <th>0</th>\n",
       "      <td>multiclass</td>\n",
       "      <td>random_downsampling</td>\n",
       "      <td>tf_idf</td>\n",
       "      <td>stem</td>\n",
       "      <td>False</td>\n",
       "      <td>0.4</td>\n",
       "      <td>0.489870</td>\n",
       "      <td>0.472735</td>\n",
       "    </tr>\n",
       "    <tr>\n",
       "      <th>0</th>\n",
       "      <td>multiclass</td>\n",
       "      <td>random_downsampling</td>\n",
       "      <td>tf_idf</td>\n",
       "      <td>None</td>\n",
       "      <td>True</td>\n",
       "      <td>0.9</td>\n",
       "      <td>0.470108</td>\n",
       "      <td>0.472633</td>\n",
       "    </tr>\n",
       "    <tr>\n",
       "      <th>0</th>\n",
       "      <td>multiclass</td>\n",
       "      <td>random_downsampling</td>\n",
       "      <td>tf_idf</td>\n",
       "      <td>None</td>\n",
       "      <td>False</td>\n",
       "      <td>0.3</td>\n",
       "      <td>0.495513</td>\n",
       "      <td>0.472598</td>\n",
       "    </tr>\n",
       "    <tr>\n",
       "      <th>0</th>\n",
       "      <td>multiclass</td>\n",
       "      <td>random_downsampling</td>\n",
       "      <td>tf_idf</td>\n",
       "      <td>stem</td>\n",
       "      <td>False</td>\n",
       "      <td>0.7</td>\n",
       "      <td>0.475064</td>\n",
       "      <td>0.472588</td>\n",
       "    </tr>\n",
       "    <tr>\n",
       "      <th>0</th>\n",
       "      <td>multiclass</td>\n",
       "      <td>random_downsampling</td>\n",
       "      <td>tf_idf</td>\n",
       "      <td>None</td>\n",
       "      <td>False</td>\n",
       "      <td>0.8</td>\n",
       "      <td>0.471178</td>\n",
       "      <td>0.472540</td>\n",
       "    </tr>\n",
       "    <tr>\n",
       "      <th>0</th>\n",
       "      <td>multiclass</td>\n",
       "      <td>random_downsampling</td>\n",
       "      <td>tf_idf</td>\n",
       "      <td>stem</td>\n",
       "      <td>True</td>\n",
       "      <td>0.3</td>\n",
       "      <td>0.498004</td>\n",
       "      <td>0.472410</td>\n",
       "    </tr>\n",
       "    <tr>\n",
       "      <th>0</th>\n",
       "      <td>multiclass</td>\n",
       "      <td>random_downsampling</td>\n",
       "      <td>tf_idf</td>\n",
       "      <td>stem</td>\n",
       "      <td>True</td>\n",
       "      <td>0.9</td>\n",
       "      <td>0.469531</td>\n",
       "      <td>0.472259</td>\n",
       "    </tr>\n",
       "    <tr>\n",
       "      <th>0</th>\n",
       "      <td>multiclass</td>\n",
       "      <td>random_downsampling</td>\n",
       "      <td>tf_idf</td>\n",
       "      <td>stem</td>\n",
       "      <td>False</td>\n",
       "      <td>0.8</td>\n",
       "      <td>0.470691</td>\n",
       "      <td>0.472218</td>\n",
       "    </tr>\n",
       "  </tbody>\n",
       "</table>\n",
       "</div>"
      ],
      "text/plain": [
       "  classifier_type             sampling representation preprocessing fit_prior  \\\n",
       "0      multiclass  random_downsampling         tf_idf          None      True   \n",
       "0      multiclass  random_downsampling         tf_idf          None      True   \n",
       "0      multiclass  random_downsampling         tf_idf          None     False   \n",
       "0      multiclass  random_downsampling         tf_idf          stem      True   \n",
       "0      multiclass  random_downsampling         tf_idf          None      True   \n",
       "0      multiclass  random_downsampling         tf_idf          stem      True   \n",
       "0      multiclass  random_downsampling         tf_idf          None     False   \n",
       "0      multiclass  random_downsampling         tf_idf          None      True   \n",
       "0      multiclass  random_downsampling         tf_idf          None     False   \n",
       "0      multiclass  random_downsampling         tf_idf          None      True   \n",
       "0      multiclass  random_downsampling         tf_idf          stem     False   \n",
       "0      multiclass  random_downsampling         tf_idf          stem      True   \n",
       "0      multiclass  random_downsampling         tf_idf          stem      True   \n",
       "0      multiclass  random_downsampling         tf_idf          stem     False   \n",
       "0      multiclass  random_downsampling         tf_idf          None     False   \n",
       "0      multiclass  random_downsampling         tf_idf          stem      True   \n",
       "0      multiclass  random_downsampling         tf_idf          None      True   \n",
       "0      multiclass  random_downsampling         tf_idf          stem     False   \n",
       "0      multiclass  random_downsampling         tf_idf          None      True   \n",
       "0      multiclass  random_downsampling         tf_idf          None     False   \n",
       "0      multiclass  random_downsampling         tf_idf          stem     False   \n",
       "0      multiclass  random_downsampling         tf_idf          None     False   \n",
       "0      multiclass  random_downsampling         tf_idf          stem      True   \n",
       "0      multiclass  random_downsampling         tf_idf          stem      True   \n",
       "0      multiclass  random_downsampling         tf_idf          stem     False   \n",
       "\n",
       "  alpha  real_world_acc     score  \n",
       "0   0.5        0.488517  0.473654  \n",
       "0   0.6        0.483441  0.473553  \n",
       "0   0.5        0.485571  0.473528  \n",
       "0   0.6        0.483140  0.473487  \n",
       "0   0.7        0.478611  0.473258  \n",
       "0   0.5        0.488124  0.473246  \n",
       "0   0.4        0.490393  0.473210  \n",
       "0   0.4        0.493327  0.473200  \n",
       "0   0.6        0.480390  0.473168  \n",
       "0   0.8        0.474449  0.473164  \n",
       "0   0.5        0.485077  0.473062  \n",
       "0   0.7        0.478208  0.472989  \n",
       "0   0.4        0.492917  0.472946  \n",
       "0   0.6        0.480006  0.472902  \n",
       "0   0.7        0.475509  0.472793  \n",
       "0   0.8        0.473964  0.472788  \n",
       "0   0.3        0.498518  0.472783  \n",
       "0   0.4        0.489870  0.472735  \n",
       "0   0.9        0.470108  0.472633  \n",
       "0   0.3        0.495513  0.472598  \n",
       "0   0.7        0.475064  0.472588  \n",
       "0   0.8        0.471178  0.472540  \n",
       "0   0.3        0.498004  0.472410  \n",
       "0   0.9        0.469531  0.472259  \n",
       "0   0.8        0.470691  0.472218  "
      ]
     },
     "execution_count": 33,
     "metadata": {},
     "output_type": "execute_result"
    }
   ],
   "source": [
    "results_df.sort_values('score', ascending=False).head(25)"
   ]
  },
  {
   "cell_type": "code",
   "execution_count": 34,
   "metadata": {},
   "outputs": [
    {
     "data": {
      "text/html": [
       "<div>\n",
       "<style scoped>\n",
       "    .dataframe tbody tr th:only-of-type {\n",
       "        vertical-align: middle;\n",
       "    }\n",
       "\n",
       "    .dataframe tbody tr th {\n",
       "        vertical-align: top;\n",
       "    }\n",
       "\n",
       "    .dataframe thead th {\n",
       "        text-align: right;\n",
       "    }\n",
       "</style>\n",
       "<table border=\"1\" class=\"dataframe\">\n",
       "  <thead>\n",
       "    <tr style=\"text-align: right;\">\n",
       "      <th></th>\n",
       "      <th>classifier_type</th>\n",
       "      <th>sampling</th>\n",
       "      <th>representation</th>\n",
       "      <th>preprocessing</th>\n",
       "      <th>fit_prior</th>\n",
       "      <th>alpha</th>\n",
       "      <th>real_world_acc</th>\n",
       "      <th>score</th>\n",
       "    </tr>\n",
       "  </thead>\n",
       "  <tbody>\n",
       "    <tr>\n",
       "      <th>0</th>\n",
       "      <td>multiclass</td>\n",
       "      <td>full</td>\n",
       "      <td>count</td>\n",
       "      <td>None</td>\n",
       "      <td>True</td>\n",
       "      <td>1.9</td>\n",
       "      <td>0.603153</td>\n",
       "      <td>0.407792</td>\n",
       "    </tr>\n",
       "    <tr>\n",
       "      <th>0</th>\n",
       "      <td>multiclass</td>\n",
       "      <td>full</td>\n",
       "      <td>count</td>\n",
       "      <td>None</td>\n",
       "      <td>True</td>\n",
       "      <td>1.8</td>\n",
       "      <td>0.603099</td>\n",
       "      <td>0.412196</td>\n",
       "    </tr>\n",
       "    <tr>\n",
       "      <th>0</th>\n",
       "      <td>multiclass</td>\n",
       "      <td>full</td>\n",
       "      <td>count</td>\n",
       "      <td>stem</td>\n",
       "      <td>True</td>\n",
       "      <td>1.9</td>\n",
       "      <td>0.603069</td>\n",
       "      <td>0.407587</td>\n",
       "    </tr>\n",
       "    <tr>\n",
       "      <th>0</th>\n",
       "      <td>multiclass</td>\n",
       "      <td>full</td>\n",
       "      <td>count</td>\n",
       "      <td>None</td>\n",
       "      <td>True</td>\n",
       "      <td>1.7</td>\n",
       "      <td>0.603061</td>\n",
       "      <td>0.417104</td>\n",
       "    </tr>\n",
       "    <tr>\n",
       "      <th>0</th>\n",
       "      <td>multiclass</td>\n",
       "      <td>full</td>\n",
       "      <td>count</td>\n",
       "      <td>stem</td>\n",
       "      <td>True</td>\n",
       "      <td>1.7</td>\n",
       "      <td>0.603050</td>\n",
       "      <td>0.416878</td>\n",
       "    </tr>\n",
       "    <tr>\n",
       "      <th>0</th>\n",
       "      <td>multiclass</td>\n",
       "      <td>full</td>\n",
       "      <td>count</td>\n",
       "      <td>None</td>\n",
       "      <td>True</td>\n",
       "      <td>2</td>\n",
       "      <td>0.602970</td>\n",
       "      <td>0.403128</td>\n",
       "    </tr>\n",
       "    <tr>\n",
       "      <th>0</th>\n",
       "      <td>multiclass</td>\n",
       "      <td>full</td>\n",
       "      <td>count</td>\n",
       "      <td>stem</td>\n",
       "      <td>True</td>\n",
       "      <td>1.8</td>\n",
       "      <td>0.602967</td>\n",
       "      <td>0.411840</td>\n",
       "    </tr>\n",
       "    <tr>\n",
       "      <th>0</th>\n",
       "      <td>multiclass</td>\n",
       "      <td>full</td>\n",
       "      <td>count</td>\n",
       "      <td>stem</td>\n",
       "      <td>True</td>\n",
       "      <td>2</td>\n",
       "      <td>0.602951</td>\n",
       "      <td>0.402890</td>\n",
       "    </tr>\n",
       "    <tr>\n",
       "      <th>0</th>\n",
       "      <td>multiclass</td>\n",
       "      <td>full</td>\n",
       "      <td>count</td>\n",
       "      <td>None</td>\n",
       "      <td>True</td>\n",
       "      <td>1.6</td>\n",
       "      <td>0.602767</td>\n",
       "      <td>0.421474</td>\n",
       "    </tr>\n",
       "    <tr>\n",
       "      <th>0</th>\n",
       "      <td>multiclass</td>\n",
       "      <td>full</td>\n",
       "      <td>count</td>\n",
       "      <td>stem</td>\n",
       "      <td>True</td>\n",
       "      <td>1.6</td>\n",
       "      <td>0.602710</td>\n",
       "      <td>0.421258</td>\n",
       "    </tr>\n",
       "    <tr>\n",
       "      <th>0</th>\n",
       "      <td>multiclass</td>\n",
       "      <td>full</td>\n",
       "      <td>count</td>\n",
       "      <td>None</td>\n",
       "      <td>True</td>\n",
       "      <td>2.1</td>\n",
       "      <td>0.602489</td>\n",
       "      <td>0.397901</td>\n",
       "    </tr>\n",
       "    <tr>\n",
       "      <th>0</th>\n",
       "      <td>multiclass</td>\n",
       "      <td>full</td>\n",
       "      <td>count</td>\n",
       "      <td>stem</td>\n",
       "      <td>True</td>\n",
       "      <td>2.1</td>\n",
       "      <td>0.602385</td>\n",
       "      <td>0.397626</td>\n",
       "    </tr>\n",
       "    <tr>\n",
       "      <th>0</th>\n",
       "      <td>multiclass</td>\n",
       "      <td>full</td>\n",
       "      <td>count</td>\n",
       "      <td>None</td>\n",
       "      <td>True</td>\n",
       "      <td>1.5</td>\n",
       "      <td>0.602333</td>\n",
       "      <td>0.426112</td>\n",
       "    </tr>\n",
       "    <tr>\n",
       "      <th>0</th>\n",
       "      <td>multiclass</td>\n",
       "      <td>full</td>\n",
       "      <td>count</td>\n",
       "      <td>None</td>\n",
       "      <td>True</td>\n",
       "      <td>2.2</td>\n",
       "      <td>0.602315</td>\n",
       "      <td>0.393708</td>\n",
       "    </tr>\n",
       "    <tr>\n",
       "      <th>0</th>\n",
       "      <td>multiclass</td>\n",
       "      <td>full</td>\n",
       "      <td>count</td>\n",
       "      <td>stem</td>\n",
       "      <td>True</td>\n",
       "      <td>1.5</td>\n",
       "      <td>0.602211</td>\n",
       "      <td>0.425720</td>\n",
       "    </tr>\n",
       "    <tr>\n",
       "      <th>0</th>\n",
       "      <td>multiclass</td>\n",
       "      <td>full</td>\n",
       "      <td>count</td>\n",
       "      <td>stem</td>\n",
       "      <td>True</td>\n",
       "      <td>2.2</td>\n",
       "      <td>0.602206</td>\n",
       "      <td>0.393450</td>\n",
       "    </tr>\n",
       "    <tr>\n",
       "      <th>0</th>\n",
       "      <td>multiclass</td>\n",
       "      <td>full</td>\n",
       "      <td>count</td>\n",
       "      <td>None</td>\n",
       "      <td>True</td>\n",
       "      <td>1.4</td>\n",
       "      <td>0.602006</td>\n",
       "      <td>0.430684</td>\n",
       "    </tr>\n",
       "    <tr>\n",
       "      <th>0</th>\n",
       "      <td>multiclass</td>\n",
       "      <td>full</td>\n",
       "      <td>count</td>\n",
       "      <td>stem</td>\n",
       "      <td>True</td>\n",
       "      <td>1.4</td>\n",
       "      <td>0.601897</td>\n",
       "      <td>0.430431</td>\n",
       "    </tr>\n",
       "    <tr>\n",
       "      <th>0</th>\n",
       "      <td>multiclass</td>\n",
       "      <td>full</td>\n",
       "      <td>count</td>\n",
       "      <td>None</td>\n",
       "      <td>True</td>\n",
       "      <td>2.3</td>\n",
       "      <td>0.601678</td>\n",
       "      <td>0.388853</td>\n",
       "    </tr>\n",
       "    <tr>\n",
       "      <th>0</th>\n",
       "      <td>multiclass</td>\n",
       "      <td>full</td>\n",
       "      <td>count</td>\n",
       "      <td>stem</td>\n",
       "      <td>True</td>\n",
       "      <td>2.3</td>\n",
       "      <td>0.601617</td>\n",
       "      <td>0.388575</td>\n",
       "    </tr>\n",
       "    <tr>\n",
       "      <th>0</th>\n",
       "      <td>multiclass</td>\n",
       "      <td>full</td>\n",
       "      <td>count</td>\n",
       "      <td>None</td>\n",
       "      <td>True</td>\n",
       "      <td>2.4</td>\n",
       "      <td>0.601278</td>\n",
       "      <td>0.384282</td>\n",
       "    </tr>\n",
       "    <tr>\n",
       "      <th>0</th>\n",
       "      <td>multiclass</td>\n",
       "      <td>full</td>\n",
       "      <td>count</td>\n",
       "      <td>stem</td>\n",
       "      <td>True</td>\n",
       "      <td>2.4</td>\n",
       "      <td>0.601221</td>\n",
       "      <td>0.384096</td>\n",
       "    </tr>\n",
       "    <tr>\n",
       "      <th>0</th>\n",
       "      <td>multiclass</td>\n",
       "      <td>full</td>\n",
       "      <td>count</td>\n",
       "      <td>stem</td>\n",
       "      <td>True</td>\n",
       "      <td>1.3</td>\n",
       "      <td>0.600967</td>\n",
       "      <td>0.434272</td>\n",
       "    </tr>\n",
       "    <tr>\n",
       "      <th>0</th>\n",
       "      <td>multiclass</td>\n",
       "      <td>full</td>\n",
       "      <td>count</td>\n",
       "      <td>None</td>\n",
       "      <td>True</td>\n",
       "      <td>1.3</td>\n",
       "      <td>0.600964</td>\n",
       "      <td>0.434432</td>\n",
       "    </tr>\n",
       "    <tr>\n",
       "      <th>0</th>\n",
       "      <td>multiclass</td>\n",
       "      <td>full</td>\n",
       "      <td>count</td>\n",
       "      <td>None</td>\n",
       "      <td>True</td>\n",
       "      <td>2.5</td>\n",
       "      <td>0.600759</td>\n",
       "      <td>0.379827</td>\n",
       "    </tr>\n",
       "  </tbody>\n",
       "</table>\n",
       "</div>"
      ],
      "text/plain": [
       "  classifier_type sampling representation preprocessing fit_prior alpha  \\\n",
       "0      multiclass     full          count          None      True   1.9   \n",
       "0      multiclass     full          count          None      True   1.8   \n",
       "0      multiclass     full          count          stem      True   1.9   \n",
       "0      multiclass     full          count          None      True   1.7   \n",
       "0      multiclass     full          count          stem      True   1.7   \n",
       "0      multiclass     full          count          None      True     2   \n",
       "0      multiclass     full          count          stem      True   1.8   \n",
       "0      multiclass     full          count          stem      True     2   \n",
       "0      multiclass     full          count          None      True   1.6   \n",
       "0      multiclass     full          count          stem      True   1.6   \n",
       "0      multiclass     full          count          None      True   2.1   \n",
       "0      multiclass     full          count          stem      True   2.1   \n",
       "0      multiclass     full          count          None      True   1.5   \n",
       "0      multiclass     full          count          None      True   2.2   \n",
       "0      multiclass     full          count          stem      True   1.5   \n",
       "0      multiclass     full          count          stem      True   2.2   \n",
       "0      multiclass     full          count          None      True   1.4   \n",
       "0      multiclass     full          count          stem      True   1.4   \n",
       "0      multiclass     full          count          None      True   2.3   \n",
       "0      multiclass     full          count          stem      True   2.3   \n",
       "0      multiclass     full          count          None      True   2.4   \n",
       "0      multiclass     full          count          stem      True   2.4   \n",
       "0      multiclass     full          count          stem      True   1.3   \n",
       "0      multiclass     full          count          None      True   1.3   \n",
       "0      multiclass     full          count          None      True   2.5   \n",
       "\n",
       "   real_world_acc     score  \n",
       "0        0.603153  0.407792  \n",
       "0        0.603099  0.412196  \n",
       "0        0.603069  0.407587  \n",
       "0        0.603061  0.417104  \n",
       "0        0.603050  0.416878  \n",
       "0        0.602970  0.403128  \n",
       "0        0.602967  0.411840  \n",
       "0        0.602951  0.402890  \n",
       "0        0.602767  0.421474  \n",
       "0        0.602710  0.421258  \n",
       "0        0.602489  0.397901  \n",
       "0        0.602385  0.397626  \n",
       "0        0.602333  0.426112  \n",
       "0        0.602315  0.393708  \n",
       "0        0.602211  0.425720  \n",
       "0        0.602206  0.393450  \n",
       "0        0.602006  0.430684  \n",
       "0        0.601897  0.430431  \n",
       "0        0.601678  0.388853  \n",
       "0        0.601617  0.388575  \n",
       "0        0.601278  0.384282  \n",
       "0        0.601221  0.384096  \n",
       "0        0.600967  0.434272  \n",
       "0        0.600964  0.434432  \n",
       "0        0.600759  0.379827  "
      ]
     },
     "execution_count": 34,
     "metadata": {},
     "output_type": "execute_result"
    }
   ],
   "source": [
    "results_df.sort_values('real_world_acc', ascending=False).head(25)"
   ]
  },
  {
   "cell_type": "code",
   "execution_count": 35,
   "metadata": {},
   "outputs": [
    {
     "data": {
      "text/plain": [
       "MultinomialNB(alpha=0.5, class_prior=None, fit_prior=True)"
      ]
     },
     "execution_count": 35,
     "metadata": {},
     "output_type": "execute_result"
    }
   ],
   "source": [
    "train_as_vec, train_targets, test_as_vec, test_targets = common.load_dataset(\n",
    "    'random_downsampling', 'tf_idf', None)\n",
    "\n",
    "best_balanced = sklearn.naive_bayes.MultinomialNB(alpha=0.5)\n",
    "best_balanced.fit(train_as_vec, train_targets)"
   ]
  },
  {
   "cell_type": "code",
   "execution_count": 39,
   "metadata": {},
   "outputs": [
    {
     "name": "stdout",
     "output_type": "stream",
     "text": [
      "SCORE: 0.4736542603211971\n",
      "[[0.60909301 0.25119543 0.07203455 0.03304797 0.03462903]\n",
      " [0.24655815 0.39952932 0.23989017 0.07981957 0.03420278]\n",
      " [0.10791481 0.19114413 0.39982169 0.22325904 0.07786033]\n",
      " [0.05742403 0.06501815 0.24191954 0.43081548 0.20482279]\n",
      " [0.05848307 0.02941605 0.08313194 0.29995714 0.52901179]]\n"
     ]
    },
    {
     "data": {
      "image/png": "[encoded data removed]",
      "text/plain": [
       "<Figure size 432x288 with 2 Axes>"
      ]
     },
     "metadata": {
      "needs_background": "light"
     },
     "output_type": "display_data"
    }
   ],
   "source": [
    "common.display_classifier_performance(best_balanced, test_as_vec, test_targets)"
   ]
  },
  {
   "cell_type": "code",
   "execution_count": 40,
   "metadata": {},
   "outputs": [
    {
     "name": "stderr",
     "output_type": "stream",
     "text": [
      "/home/asgavar/.local/lib/python3.8/site-packages/numpy/lib/arraysetops.py:568: FutureWarning: elementwise comparison failed; returning scalar instead, but in the future will perform elementwise comparison\n",
      "  mask |= (ar1 == a)\n"
     ]
    },
    {
     "data": {
      "text/plain": [
       "MultinomialNB(alpha=1.9, class_prior=None, fit_prior=True)"
      ]
     },
     "execution_count": 40,
     "metadata": {},
     "output_type": "execute_result"
    }
   ],
   "source": [
    "train_as_vec, train_targets, test_as_vec, test_targets = common.load_dataset(\n",
    "    'full', 'count', None)\n",
    "\n",
    "best_real_world = sklearn.naive_bayes.MultinomialNB(alpha=1.9)\n",
    "best_real_world.fit(train_as_vec, train_targets)"
   ]
  },
  {
   "cell_type": "code",
   "execution_count": 43,
   "metadata": {},
   "outputs": [
    {
     "name": "stdout",
     "output_type": "stream",
     "text": [
      "SCORE: 0.4077921971996866\n",
      "[[4.71656640e-01 7.11476168e-02 1.47192658e-01 6.55560697e-02\n",
      "  2.44447015e-01]\n",
      " [1.67130810e-01 7.68778192e-02 3.42851540e-01 1.71680722e-01\n",
      "  2.41459110e-01]\n",
      " [4.89747400e-02 1.58098068e-02 2.98999505e-01 2.95770183e-01\n",
      "  3.40445765e-01]\n",
      " [1.52090464e-02 2.28863899e-03 9.41983002e-02 3.30156980e-01\n",
      "  5.58147035e-01]\n",
      " [1.16374111e-02 7.77594670e-04 1.68729207e-02 1.09442032e-01\n",
      "  8.61270042e-01]]\n"
     ]
    },
    {
     "data": {
      "image/png": "[encoded data removed]",
      "text/plain": [
       "<Figure size 432x288 with 2 Axes>"
      ]
     },
     "metadata": {
      "needs_background": "light"
     },
     "output_type": "display_data"
    }
   ],
   "source": [
    "common.display_classifier_performance(best_real_world, test_as_vec, test_targets)"
   ]
  },
  {
   "cell_type": "markdown",
   "metadata": {},
   "source": [
    "## Balanced vs Simple accuracy"
   ]
  },
  {
   "cell_type": "code",
   "execution_count": 48,
   "metadata": {},
   "outputs": [],
   "source": [
    "top_balanced = results_df.sort_values('score', ascending=False).head(100)\n",
    "top_simple = results_df.sort_values('real_world_acc', ascending=False).head(100)"
   ]
  },
  {
   "cell_type": "code",
   "execution_count": 50,
   "metadata": {},
   "outputs": [],
   "source": [
    "balanced_X, balanced_Y = top_balanced['score'].values, top_balanced['real_world_acc'].values\n",
    "simple_X, simple_Y = top_simple['real_world_acc'].values, top_simple['score'].values"
   ]
  },
  {
   "cell_type": "code",
   "execution_count": 65,
   "metadata": {},
   "outputs": [
    {
     "data": {
      "text/plain": [
       "[<matplotlib.lines.Line2D at 0x7f1e1e5178e0>]"
      ]
     },
     "execution_count": 65,
     "metadata": {},
     "output_type": "execute_result"
    },
    {
     "data": {
      "image/png": "[encoded data removed]",
      "text/plain": [
       "<Figure size 432x288 with 1 Axes>"
      ]
     },
     "metadata": {
      "needs_background": "light"
     },
     "output_type": "display_data"
    }
   ],
   "source": [
    "plt.title('Balanced to simple acc among top 100 balanced-acc-rated estimators')\n",
    "plt.xlabel('balanced accuracy')\n",
    "plt.ylabel('simple accuracy')\n",
    "plt.plot(balanced_X, balanced_Y, color='#00e676')"
   ]
  },
  {
   "cell_type": "code",
   "execution_count": 66,
   "metadata": {},
   "outputs": [
    {
     "data": {
      "text/plain": [
       "[<matplotlib.lines.Line2D at 0x7f1e8ed14a30>]"
      ]
     },
     "execution_count": 66,
     "metadata": {},
     "output_type": "execute_result"
    },
    {
     "data": {
      "image/png": "[encoded data removed]",
      "text/plain": [
       "<Figure size 432x288 with 1 Axes>"
      ]
     },
     "metadata": {
      "needs_background": "light"
     },
     "output_type": "display_data"
    }
   ],
   "source": [
    "plt.title('Simple to balanced acc among top 100 simple-acc-rated estimators')\n",
    "plt.xlabel('simple accuracy')\n",
    "plt.ylabel('balanced accuracy')\n",
    "plt.plot(simple_X, simple_Y, color='#00e676')"
   ]
  }
 ],
 "metadata": {
  "kernelspec": {
   "display_name": "Python 3",
   "language": "python",
   "name": "python3"
  },
  "language_info": {
   "codemirror_mode": {
    "name": "ipython",
    "version": 3
   },
   "file_extension": ".py",
   "mimetype": "text/x-python",
   "name": "python",
   "nbconvert_exporter": "python",
   "pygments_lexer": "ipython3",
   "version": "3.8.1"
  }
 },
 "nbformat": 4,
 "nbformat_minor": 4
}
