{
 "cells": [
  {
   "cell_type": "markdown",
   "metadata": {},
   "source": [
    "# Naive Bayes approach"
   ]
  },
  {
   "cell_type": "code",
   "execution_count": 1,
   "metadata": {},
   "outputs": [],
   "source": [
    "%load_ext autoreload\n",
    "%autoreload 2\n",
    "%matplotlib inline\n",
    "\n",
    "import common\n",
    "\n",
    "import matplotlib.pyplot as plt\n",
    "import numpy as np\n",
    "import pandas as pd\n",
    "import seaborn as sns\n",
    "import sklearn.dummy\n",
    "import sklearn.naive_bayes"
   ]
  },
  {
   "cell_type": "code",
   "execution_count": 2,
   "metadata": {},
   "outputs": [
    {
     "name": "stderr",
     "output_type": "stream",
     "text": [
      "/home/asgavar/.local/lib/python3.8/site-packages/numpy/lib/arraysetops.py:569: FutureWarning: elementwise comparison failed; returning scalar instead, but in the future will perform elementwise comparison\n",
      "  mask |= (ar1 == a)\n",
      "/home/asgavar/.local/lib/python3.8/site-packages/sklearn/dummy.py:131: FutureWarning: The default value of strategy will change from stratified to prior in 0.24.\n",
      "  warnings.warn(\"The default value of strategy will change from \"\n"
     ]
    },
    {
     "data": {
      "text/plain": [
       "DummyClassifier(constant=None, random_state=None, strategy='warn')"
      ]
     },
     "execution_count": 2,
     "metadata": {},
     "output_type": "execute_result"
    }
   ],
   "source": [
    "train_as_vec, train_targets, test_as_vec, test_targets = common.load_dataset('full', 'count', None)\n",
    "baseline_classifier = sklearn.dummy.DummyClassifier()\n",
    "baseline_classifier.fit(train_as_vec, train_targets)"
   ]
  },
  {
   "cell_type": "code",
   "execution_count": 5,
   "metadata": {},
   "outputs": [
    {
     "name": "stdout",
     "output_type": "stream",
     "text": [
      "SCORE: 0.2000767102404101\n",
      "[[0.0605044  0.06065865 0.11830942 0.22335339 0.53717415]\n",
      " [0.06114924 0.0627574  0.11786625 0.22937831 0.52884879]\n",
      " [0.06183259 0.05987122 0.12053492 0.22365527 0.53410599]\n",
      " [0.05973348 0.06221977 0.12017435 0.22433864 0.53353376]\n",
      " [0.06059053 0.06072749 0.11842413 0.2257322  0.53452565]]\n"
     ]
    },
    {
     "data": {
      "image/png": "[encoded data removed]",
      "text/plain": [
       "<Figure size 432x288 with 2 Axes>"
      ]
     },
     "metadata": {
      "needs_background": "light"
     },
     "output_type": "display_data"
    }
   ],
   "source": [
    "common.display_classifier_performance(baseline_classifier, test_as_vec, test_targets)"
   ]
  },
  {
   "cell_type": "markdown",
   "metadata": {},
   "source": [
    "## Performance measure row schema"
   ]
  },
  {
   "cell_type": "code",
   "execution_count": 3,
   "metadata": {},
   "outputs": [
    {
     "data": {
      "text/html": [
       "<div>\n",
       "<style scoped>\n",
       "    .dataframe tbody tr th:only-of-type {\n",
       "        vertical-align: middle;\n",
       "    }\n",
       "\n",
       "    .dataframe tbody tr th {\n",
       "        vertical-align: top;\n",
       "    }\n",
       "\n",
       "    .dataframe thead th {\n",
       "        text-align: right;\n",
       "    }\n",
       "</style>\n",
       "<table border=\"1\" class=\"dataframe\">\n",
       "  <thead>\n",
       "    <tr style=\"text-align: right;\">\n",
       "      <th></th>\n",
       "      <th>classifier_type</th>\n",
       "      <th>sampling</th>\n",
       "      <th>representation</th>\n",
       "      <th>preprocessing</th>\n",
       "      <th>fit_prior</th>\n",
       "      <th>alpha</th>\n",
       "      <th>real_world_acc</th>\n",
       "      <th>score</th>\n",
       "      <th>order_aware_error_1</th>\n",
       "      <th>order_aware_error_2</th>\n",
       "      <th>order_aware_error_3</th>\n",
       "      <th>order_aware_error_4</th>\n",
       "      <th>order_aware_error_5</th>\n",
       "      <th>order_aware_error_avg</th>\n",
       "    </tr>\n",
       "  </thead>\n",
       "  <tbody>\n",
       "    <tr>\n",
       "      <th>0</th>\n",
       "      <td>baseline</td>\n",
       "      <td>full</td>\n",
       "      <td>count</td>\n",
       "      <td>None</td>\n",
       "      <td>N/A</td>\n",
       "      <td>N/A</td>\n",
       "      <td>0.357489</td>\n",
       "      <td>0.199675</td>\n",
       "      <td>3.31997</td>\n",
       "      <td>2.386891</td>\n",
       "      <td>1.673749</td>\n",
       "      <td>1.240585</td>\n",
       "      <td>1.909803</td>\n",
       "      <td>2.1062</td>\n",
       "    </tr>\n",
       "  </tbody>\n",
       "</table>\n",
       "</div>"
      ],
      "text/plain": [
       "  classifier_type sampling representation preprocessing fit_prior alpha  \\\n",
       "0        baseline     full          count          None       N/A   N/A   \n",
       "\n",
       "   real_world_acc     score  order_aware_error_1  order_aware_error_2  \\\n",
       "0        0.357489  0.199675              3.31997             2.386891   \n",
       "\n",
       "   order_aware_error_3  order_aware_error_4  order_aware_error_5  \\\n",
       "0             1.673749             1.240585             1.909803   \n",
       "\n",
       "   order_aware_error_avg  \n",
       "0                 2.1062  "
      ]
     },
     "execution_count": 3,
     "metadata": {},
     "output_type": "execute_result"
    }
   ],
   "source": [
    "results_df = pd.DataFrame.from_dict([\n",
    "    common.perf_row(\n",
    "        baseline_classifier, test_as_vec, test_targets, 'baseline',\n",
    "        'full', 'count', None, fit_prior='N/A', alpha='N/A')])\n",
    "results_df"
   ]
  },
  {
   "cell_type": "markdown",
   "metadata": {},
   "source": [
    "## One multi-class combined classifier, exposed to all classes at once"
   ]
  },
  {
   "cell_type": "code",
   "execution_count": null,
   "metadata": {},
   "outputs": [
    {
     "name": "stdout",
     "output_type": "stream",
     "text": [
      "sampling = random_downsampling\n",
      "    representation = count\n",
      "        preprocessing = None\n",
      "            fit_prior = False\n",
      "            fit_prior = True\n",
      "        preprocessing = stem\n",
      "            fit_prior = False\n"
     ]
    }
   ],
   "source": [
    "for sampling in ['random_downsampling', 'full', 'oversampled']:\n",
    "    print(f'sampling = {sampling}')\n",
    "    for representation in ['count', 'tf_idf']:\n",
    "        print(f'    representation = {representation}')\n",
    "        for preprocessing in [None, 'stem']:\n",
    "            print(f'        preprocessing = {preprocessing}')\n",
    "            for fit_prior in [False, True]:\n",
    "                print(f'            fit_prior = {fit_prior}')\n",
    "                for alpha in np.arange(0.1, 5., .1):\n",
    "\n",
    "                    train_as_vec, train_targets, test_as_vec, test_targets = common.load_dataset(\n",
    "                        sampling, representation, preprocessing)\n",
    "\n",
    "                    classifier = sklearn.naive_bayes.MultinomialNB(fit_prior=fit_prior, alpha=alpha)\n",
    "                    classifier.fit(train_as_vec, train_targets)\n",
    "\n",
    "                    results_df = results_df.append([\n",
    "                            common.perf_row(\n",
    "                                classifier, test_as_vec, test_targets,\n",
    "                                'multiclass', sampling, representation, \n",
    "                                preprocessing, fit_prior=fit_prior, alpha=alpha)])"
   ]
  },
  {
   "cell_type": "markdown",
   "metadata": {},
   "source": [
    "## Word representation <-> score correlation"
   ]
  },
  {
   "cell_type": "code",
   "execution_count": 5,
   "metadata": {},
   "outputs": [
    {
     "data": {
      "text/plain": [
       "tf_idf    100\n",
       "Name: representation, dtype: int64"
      ]
     },
     "execution_count": 5,
     "metadata": {},
     "output_type": "execute_result"
    }
   ],
   "source": [
    "results_df.sort_values('score', ascending=False).head(100)['representation'].value_counts()"
   ]
  },
  {
   "cell_type": "code",
   "execution_count": 6,
   "metadata": {},
   "outputs": [
    {
     "data": {
      "text/plain": [
       "count    100\n",
       "Name: representation, dtype: int64"
      ]
     },
     "execution_count": 6,
     "metadata": {},
     "output_type": "execute_result"
    }
   ],
   "source": [
    "results_df.sort_values('real_world_acc', ascending=False).head(100)['representation'].value_counts()"
   ]
  },
  {
   "cell_type": "markdown",
   "metadata": {},
   "source": [
    "## Training dataset <-> score correlation"
   ]
  },
  {
   "cell_type": "code",
   "execution_count": 7,
   "metadata": {},
   "outputs": [
    {
     "data": {
      "text/plain": [
       "oversampled            63\n",
       "random_downsampling    37\n",
       "Name: sampling, dtype: int64"
      ]
     },
     "execution_count": 7,
     "metadata": {},
     "output_type": "execute_result"
    }
   ],
   "source": [
    "results_df.sort_values('score', ascending=False).head(100)['sampling'].value_counts()"
   ]
  },
  {
   "cell_type": "code",
   "execution_count": 11,
   "metadata": {},
   "outputs": [
    {
     "data": {
      "text/plain": [
       "random_downsampling    16\n",
       "oversampled             9\n",
       "Name: sampling, dtype: int64"
      ]
     },
     "execution_count": 11,
     "metadata": {},
     "output_type": "execute_result"
    }
   ],
   "source": [
    "results_df.sort_values('score', ascending=False).head(25)['sampling'].value_counts()"
   ]
  },
  {
   "cell_type": "code",
   "execution_count": 8,
   "metadata": {},
   "outputs": [
    {
     "data": {
      "text/plain": [
       "full    100\n",
       "Name: sampling, dtype: int64"
      ]
     },
     "execution_count": 8,
     "metadata": {},
     "output_type": "execute_result"
    }
   ],
   "source": [
    "results_df.sort_values('real_world_acc', ascending=False).head(100)['sampling'].value_counts()"
   ]
  },
  {
   "cell_type": "markdown",
   "metadata": {},
   "source": [
    "## Best of the best!"
   ]
  },
  {
   "cell_type": "code",
   "execution_count": 9,
   "metadata": {},
   "outputs": [
    {
     "data": {
      "text/html": [
       "<div>\n",
       "<style scoped>\n",
       "    .dataframe tbody tr th:only-of-type {\n",
       "        vertical-align: middle;\n",
       "    }\n",
       "\n",
       "    .dataframe tbody tr th {\n",
       "        vertical-align: top;\n",
       "    }\n",
       "\n",
       "    .dataframe thead th {\n",
       "        text-align: right;\n",
       "    }\n",
       "</style>\n",
       "<table border=\"1\" class=\"dataframe\">\n",
       "  <thead>\n",
       "    <tr style=\"text-align: right;\">\n",
       "      <th></th>\n",
       "      <th>classifier_type</th>\n",
       "      <th>sampling</th>\n",
       "      <th>representation</th>\n",
       "      <th>preprocessing</th>\n",
       "      <th>fit_prior</th>\n",
       "      <th>alpha</th>\n",
       "      <th>real_world_acc</th>\n",
       "      <th>score</th>\n",
       "      <th>order_aware_error_1</th>\n",
       "      <th>order_aware_error_2</th>\n",
       "      <th>order_aware_error_3</th>\n",
       "      <th>order_aware_error_4</th>\n",
       "      <th>order_aware_error_5</th>\n",
       "      <th>order_aware_error_avg</th>\n",
       "    </tr>\n",
       "  </thead>\n",
       "  <tbody>\n",
       "    <tr>\n",
       "      <th>0</th>\n",
       "      <td>multiclass</td>\n",
       "      <td>random_downsampling</td>\n",
       "      <td>tf_idf</td>\n",
       "      <td>None</td>\n",
       "      <td>True</td>\n",
       "      <td>0.5</td>\n",
       "      <td>0.488517</td>\n",
       "      <td>0.473654</td>\n",
       "      <td>1.619118</td>\n",
       "      <td>1.246848</td>\n",
       "      <td>1.309533</td>\n",
       "      <td>1.316007</td>\n",
       "      <td>1.673930</td>\n",
       "      <td>1.433087</td>\n",
       "    </tr>\n",
       "    <tr>\n",
       "      <th>0</th>\n",
       "      <td>multiclass</td>\n",
       "      <td>random_downsampling</td>\n",
       "      <td>tf_idf</td>\n",
       "      <td>None</td>\n",
       "      <td>True</td>\n",
       "      <td>0.6</td>\n",
       "      <td>0.483441</td>\n",
       "      <td>0.473553</td>\n",
       "      <td>1.599572</td>\n",
       "      <td>1.235634</td>\n",
       "      <td>1.300285</td>\n",
       "      <td>1.312845</td>\n",
       "      <td>1.659276</td>\n",
       "      <td>1.421522</td>\n",
       "    </tr>\n",
       "    <tr>\n",
       "      <th>0</th>\n",
       "      <td>multiclass</td>\n",
       "      <td>random_downsampling</td>\n",
       "      <td>tf_idf</td>\n",
       "      <td>None</td>\n",
       "      <td>False</td>\n",
       "      <td>0.5</td>\n",
       "      <td>0.485571</td>\n",
       "      <td>0.473528</td>\n",
       "      <td>1.564222</td>\n",
       "      <td>1.253281</td>\n",
       "      <td>1.294462</td>\n",
       "      <td>1.344850</td>\n",
       "      <td>1.700995</td>\n",
       "      <td>1.431562</td>\n",
       "    </tr>\n",
       "    <tr>\n",
       "      <th>0</th>\n",
       "      <td>multiclass</td>\n",
       "      <td>random_downsampling</td>\n",
       "      <td>tf_idf</td>\n",
       "      <td>stem</td>\n",
       "      <td>True</td>\n",
       "      <td>0.6</td>\n",
       "      <td>0.483140</td>\n",
       "      <td>0.473487</td>\n",
       "      <td>1.600641</td>\n",
       "      <td>1.237832</td>\n",
       "      <td>1.300724</td>\n",
       "      <td>1.312756</td>\n",
       "      <td>1.659905</td>\n",
       "      <td>1.422372</td>\n",
       "    </tr>\n",
       "    <tr>\n",
       "      <th>0</th>\n",
       "      <td>multiclass</td>\n",
       "      <td>oversampled</td>\n",
       "      <td>tf_idf</td>\n",
       "      <td>None</td>\n",
       "      <td>False</td>\n",
       "      <td>1.7</td>\n",
       "      <td>0.487805</td>\n",
       "      <td>0.473260</td>\n",
       "      <td>1.534214</td>\n",
       "      <td>1.226884</td>\n",
       "      <td>1.306507</td>\n",
       "      <td>1.364558</td>\n",
       "      <td>1.786619</td>\n",
       "      <td>1.443756</td>\n",
       "    </tr>\n",
       "    <tr>\n",
       "      <th>0</th>\n",
       "      <td>multiclass</td>\n",
       "      <td>random_downsampling</td>\n",
       "      <td>tf_idf</td>\n",
       "      <td>None</td>\n",
       "      <td>True</td>\n",
       "      <td>0.7</td>\n",
       "      <td>0.478611</td>\n",
       "      <td>0.473258</td>\n",
       "      <td>1.584076</td>\n",
       "      <td>1.228488</td>\n",
       "      <td>1.292567</td>\n",
       "      <td>1.308899</td>\n",
       "      <td>1.646435</td>\n",
       "      <td>1.412093</td>\n",
       "    </tr>\n",
       "    <tr>\n",
       "      <th>0</th>\n",
       "      <td>multiclass</td>\n",
       "      <td>random_downsampling</td>\n",
       "      <td>tf_idf</td>\n",
       "      <td>stem</td>\n",
       "      <td>True</td>\n",
       "      <td>0.5</td>\n",
       "      <td>0.488124</td>\n",
       "      <td>0.473246</td>\n",
       "      <td>1.618626</td>\n",
       "      <td>1.248743</td>\n",
       "      <td>1.309572</td>\n",
       "      <td>1.316240</td>\n",
       "      <td>1.674134</td>\n",
       "      <td>1.433463</td>\n",
       "    </tr>\n",
       "    <tr>\n",
       "      <th>0</th>\n",
       "      <td>multiclass</td>\n",
       "      <td>random_downsampling</td>\n",
       "      <td>tf_idf</td>\n",
       "      <td>None</td>\n",
       "      <td>False</td>\n",
       "      <td>0.4</td>\n",
       "      <td>0.490393</td>\n",
       "      <td>0.473210</td>\n",
       "      <td>1.585699</td>\n",
       "      <td>1.263219</td>\n",
       "      <td>1.303728</td>\n",
       "      <td>1.346984</td>\n",
       "      <td>1.717664</td>\n",
       "      <td>1.443459</td>\n",
       "    </tr>\n",
       "    <tr>\n",
       "      <th>0</th>\n",
       "      <td>multiclass</td>\n",
       "      <td>random_downsampling</td>\n",
       "      <td>tf_idf</td>\n",
       "      <td>None</td>\n",
       "      <td>True</td>\n",
       "      <td>0.4</td>\n",
       "      <td>0.493327</td>\n",
       "      <td>0.473200</td>\n",
       "      <td>1.643129</td>\n",
       "      <td>1.255679</td>\n",
       "      <td>1.319743</td>\n",
       "      <td>1.320129</td>\n",
       "      <td>1.689697</td>\n",
       "      <td>1.445675</td>\n",
       "    </tr>\n",
       "    <tr>\n",
       "      <th>0</th>\n",
       "      <td>multiclass</td>\n",
       "      <td>oversampled</td>\n",
       "      <td>tf_idf</td>\n",
       "      <td>None</td>\n",
       "      <td>False</td>\n",
       "      <td>1.8</td>\n",
       "      <td>0.485786</td>\n",
       "      <td>0.473197</td>\n",
       "      <td>1.525258</td>\n",
       "      <td>1.223438</td>\n",
       "      <td>1.303898</td>\n",
       "      <td>1.364743</td>\n",
       "      <td>1.786964</td>\n",
       "      <td>1.440860</td>\n",
       "    </tr>\n",
       "    <tr>\n",
       "      <th>0</th>\n",
       "      <td>multiclass</td>\n",
       "      <td>random_downsampling</td>\n",
       "      <td>tf_idf</td>\n",
       "      <td>None</td>\n",
       "      <td>False</td>\n",
       "      <td>0.6</td>\n",
       "      <td>0.480390</td>\n",
       "      <td>0.473168</td>\n",
       "      <td>1.545759</td>\n",
       "      <td>1.243675</td>\n",
       "      <td>1.284616</td>\n",
       "      <td>1.341702</td>\n",
       "      <td>1.686338</td>\n",
       "      <td>1.420418</td>\n",
       "    </tr>\n",
       "    <tr>\n",
       "      <th>0</th>\n",
       "      <td>multiclass</td>\n",
       "      <td>random_downsampling</td>\n",
       "      <td>tf_idf</td>\n",
       "      <td>None</td>\n",
       "      <td>True</td>\n",
       "      <td>0.8</td>\n",
       "      <td>0.474449</td>\n",
       "      <td>0.473164</td>\n",
       "      <td>1.568326</td>\n",
       "      <td>1.223258</td>\n",
       "      <td>1.285165</td>\n",
       "      <td>1.305035</td>\n",
       "      <td>1.636193</td>\n",
       "      <td>1.403595</td>\n",
       "    </tr>\n",
       "    <tr>\n",
       "      <th>0</th>\n",
       "      <td>multiclass</td>\n",
       "      <td>oversampled</td>\n",
       "      <td>tf_idf</td>\n",
       "      <td>None</td>\n",
       "      <td>False</td>\n",
       "      <td>1.6</td>\n",
       "      <td>0.489573</td>\n",
       "      <td>0.473123</td>\n",
       "      <td>1.544250</td>\n",
       "      <td>1.229417</td>\n",
       "      <td>1.308623</td>\n",
       "      <td>1.364322</td>\n",
       "      <td>1.786358</td>\n",
       "      <td>1.446594</td>\n",
       "    </tr>\n",
       "    <tr>\n",
       "      <th>0</th>\n",
       "      <td>multiclass</td>\n",
       "      <td>oversampled</td>\n",
       "      <td>tf_idf</td>\n",
       "      <td>None</td>\n",
       "      <td>False</td>\n",
       "      <td>1.9</td>\n",
       "      <td>0.483875</td>\n",
       "      <td>0.473074</td>\n",
       "      <td>1.514683</td>\n",
       "      <td>1.219770</td>\n",
       "      <td>1.301742</td>\n",
       "      <td>1.364872</td>\n",
       "      <td>1.787376</td>\n",
       "      <td>1.437689</td>\n",
       "    </tr>\n",
       "    <tr>\n",
       "      <th>0</th>\n",
       "      <td>multiclass</td>\n",
       "      <td>random_downsampling</td>\n",
       "      <td>tf_idf</td>\n",
       "      <td>stem</td>\n",
       "      <td>False</td>\n",
       "      <td>0.5</td>\n",
       "      <td>0.485077</td>\n",
       "      <td>0.473062</td>\n",
       "      <td>1.563769</td>\n",
       "      <td>1.255090</td>\n",
       "      <td>1.294359</td>\n",
       "      <td>1.345420</td>\n",
       "      <td>1.701473</td>\n",
       "      <td>1.432022</td>\n",
       "    </tr>\n",
       "    <tr>\n",
       "      <th>0</th>\n",
       "      <td>multiclass</td>\n",
       "      <td>oversampled</td>\n",
       "      <td>tf_idf</td>\n",
       "      <td>None</td>\n",
       "      <td>False</td>\n",
       "      <td>1.4</td>\n",
       "      <td>0.493619</td>\n",
       "      <td>0.473040</td>\n",
       "      <td>1.566512</td>\n",
       "      <td>1.239669</td>\n",
       "      <td>1.314188</td>\n",
       "      <td>1.363525</td>\n",
       "      <td>1.784850</td>\n",
       "      <td>1.453749</td>\n",
       "    </tr>\n",
       "    <tr>\n",
       "      <th>0</th>\n",
       "      <td>multiclass</td>\n",
       "      <td>oversampled</td>\n",
       "      <td>tf_idf</td>\n",
       "      <td>None</td>\n",
       "      <td>False</td>\n",
       "      <td>1.5</td>\n",
       "      <td>0.491576</td>\n",
       "      <td>0.473021</td>\n",
       "      <td>1.555687</td>\n",
       "      <td>1.233107</td>\n",
       "      <td>1.311224</td>\n",
       "      <td>1.364098</td>\n",
       "      <td>1.785905</td>\n",
       "      <td>1.450004</td>\n",
       "    </tr>\n",
       "    <tr>\n",
       "      <th>0</th>\n",
       "      <td>multiclass</td>\n",
       "      <td>random_downsampling</td>\n",
       "      <td>tf_idf</td>\n",
       "      <td>stem</td>\n",
       "      <td>True</td>\n",
       "      <td>0.7</td>\n",
       "      <td>0.478208</td>\n",
       "      <td>0.472989</td>\n",
       "      <td>1.583333</td>\n",
       "      <td>1.231890</td>\n",
       "      <td>1.293599</td>\n",
       "      <td>1.308853</td>\n",
       "      <td>1.647116</td>\n",
       "      <td>1.412958</td>\n",
       "    </tr>\n",
       "    <tr>\n",
       "      <th>0</th>\n",
       "      <td>multiclass</td>\n",
       "      <td>random_downsampling</td>\n",
       "      <td>tf_idf</td>\n",
       "      <td>stem</td>\n",
       "      <td>True</td>\n",
       "      <td>0.4</td>\n",
       "      <td>0.492917</td>\n",
       "      <td>0.472946</td>\n",
       "      <td>1.641326</td>\n",
       "      <td>1.257737</td>\n",
       "      <td>1.320491</td>\n",
       "      <td>1.320512</td>\n",
       "      <td>1.689804</td>\n",
       "      <td>1.445974</td>\n",
       "    </tr>\n",
       "    <tr>\n",
       "      <th>0</th>\n",
       "      <td>multiclass</td>\n",
       "      <td>random_downsampling</td>\n",
       "      <td>tf_idf</td>\n",
       "      <td>stem</td>\n",
       "      <td>False</td>\n",
       "      <td>0.6</td>\n",
       "      <td>0.480006</td>\n",
       "      <td>0.472902</td>\n",
       "      <td>1.545698</td>\n",
       "      <td>1.245480</td>\n",
       "      <td>1.284955</td>\n",
       "      <td>1.342320</td>\n",
       "      <td>1.686933</td>\n",
       "      <td>1.421077</td>\n",
       "    </tr>\n",
       "    <tr>\n",
       "      <th>0</th>\n",
       "      <td>multiclass</td>\n",
       "      <td>oversampled</td>\n",
       "      <td>tf_idf</td>\n",
       "      <td>stem</td>\n",
       "      <td>False</td>\n",
       "      <td>1.7</td>\n",
       "      <td>0.487320</td>\n",
       "      <td>0.472892</td>\n",
       "      <td>1.533034</td>\n",
       "      <td>1.229177</td>\n",
       "      <td>1.307097</td>\n",
       "      <td>1.364479</td>\n",
       "      <td>1.786811</td>\n",
       "      <td>1.444120</td>\n",
       "    </tr>\n",
       "    <tr>\n",
       "      <th>0</th>\n",
       "      <td>multiclass</td>\n",
       "      <td>oversampled</td>\n",
       "      <td>tf_idf</td>\n",
       "      <td>None</td>\n",
       "      <td>False</td>\n",
       "      <td>1.3</td>\n",
       "      <td>0.495697</td>\n",
       "      <td>0.472862</td>\n",
       "      <td>1.575653</td>\n",
       "      <td>1.242993</td>\n",
       "      <td>1.317344</td>\n",
       "      <td>1.362964</td>\n",
       "      <td>1.784326</td>\n",
       "      <td>1.456656</td>\n",
       "    </tr>\n",
       "    <tr>\n",
       "      <th>0</th>\n",
       "      <td>multiclass</td>\n",
       "      <td>oversampled</td>\n",
       "      <td>tf_idf</td>\n",
       "      <td>None</td>\n",
       "      <td>False</td>\n",
       "      <td>2</td>\n",
       "      <td>0.481846</td>\n",
       "      <td>0.472840</td>\n",
       "      <td>1.506008</td>\n",
       "      <td>1.216700</td>\n",
       "      <td>1.299365</td>\n",
       "      <td>1.364867</td>\n",
       "      <td>1.788541</td>\n",
       "      <td>1.435096</td>\n",
       "    </tr>\n",
       "    <tr>\n",
       "      <th>0</th>\n",
       "      <td>multiclass</td>\n",
       "      <td>random_downsampling</td>\n",
       "      <td>tf_idf</td>\n",
       "      <td>None</td>\n",
       "      <td>False</td>\n",
       "      <td>0.7</td>\n",
       "      <td>0.475509</td>\n",
       "      <td>0.472793</td>\n",
       "      <td>1.531418</td>\n",
       "      <td>1.236844</td>\n",
       "      <td>1.276926</td>\n",
       "      <td>1.338753</td>\n",
       "      <td>1.673628</td>\n",
       "      <td>1.411514</td>\n",
       "    </tr>\n",
       "    <tr>\n",
       "      <th>0</th>\n",
       "      <td>multiclass</td>\n",
       "      <td>random_downsampling</td>\n",
       "      <td>tf_idf</td>\n",
       "      <td>stem</td>\n",
       "      <td>True</td>\n",
       "      <td>0.8</td>\n",
       "      <td>0.473964</td>\n",
       "      <td>0.472788</td>\n",
       "      <td>1.566393</td>\n",
       "      <td>1.224634</td>\n",
       "      <td>1.285922</td>\n",
       "      <td>1.305158</td>\n",
       "      <td>1.636311</td>\n",
       "      <td>1.403684</td>\n",
       "    </tr>\n",
       "  </tbody>\n",
       "</table>\n",
       "</div>"
      ],
      "text/plain": [
       "  classifier_type             sampling representation preprocessing fit_prior  \\\n",
       "0      multiclass  random_downsampling         tf_idf          None      True   \n",
       "0      multiclass  random_downsampling         tf_idf          None      True   \n",
       "0      multiclass  random_downsampling         tf_idf          None     False   \n",
       "0      multiclass  random_downsampling         tf_idf          stem      True   \n",
       "0      multiclass          oversampled         tf_idf          None     False   \n",
       "0      multiclass  random_downsampling         tf_idf          None      True   \n",
       "0      multiclass  random_downsampling         tf_idf          stem      True   \n",
       "0      multiclass  random_downsampling         tf_idf          None     False   \n",
       "0      multiclass  random_downsampling         tf_idf          None      True   \n",
       "0      multiclass          oversampled         tf_idf          None     False   \n",
       "0      multiclass  random_downsampling         tf_idf          None     False   \n",
       "0      multiclass  random_downsampling         tf_idf          None      True   \n",
       "0      multiclass          oversampled         tf_idf          None     False   \n",
       "0      multiclass          oversampled         tf_idf          None     False   \n",
       "0      multiclass  random_downsampling         tf_idf          stem     False   \n",
       "0      multiclass          oversampled         tf_idf          None     False   \n",
       "0      multiclass          oversampled         tf_idf          None     False   \n",
       "0      multiclass  random_downsampling         tf_idf          stem      True   \n",
       "0      multiclass  random_downsampling         tf_idf          stem      True   \n",
       "0      multiclass  random_downsampling         tf_idf          stem     False   \n",
       "0      multiclass          oversampled         tf_idf          stem     False   \n",
       "0      multiclass          oversampled         tf_idf          None     False   \n",
       "0      multiclass          oversampled         tf_idf          None     False   \n",
       "0      multiclass  random_downsampling         tf_idf          None     False   \n",
       "0      multiclass  random_downsampling         tf_idf          stem      True   \n",
       "\n",
       "  alpha  real_world_acc     score  order_aware_error_1  order_aware_error_2  \\\n",
       "0   0.5        0.488517  0.473654             1.619118             1.246848   \n",
       "0   0.6        0.483441  0.473553             1.599572             1.235634   \n",
       "0   0.5        0.485571  0.473528             1.564222             1.253281   \n",
       "0   0.6        0.483140  0.473487             1.600641             1.237832   \n",
       "0   1.7        0.487805  0.473260             1.534214             1.226884   \n",
       "0   0.7        0.478611  0.473258             1.584076             1.228488   \n",
       "0   0.5        0.488124  0.473246             1.618626             1.248743   \n",
       "0   0.4        0.490393  0.473210             1.585699             1.263219   \n",
       "0   0.4        0.493327  0.473200             1.643129             1.255679   \n",
       "0   1.8        0.485786  0.473197             1.525258             1.223438   \n",
       "0   0.6        0.480390  0.473168             1.545759             1.243675   \n",
       "0   0.8        0.474449  0.473164             1.568326             1.223258   \n",
       "0   1.6        0.489573  0.473123             1.544250             1.229417   \n",
       "0   1.9        0.483875  0.473074             1.514683             1.219770   \n",
       "0   0.5        0.485077  0.473062             1.563769             1.255090   \n",
       "0   1.4        0.493619  0.473040             1.566512             1.239669   \n",
       "0   1.5        0.491576  0.473021             1.555687             1.233107   \n",
       "0   0.7        0.478208  0.472989             1.583333             1.231890   \n",
       "0   0.4        0.492917  0.472946             1.641326             1.257737   \n",
       "0   0.6        0.480006  0.472902             1.545698             1.245480   \n",
       "0   1.7        0.487320  0.472892             1.533034             1.229177   \n",
       "0   1.3        0.495697  0.472862             1.575653             1.242993   \n",
       "0     2        0.481846  0.472840             1.506008             1.216700   \n",
       "0   0.7        0.475509  0.472793             1.531418             1.236844   \n",
       "0   0.8        0.473964  0.472788             1.566393             1.224634   \n",
       "\n",
       "   order_aware_error_3  order_aware_error_4  order_aware_error_5  \\\n",
       "0             1.309533             1.316007             1.673930   \n",
       "0             1.300285             1.312845             1.659276   \n",
       "0             1.294462             1.344850             1.700995   \n",
       "0             1.300724             1.312756             1.659905   \n",
       "0             1.306507             1.364558             1.786619   \n",
       "0             1.292567             1.308899             1.646435   \n",
       "0             1.309572             1.316240             1.674134   \n",
       "0             1.303728             1.346984             1.717664   \n",
       "0             1.319743             1.320129             1.689697   \n",
       "0             1.303898             1.364743             1.786964   \n",
       "0             1.284616             1.341702             1.686338   \n",
       "0             1.285165             1.305035             1.636193   \n",
       "0             1.308623             1.364322             1.786358   \n",
       "0             1.301742             1.364872             1.787376   \n",
       "0             1.294359             1.345420             1.701473   \n",
       "0             1.314188             1.363525             1.784850   \n",
       "0             1.311224             1.364098             1.785905   \n",
       "0             1.293599             1.308853             1.647116   \n",
       "0             1.320491             1.320512             1.689804   \n",
       "0             1.284955             1.342320             1.686933   \n",
       "0             1.307097             1.364479             1.786811   \n",
       "0             1.317344             1.362964             1.784326   \n",
       "0             1.299365             1.364867             1.788541   \n",
       "0             1.276926             1.338753             1.673628   \n",
       "0             1.285922             1.305158             1.636311   \n",
       "\n",
       "   order_aware_error_avg  \n",
       "0               1.433087  \n",
       "0               1.421522  \n",
       "0               1.431562  \n",
       "0               1.422372  \n",
       "0               1.443756  \n",
       "0               1.412093  \n",
       "0               1.433463  \n",
       "0               1.443459  \n",
       "0               1.445675  \n",
       "0               1.440860  \n",
       "0               1.420418  \n",
       "0               1.403595  \n",
       "0               1.446594  \n",
       "0               1.437689  \n",
       "0               1.432022  \n",
       "0               1.453749  \n",
       "0               1.450004  \n",
       "0               1.412958  \n",
       "0               1.445974  \n",
       "0               1.421077  \n",
       "0               1.444120  \n",
       "0               1.456656  \n",
       "0               1.435096  \n",
       "0               1.411514  \n",
       "0               1.403684  "
      ]
     },
     "execution_count": 9,
     "metadata": {},
     "output_type": "execute_result"
    }
   ],
   "source": [
    "results_df.sort_values('score', ascending=False).head(25)"
   ]
  },
  {
   "cell_type": "code",
   "execution_count": 1,
   "metadata": {},
   "outputs": [
    {
     "ename": "NameError",
     "evalue": "name 'results_df' is not defined",
     "output_type": "error",
     "traceback": [
      "\u001b[0;31m---------------------------------------------------------------------------\u001b[0m",
      "\u001b[0;31mNameError\u001b[0m                                 Traceback (most recent call last)",
      "\u001b[0;32m<ipython-input-1-8fb3e58d4dff>\u001b[0m in \u001b[0;36m<module>\u001b[0;34m\u001b[0m\n\u001b[0;32m----> 1\u001b[0;31m \u001b[0mresults_df\u001b[0m\u001b[0;34m.\u001b[0m\u001b[0msort_values\u001b[0m\u001b[0;34m(\u001b[0m\u001b[0;34m'real_world_acc'\u001b[0m\u001b[0;34m,\u001b[0m \u001b[0mascending\u001b[0m\u001b[0;34m=\u001b[0m\u001b[0;32mFalse\u001b[0m\u001b[0;34m)\u001b[0m\u001b[0;34m.\u001b[0m\u001b[0mhead\u001b[0m\u001b[0;34m(\u001b[0m\u001b[0;36m25\u001b[0m\u001b[0;34m)\u001b[0m\u001b[0;34m\u001b[0m\u001b[0;34m\u001b[0m\u001b[0m\n\u001b[0m",
      "\u001b[0;31mNameError\u001b[0m: name 'results_df' is not defined"
     ]
    }
   ],
   "source": [
    "results_df.sort_values('real_world_acc', ascending=False).head(25)"
   ]
  },
  {
   "cell_type": "code",
   "execution_count": 35,
   "metadata": {},
   "outputs": [
    {
     "data": {
      "text/plain": [
       "MultinomialNB(alpha=0.5, class_prior=None, fit_prior=True)"
      ]
     },
     "execution_count": 35,
     "metadata": {},
     "output_type": "execute_result"
    }
   ],
   "source": [
    "train_as_vec, train_targets, test_as_vec, test_targets = common.load_dataset(\n",
    "    'random_downsampling', 'tf_idf', None)\n",
    "\n",
    "best_balanced = sklearn.naive_bayes.MultinomialNB(alpha=0.5)\n",
    "best_balanced.fit(train_as_vec, train_targets)"
   ]
  },
  {
   "cell_type": "code",
   "execution_count": 39,
   "metadata": {},
   "outputs": [
    {
     "name": "stdout",
     "output_type": "stream",
     "text": [
      "SCORE: 0.4736542603211971\n",
      "[[0.60909301 0.25119543 0.07203455 0.03304797 0.03462903]\n",
      " [0.24655815 0.39952932 0.23989017 0.07981957 0.03420278]\n",
      " [0.10791481 0.19114413 0.39982169 0.22325904 0.07786033]\n",
      " [0.05742403 0.06501815 0.24191954 0.43081548 0.20482279]\n",
      " [0.05848307 0.02941605 0.08313194 0.29995714 0.52901179]]\n"
     ]
    },
    {
     "data": {
      "image/png": "[encoded data removed]",
      "text/plain": [
       "<Figure size 432x288 with 2 Axes>"
      ]
     },
     "metadata": {
      "needs_background": "light"
     },
     "output_type": "display_data"
    }
   ],
   "source": [
    "common.display_classifier_performance(best_balanced, test_as_vec, test_targets)"
   ]
  },
  {
   "cell_type": "code",
   "execution_count": 40,
   "metadata": {},
   "outputs": [
    {
     "name": "stderr",
     "output_type": "stream",
     "text": [
      "/home/asgavar/.local/lib/python3.8/site-packages/numpy/lib/arraysetops.py:568: FutureWarning: elementwise comparison failed; returning scalar instead, but in the future will perform elementwise comparison\n",
      "  mask |= (ar1 == a)\n"
     ]
    },
    {
     "data": {
      "text/plain": [
       "MultinomialNB(alpha=1.9, class_prior=None, fit_prior=True)"
      ]
     },
     "execution_count": 40,
     "metadata": {},
     "output_type": "execute_result"
    }
   ],
   "source": [
    "train_as_vec, train_targets, test_as_vec, test_targets = common.load_dataset(\n",
    "    'full', 'count', None)\n",
    "\n",
    "best_real_world = sklearn.naive_bayes.MultinomialNB(alpha=1.9)\n",
    "best_real_world.fit(train_as_vec, train_targets)"
   ]
  },
  {
   "cell_type": "code",
   "execution_count": 43,
   "metadata": {},
   "outputs": [
    {
     "name": "stdout",
     "output_type": "stream",
     "text": [
      "SCORE: 0.4077921971996866\n",
      "[[4.71656640e-01 7.11476168e-02 1.47192658e-01 6.55560697e-02\n",
      "  2.44447015e-01]\n",
      " [1.67130810e-01 7.68778192e-02 3.42851540e-01 1.71680722e-01\n",
      "  2.41459110e-01]\n",
      " [4.89747400e-02 1.58098068e-02 2.98999505e-01 2.95770183e-01\n",
      "  3.40445765e-01]\n",
      " [1.52090464e-02 2.28863899e-03 9.41983002e-02 3.30156980e-01\n",
      "  5.58147035e-01]\n",
      " [1.16374111e-02 7.77594670e-04 1.68729207e-02 1.09442032e-01\n",
      "  8.61270042e-01]]\n"
     ]
    },
    {
     "data": {
      "image/png": "[encoded data removed]",
      "text/plain": [
       "<Figure size 432x288 with 2 Axes>"
      ]
     },
     "metadata": {
      "needs_background": "light"
     },
     "output_type": "display_data"
    }
   ],
   "source": [
    "common.display_classifier_performance(best_real_world, test_as_vec, test_targets)"
   ]
  },
  {
   "cell_type": "markdown",
   "metadata": {},
   "source": [
    "## Balanced vs Simple accuracy"
   ]
  },
  {
   "cell_type": "code",
   "execution_count": 48,
   "metadata": {},
   "outputs": [],
   "source": [
    "top_balanced = results_df.sort_values('score', ascending=False).head(100)\n",
    "top_simple = results_df.sort_values('real_world_acc', ascending=False).head(100)"
   ]
  },
  {
   "cell_type": "code",
   "execution_count": 50,
   "metadata": {},
   "outputs": [],
   "source": [
    "balanced_X, balanced_Y = top_balanced['score'].values, top_balanced['real_world_acc'].values\n",
    "simple_X, simple_Y = top_simple['real_world_acc'].values, top_simple['score'].values"
   ]
  },
  {
   "cell_type": "code",
   "execution_count": 76,
   "metadata": {},
   "outputs": [
    {
     "data": {
      "text/plain": [
       "[<matplotlib.lines.Line2D at 0x7f1e8eb60df0>]"
      ]
     },
     "execution_count": 76,
     "metadata": {},
     "output_type": "execute_result"
    },
    {
     "data": {
      "image/png": "[encoded data removed]",
      "text/plain": [
       "<Figure size 432x288 with 1 Axes>"
      ]
     },
     "metadata": {
      "needs_background": "light"
     },
     "output_type": "display_data"
    }
   ],
   "source": [
    "plt.title('Balanced to simple acc among top 100 balanced-acc-rated estimators')\n",
    "plt.xlabel('balanced accuracy')\n",
    "plt.ylabel('simple accuracy')\n",
    "plt.plot(balanced_X, balanced_Y, color='#00e676', linestyle='', marker='.')"
   ]
  },
  {
   "cell_type": "code",
   "execution_count": 78,
   "metadata": {},
   "outputs": [
    {
     "data": {
      "text/plain": [
       "[<matplotlib.lines.Line2D at 0x7f1e8e7ff9d0>]"
      ]
     },
     "execution_count": 78,
     "metadata": {},
     "output_type": "execute_result"
    },
    {
     "data": {
      "image/png": "[encoded data removed]",
      "text/plain": [
       "<Figure size 432x288 with 1 Axes>"
      ]
     },
     "metadata": {
      "needs_background": "light"
     },
     "output_type": "display_data"
    }
   ],
   "source": [
    "plt.title('Simple to balanced acc among top 100 simple-acc-rated estimators')\n",
    "plt.xlabel('simple accuracy')\n",
    "plt.ylabel('balanced accuracy')\n",
    "plt.plot(simple_X, simple_Y, color='#00e676', linestyle='', marker='.')"
   ]
  }
 ],
 "metadata": {
  "kernelspec": {
   "display_name": "Python 3",
   "language": "python",
   "name": "python3"
  },
  "language_info": {
   "codemirror_mode": {
    "name": "ipython",
    "version": 3
   },
   "file_extension": ".py",
   "mimetype": "text/x-python",
   "name": "python",
   "nbconvert_exporter": "python",
   "pygments_lexer": "ipython3",
   "version": "3.8.1"
  }
 },
 "nbformat": 4,
 "nbformat_minor": 4
}
