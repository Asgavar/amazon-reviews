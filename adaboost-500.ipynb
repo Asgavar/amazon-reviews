{
 "cells": [
  {
   "cell_type": "code",
   "execution_count": 1,
   "metadata": {},
   "outputs": [],
   "source": [
    "%load_ext autoreload\n",
    "%autoreload 2\n",
    "%matplotlib inline\n",
    "\n",
    "import common\n",
    "\n",
    "import matplotlib.pyplot as plt\n",
    "import numpy as np\n",
    "import pandas as pd\n",
    "import sklearn.dummy\n",
    "import sklearn.ensemble"
   ]
  },
  {
   "cell_type": "code",
   "execution_count": 3,
   "metadata": {},
   "outputs": [
    {
     "name": "stderr",
     "output_type": "stream",
     "text": [
      "/home/asgavar/.local/lib/python3.8/site-packages/numpy/lib/arraysetops.py:569: FutureWarning: elementwise comparison failed; returning scalar instead, but in the future will perform elementwise comparison\n",
      "  mask |= (ar1 == a)\n",
      "/home/asgavar/.local/lib/python3.8/site-packages/sklearn/dummy.py:131: FutureWarning: The default value of strategy will change from stratified to prior in 0.24.\n",
      "  warnings.warn(\"The default value of strategy will change from \"\n"
     ]
    },
    {
     "data": {
      "text/plain": [
       "DummyClassifier(constant=None, random_state=None, strategy='warn')"
      ]
     },
     "execution_count": 3,
     "metadata": {},
     "output_type": "execute_result"
    }
   ],
   "source": [
    "train_as_vec, train_targets, test_as_vec, test_targets = common.load_dataset('full', 'count', None)\n",
    "baseline_classifier = sklearn.dummy.DummyClassifier()\n",
    "baseline_classifier.fit(train_as_vec, train_targets)"
   ]
  },
  {
   "cell_type": "code",
   "execution_count": 4,
   "metadata": {},
   "outputs": [
    {
     "name": "stdout",
     "output_type": "stream",
     "text": [
      "SCORE: 0.20070891993683265\n",
      "[[0.06096714 0.06004165 0.12220423 0.22215795 0.53462903]\n",
      " [0.06220828 0.0578937  0.11939596 0.22635811 0.53414395]\n",
      " [0.06341753 0.05907875 0.11964339 0.2268846  0.53097573]\n",
      " [0.06136673 0.06127311 0.1174904  0.22651284 0.53335691]\n",
      " [0.06070098 0.06057286 0.1185611  0.225392   0.53477306]]\n"
     ]
    },
    {
     "data": {
      "image/png": "[encoded data removed]",
      "text/plain": [
       "<Figure size 432x288 with 2 Axes>"
      ]
     },
     "metadata": {
      "needs_background": "light"
     },
     "output_type": "display_data"
    }
   ],
   "source": [
    "common.display_classifier_performance(baseline_classifier, test_as_vec, test_targets)"
   ]
  },
  {
   "cell_type": "code",
   "execution_count": 5,
   "metadata": {},
   "outputs": [
    {
     "data": {
      "text/html": [
       "<div>\n",
       "<style scoped>\n",
       "    .dataframe tbody tr th:only-of-type {\n",
       "        vertical-align: middle;\n",
       "    }\n",
       "\n",
       "    .dataframe tbody tr th {\n",
       "        vertical-align: top;\n",
       "    }\n",
       "\n",
       "    .dataframe thead th {\n",
       "        text-align: right;\n",
       "    }\n",
       "</style>\n",
       "<table border=\"1\" class=\"dataframe\">\n",
       "  <thead>\n",
       "    <tr style=\"text-align: right;\">\n",
       "      <th></th>\n",
       "      <th>classifier_type</th>\n",
       "      <th>sampling</th>\n",
       "      <th>representation</th>\n",
       "      <th>preprocessing</th>\n",
       "      <th>learning_rate</th>\n",
       "      <th>n_estimators</th>\n",
       "      <th>real_world_acc</th>\n",
       "      <th>score</th>\n",
       "    </tr>\n",
       "  </thead>\n",
       "  <tbody>\n",
       "    <tr>\n",
       "      <th>0</th>\n",
       "      <td>baseline</td>\n",
       "      <td>full</td>\n",
       "      <td>count</td>\n",
       "      <td>None</td>\n",
       "      <td>N/A</td>\n",
       "      <td>N/A</td>\n",
       "      <td>0.358057</td>\n",
       "      <td>0.200385</td>\n",
       "    </tr>\n",
       "  </tbody>\n",
       "</table>\n",
       "</div>"
      ],
      "text/plain": [
       "  classifier_type sampling representation preprocessing learning_rate  \\\n",
       "0        baseline     full          count          None           N/A   \n",
       "\n",
       "  n_estimators  real_world_acc     score  \n",
       "0          N/A        0.358057  0.200385  "
      ]
     },
     "execution_count": 5,
     "metadata": {},
     "output_type": "execute_result"
    }
   ],
   "source": [
    "results_df = pd.DataFrame.from_dict([\n",
    "    common.perf_row(\n",
    "        baseline_classifier, test_as_vec, test_targets, 'baseline',\n",
    "        'full', 'count', None, learning_rate='N/A', n_estimators='N/A')])\n",
    "results_df"
   ]
  },
  {
   "cell_type": "code",
   "execution_count": 11,
   "metadata": {},
   "outputs": [
    {
     "data": {
      "text/plain": [
       "0.39705397202428083"
      ]
     },
     "execution_count": 11,
     "metadata": {},
     "output_type": "execute_result"
    }
   ],
   "source": [
    "train_as_vec, train_targets, test_as_vec, test_targets = common.load_dataset('random_downsampling', 'count', None)\n",
    "classifier = sklearn.ensemble.AdaBoostClassifier(n_estimators=1)\n",
    "classifier.fit(train_as_vec, train_targets)\n",
    "classifier.score(test_as_vec, test_targets)"
   ]
  },
  {
   "cell_type": "code",
   "execution_count": 9,
   "metadata": {},
   "outputs": [
    {
     "data": {
      "text/plain": [
       "0.533355483919617"
      ]
     },
     "execution_count": 9,
     "metadata": {},
     "output_type": "execute_result"
    }
   ],
   "source": [
    "classifier.score(test_as_vec, test_targets)"
   ]
  },
  {
   "cell_type": "code",
   "execution_count": null,
   "metadata": {},
   "outputs": [
    {
     "name": "stdout",
     "output_type": "stream",
     "text": [
      "sampling = random_downsampling\n",
      "    representation = count\n",
      "        learning_rate = 0.1\n",
      "        learning_rate = 0.5\n",
      "        learning_rate = 1\n",
      "    representation = tf_idf\n",
      "        learning_rate = 0.1\n",
      "        learning_rate = 0.5\n",
      "        learning_rate = 1\n",
      "sampling = full\n",
      "    representation = count\n",
      "        learning_rate = 0.1\n"
     ]
    }
   ],
   "source": [
    "N_ESTIMATORS = 25\n",
    "\n",
    "for sampling in ['random_downsampling', 'full', 'oversampled']:\n",
    "    print(f'sampling = {sampling}')\n",
    "    for representation in ['count', 'tf_idf']:\n",
    "        print(f'    representation = {representation}')\n",
    "        for learning_rate in [0.1, 0.5, 1]:\n",
    "            print(f'        learning_rate = {learning_rate}')\n",
    "\n",
    "            train_as_vec, train_targets, test_as_vec, test_targets = common.load_dataset(\n",
    "                sampling, representation, None)\n",
    "\n",
    "            classifier = sklearn.ensemble.AdaBoostClassifier(n_estimators=N_ESTIMATORS, learning_rate=learning_rate)\n",
    "            classifier.fit(train_as_vec, train_targets)\n",
    "\n",
    "            results_df = results_df.append([\n",
    "                    common.perf_row(\n",
    "                        classifier, test_as_vec, test_targets,\n",
    "                        'N/A', sampling, representation, \n",
    "                        None, n_estimators=N_ESTIMATORS, learning_rate=learning_rate)])"
   ]
  },
  {
   "cell_type": "code",
   "execution_count": 6,
   "metadata": {},
   "outputs": [
    {
     "data": {
      "text/html": [
       "<div>\n",
       "<style scoped>\n",
       "    .dataframe tbody tr th:only-of-type {\n",
       "        vertical-align: middle;\n",
       "    }\n",
       "\n",
       "    .dataframe tbody tr th {\n",
       "        vertical-align: top;\n",
       "    }\n",
       "\n",
       "    .dataframe thead th {\n",
       "        text-align: right;\n",
       "    }\n",
       "</style>\n",
       "<table border=\"1\" class=\"dataframe\">\n",
       "  <thead>\n",
       "    <tr style=\"text-align: right;\">\n",
       "      <th></th>\n",
       "      <th>classifier_type</th>\n",
       "      <th>sampling</th>\n",
       "      <th>representation</th>\n",
       "      <th>preprocessing</th>\n",
       "      <th>learning_rate</th>\n",
       "      <th>n_estimators</th>\n",
       "      <th>real_world_acc</th>\n",
       "      <th>score</th>\n",
       "    </tr>\n",
       "  </thead>\n",
       "  <tbody>\n",
       "    <tr>\n",
       "      <th>0</th>\n",
       "      <td>N/A</td>\n",
       "      <td>oversampled</td>\n",
       "      <td>tf_idf</td>\n",
       "      <td>None</td>\n",
       "      <td>1</td>\n",
       "      <td>25</td>\n",
       "      <td>0.456451</td>\n",
       "      <td>0.379707</td>\n",
       "    </tr>\n",
       "    <tr>\n",
       "      <th>0</th>\n",
       "      <td>N/A</td>\n",
       "      <td>random_downsampling</td>\n",
       "      <td>tf_idf</td>\n",
       "      <td>None</td>\n",
       "      <td>1</td>\n",
       "      <td>25</td>\n",
       "      <td>0.456024</td>\n",
       "      <td>0.379319</td>\n",
       "    </tr>\n",
       "    <tr>\n",
       "      <th>0</th>\n",
       "      <td>N/A</td>\n",
       "      <td>oversampled</td>\n",
       "      <td>count</td>\n",
       "      <td>None</td>\n",
       "      <td>1</td>\n",
       "      <td>25</td>\n",
       "      <td>0.459462</td>\n",
       "      <td>0.378354</td>\n",
       "    </tr>\n",
       "    <tr>\n",
       "      <th>0</th>\n",
       "      <td>N/A</td>\n",
       "      <td>random_downsampling</td>\n",
       "      <td>count</td>\n",
       "      <td>None</td>\n",
       "      <td>1</td>\n",
       "      <td>25</td>\n",
       "      <td>0.465497</td>\n",
       "      <td>0.378036</td>\n",
       "    </tr>\n",
       "    <tr>\n",
       "      <th>0</th>\n",
       "      <td>N/A</td>\n",
       "      <td>oversampled</td>\n",
       "      <td>tf_idf</td>\n",
       "      <td>None</td>\n",
       "      <td>0.5</td>\n",
       "      <td>25</td>\n",
       "      <td>0.444084</td>\n",
       "      <td>0.374556</td>\n",
       "    </tr>\n",
       "    <tr>\n",
       "      <th>0</th>\n",
       "      <td>N/A</td>\n",
       "      <td>random_downsampling</td>\n",
       "      <td>tf_idf</td>\n",
       "      <td>None</td>\n",
       "      <td>0.5</td>\n",
       "      <td>25</td>\n",
       "      <td>0.450326</td>\n",
       "      <td>0.373669</td>\n",
       "    </tr>\n",
       "    <tr>\n",
       "      <th>0</th>\n",
       "      <td>N/A</td>\n",
       "      <td>oversampled</td>\n",
       "      <td>count</td>\n",
       "      <td>None</td>\n",
       "      <td>0.5</td>\n",
       "      <td>25</td>\n",
       "      <td>0.455944</td>\n",
       "      <td>0.373277</td>\n",
       "    </tr>\n",
       "    <tr>\n",
       "      <th>0</th>\n",
       "      <td>N/A</td>\n",
       "      <td>random_downsampling</td>\n",
       "      <td>count</td>\n",
       "      <td>None</td>\n",
       "      <td>0.5</td>\n",
       "      <td>25</td>\n",
       "      <td>0.463871</td>\n",
       "      <td>0.372087</td>\n",
       "    </tr>\n",
       "    <tr>\n",
       "      <th>0</th>\n",
       "      <td>N/A</td>\n",
       "      <td>random_downsampling</td>\n",
       "      <td>count</td>\n",
       "      <td>None</td>\n",
       "      <td>0.1</td>\n",
       "      <td>25</td>\n",
       "      <td>0.423215</td>\n",
       "      <td>0.323615</td>\n",
       "    </tr>\n",
       "    <tr>\n",
       "      <th>0</th>\n",
       "      <td>N/A</td>\n",
       "      <td>oversampled</td>\n",
       "      <td>tf_idf</td>\n",
       "      <td>None</td>\n",
       "      <td>0.1</td>\n",
       "      <td>25</td>\n",
       "      <td>0.410104</td>\n",
       "      <td>0.323531</td>\n",
       "    </tr>\n",
       "    <tr>\n",
       "      <th>0</th>\n",
       "      <td>N/A</td>\n",
       "      <td>random_downsampling</td>\n",
       "      <td>tf_idf</td>\n",
       "      <td>None</td>\n",
       "      <td>0.1</td>\n",
       "      <td>25</td>\n",
       "      <td>0.414595</td>\n",
       "      <td>0.322856</td>\n",
       "    </tr>\n",
       "    <tr>\n",
       "      <th>0</th>\n",
       "      <td>N/A</td>\n",
       "      <td>oversampled</td>\n",
       "      <td>count</td>\n",
       "      <td>None</td>\n",
       "      <td>0.1</td>\n",
       "      <td>25</td>\n",
       "      <td>0.414652</td>\n",
       "      <td>0.322487</td>\n",
       "    </tr>\n",
       "    <tr>\n",
       "      <th>0</th>\n",
       "      <td>N/A</td>\n",
       "      <td>full</td>\n",
       "      <td>tf_idf</td>\n",
       "      <td>None</td>\n",
       "      <td>1</td>\n",
       "      <td>25</td>\n",
       "      <td>0.556984</td>\n",
       "      <td>0.297228</td>\n",
       "    </tr>\n",
       "    <tr>\n",
       "      <th>0</th>\n",
       "      <td>N/A</td>\n",
       "      <td>full</td>\n",
       "      <td>count</td>\n",
       "      <td>None</td>\n",
       "      <td>1</td>\n",
       "      <td>25</td>\n",
       "      <td>0.555614</td>\n",
       "      <td>0.293414</td>\n",
       "    </tr>\n",
       "    <tr>\n",
       "      <th>0</th>\n",
       "      <td>N/A</td>\n",
       "      <td>full</td>\n",
       "      <td>tf_idf</td>\n",
       "      <td>None</td>\n",
       "      <td>0.5</td>\n",
       "      <td>25</td>\n",
       "      <td>0.546142</td>\n",
       "      <td>0.241857</td>\n",
       "    </tr>\n",
       "    <tr>\n",
       "      <th>0</th>\n",
       "      <td>N/A</td>\n",
       "      <td>full</td>\n",
       "      <td>count</td>\n",
       "      <td>None</td>\n",
       "      <td>0.5</td>\n",
       "      <td>25</td>\n",
       "      <td>0.546363</td>\n",
       "      <td>0.239938</td>\n",
       "    </tr>\n",
       "    <tr>\n",
       "      <th>0</th>\n",
       "      <td>N/A</td>\n",
       "      <td>full</td>\n",
       "      <td>tf_idf</td>\n",
       "      <td>None</td>\n",
       "      <td>0.1</td>\n",
       "      <td>25</td>\n",
       "      <td>0.534352</td>\n",
       "      <td>0.203297</td>\n",
       "    </tr>\n",
       "    <tr>\n",
       "      <th>0</th>\n",
       "      <td>N/A</td>\n",
       "      <td>full</td>\n",
       "      <td>count</td>\n",
       "      <td>None</td>\n",
       "      <td>0.1</td>\n",
       "      <td>25</td>\n",
       "      <td>0.533966</td>\n",
       "      <td>0.202079</td>\n",
       "    </tr>\n",
       "    <tr>\n",
       "      <th>0</th>\n",
       "      <td>baseline</td>\n",
       "      <td>full</td>\n",
       "      <td>count</td>\n",
       "      <td>None</td>\n",
       "      <td>N/A</td>\n",
       "      <td>N/A</td>\n",
       "      <td>0.357346</td>\n",
       "      <td>0.200278</td>\n",
       "    </tr>\n",
       "  </tbody>\n",
       "</table>\n",
       "</div>"
      ],
      "text/plain": [
       "  classifier_type             sampling representation preprocessing  \\\n",
       "0             N/A          oversampled         tf_idf          None   \n",
       "0             N/A  random_downsampling         tf_idf          None   \n",
       "0             N/A          oversampled          count          None   \n",
       "0             N/A  random_downsampling          count          None   \n",
       "0             N/A          oversampled         tf_idf          None   \n",
       "0             N/A  random_downsampling         tf_idf          None   \n",
       "0             N/A          oversampled          count          None   \n",
       "0             N/A  random_downsampling          count          None   \n",
       "0             N/A  random_downsampling          count          None   \n",
       "0             N/A          oversampled         tf_idf          None   \n",
       "0             N/A  random_downsampling         tf_idf          None   \n",
       "0             N/A          oversampled          count          None   \n",
       "0             N/A                 full         tf_idf          None   \n",
       "0             N/A                 full          count          None   \n",
       "0             N/A                 full         tf_idf          None   \n",
       "0             N/A                 full          count          None   \n",
       "0             N/A                 full         tf_idf          None   \n",
       "0             N/A                 full          count          None   \n",
       "0        baseline                 full          count          None   \n",
       "\n",
       "  learning_rate n_estimators  real_world_acc     score  \n",
       "0             1           25        0.456451  0.379707  \n",
       "0             1           25        0.456024  0.379319  \n",
       "0             1           25        0.459462  0.378354  \n",
       "0             1           25        0.465497  0.378036  \n",
       "0           0.5           25        0.444084  0.374556  \n",
       "0           0.5           25        0.450326  0.373669  \n",
       "0           0.5           25        0.455944  0.373277  \n",
       "0           0.5           25        0.463871  0.372087  \n",
       "0           0.1           25        0.423215  0.323615  \n",
       "0           0.1           25        0.410104  0.323531  \n",
       "0           0.1           25        0.414595  0.322856  \n",
       "0           0.1           25        0.414652  0.322487  \n",
       "0             1           25        0.556984  0.297228  \n",
       "0             1           25        0.555614  0.293414  \n",
       "0           0.5           25        0.546142  0.241857  \n",
       "0           0.5           25        0.546363  0.239938  \n",
       "0           0.1           25        0.534352  0.203297  \n",
       "0           0.1           25        0.533966  0.202079  \n",
       "0           N/A          N/A        0.357346  0.200278  "
      ]
     },
     "execution_count": 6,
     "metadata": {},
     "output_type": "execute_result"
    }
   ],
   "source": [
    "results_df.sort_values('score', ascending=False)"
   ]
  },
  {
   "cell_type": "code",
   "execution_count": 7,
   "metadata": {},
   "outputs": [
    {
     "data": {
      "text/html": [
       "<div>\n",
       "<style scoped>\n",
       "    .dataframe tbody tr th:only-of-type {\n",
       "        vertical-align: middle;\n",
       "    }\n",
       "\n",
       "    .dataframe tbody tr th {\n",
       "        vertical-align: top;\n",
       "    }\n",
       "\n",
       "    .dataframe thead th {\n",
       "        text-align: right;\n",
       "    }\n",
       "</style>\n",
       "<table border=\"1\" class=\"dataframe\">\n",
       "  <thead>\n",
       "    <tr style=\"text-align: right;\">\n",
       "      <th></th>\n",
       "      <th>classifier_type</th>\n",
       "      <th>sampling</th>\n",
       "      <th>representation</th>\n",
       "      <th>preprocessing</th>\n",
       "      <th>learning_rate</th>\n",
       "      <th>n_estimators</th>\n",
       "      <th>real_world_acc</th>\n",
       "      <th>score</th>\n",
       "    </tr>\n",
       "  </thead>\n",
       "  <tbody>\n",
       "    <tr>\n",
       "      <th>0</th>\n",
       "      <td>N/A</td>\n",
       "      <td>full</td>\n",
       "      <td>tf_idf</td>\n",
       "      <td>None</td>\n",
       "      <td>1</td>\n",
       "      <td>25</td>\n",
       "      <td>0.556984</td>\n",
       "      <td>0.297228</td>\n",
       "    </tr>\n",
       "    <tr>\n",
       "      <th>0</th>\n",
       "      <td>N/A</td>\n",
       "      <td>full</td>\n",
       "      <td>count</td>\n",
       "      <td>None</td>\n",
       "      <td>1</td>\n",
       "      <td>25</td>\n",
       "      <td>0.555614</td>\n",
       "      <td>0.293414</td>\n",
       "    </tr>\n",
       "    <tr>\n",
       "      <th>0</th>\n",
       "      <td>N/A</td>\n",
       "      <td>full</td>\n",
       "      <td>count</td>\n",
       "      <td>None</td>\n",
       "      <td>0.5</td>\n",
       "      <td>25</td>\n",
       "      <td>0.546363</td>\n",
       "      <td>0.239938</td>\n",
       "    </tr>\n",
       "    <tr>\n",
       "      <th>0</th>\n",
       "      <td>N/A</td>\n",
       "      <td>full</td>\n",
       "      <td>tf_idf</td>\n",
       "      <td>None</td>\n",
       "      <td>0.5</td>\n",
       "      <td>25</td>\n",
       "      <td>0.546142</td>\n",
       "      <td>0.241857</td>\n",
       "    </tr>\n",
       "    <tr>\n",
       "      <th>0</th>\n",
       "      <td>N/A</td>\n",
       "      <td>full</td>\n",
       "      <td>tf_idf</td>\n",
       "      <td>None</td>\n",
       "      <td>0.1</td>\n",
       "      <td>25</td>\n",
       "      <td>0.534352</td>\n",
       "      <td>0.203297</td>\n",
       "    </tr>\n",
       "    <tr>\n",
       "      <th>0</th>\n",
       "      <td>N/A</td>\n",
       "      <td>full</td>\n",
       "      <td>count</td>\n",
       "      <td>None</td>\n",
       "      <td>0.1</td>\n",
       "      <td>25</td>\n",
       "      <td>0.533966</td>\n",
       "      <td>0.202079</td>\n",
       "    </tr>\n",
       "    <tr>\n",
       "      <th>0</th>\n",
       "      <td>N/A</td>\n",
       "      <td>random_downsampling</td>\n",
       "      <td>count</td>\n",
       "      <td>None</td>\n",
       "      <td>1</td>\n",
       "      <td>25</td>\n",
       "      <td>0.465497</td>\n",
       "      <td>0.378036</td>\n",
       "    </tr>\n",
       "    <tr>\n",
       "      <th>0</th>\n",
       "      <td>N/A</td>\n",
       "      <td>random_downsampling</td>\n",
       "      <td>count</td>\n",
       "      <td>None</td>\n",
       "      <td>0.5</td>\n",
       "      <td>25</td>\n",
       "      <td>0.463871</td>\n",
       "      <td>0.372087</td>\n",
       "    </tr>\n",
       "    <tr>\n",
       "      <th>0</th>\n",
       "      <td>N/A</td>\n",
       "      <td>oversampled</td>\n",
       "      <td>count</td>\n",
       "      <td>None</td>\n",
       "      <td>1</td>\n",
       "      <td>25</td>\n",
       "      <td>0.459462</td>\n",
       "      <td>0.378354</td>\n",
       "    </tr>\n",
       "    <tr>\n",
       "      <th>0</th>\n",
       "      <td>N/A</td>\n",
       "      <td>oversampled</td>\n",
       "      <td>tf_idf</td>\n",
       "      <td>None</td>\n",
       "      <td>1</td>\n",
       "      <td>25</td>\n",
       "      <td>0.456451</td>\n",
       "      <td>0.379707</td>\n",
       "    </tr>\n",
       "    <tr>\n",
       "      <th>0</th>\n",
       "      <td>N/A</td>\n",
       "      <td>random_downsampling</td>\n",
       "      <td>tf_idf</td>\n",
       "      <td>None</td>\n",
       "      <td>1</td>\n",
       "      <td>25</td>\n",
       "      <td>0.456024</td>\n",
       "      <td>0.379319</td>\n",
       "    </tr>\n",
       "    <tr>\n",
       "      <th>0</th>\n",
       "      <td>N/A</td>\n",
       "      <td>oversampled</td>\n",
       "      <td>count</td>\n",
       "      <td>None</td>\n",
       "      <td>0.5</td>\n",
       "      <td>25</td>\n",
       "      <td>0.455944</td>\n",
       "      <td>0.373277</td>\n",
       "    </tr>\n",
       "    <tr>\n",
       "      <th>0</th>\n",
       "      <td>N/A</td>\n",
       "      <td>random_downsampling</td>\n",
       "      <td>tf_idf</td>\n",
       "      <td>None</td>\n",
       "      <td>0.5</td>\n",
       "      <td>25</td>\n",
       "      <td>0.450326</td>\n",
       "      <td>0.373669</td>\n",
       "    </tr>\n",
       "    <tr>\n",
       "      <th>0</th>\n",
       "      <td>N/A</td>\n",
       "      <td>oversampled</td>\n",
       "      <td>tf_idf</td>\n",
       "      <td>None</td>\n",
       "      <td>0.5</td>\n",
       "      <td>25</td>\n",
       "      <td>0.444084</td>\n",
       "      <td>0.374556</td>\n",
       "    </tr>\n",
       "    <tr>\n",
       "      <th>0</th>\n",
       "      <td>N/A</td>\n",
       "      <td>random_downsampling</td>\n",
       "      <td>count</td>\n",
       "      <td>None</td>\n",
       "      <td>0.1</td>\n",
       "      <td>25</td>\n",
       "      <td>0.423215</td>\n",
       "      <td>0.323615</td>\n",
       "    </tr>\n",
       "    <tr>\n",
       "      <th>0</th>\n",
       "      <td>N/A</td>\n",
       "      <td>oversampled</td>\n",
       "      <td>count</td>\n",
       "      <td>None</td>\n",
       "      <td>0.1</td>\n",
       "      <td>25</td>\n",
       "      <td>0.414652</td>\n",
       "      <td>0.322487</td>\n",
       "    </tr>\n",
       "    <tr>\n",
       "      <th>0</th>\n",
       "      <td>N/A</td>\n",
       "      <td>random_downsampling</td>\n",
       "      <td>tf_idf</td>\n",
       "      <td>None</td>\n",
       "      <td>0.1</td>\n",
       "      <td>25</td>\n",
       "      <td>0.414595</td>\n",
       "      <td>0.322856</td>\n",
       "    </tr>\n",
       "    <tr>\n",
       "      <th>0</th>\n",
       "      <td>N/A</td>\n",
       "      <td>oversampled</td>\n",
       "      <td>tf_idf</td>\n",
       "      <td>None</td>\n",
       "      <td>0.1</td>\n",
       "      <td>25</td>\n",
       "      <td>0.410104</td>\n",
       "      <td>0.323531</td>\n",
       "    </tr>\n",
       "    <tr>\n",
       "      <th>0</th>\n",
       "      <td>baseline</td>\n",
       "      <td>full</td>\n",
       "      <td>count</td>\n",
       "      <td>None</td>\n",
       "      <td>N/A</td>\n",
       "      <td>N/A</td>\n",
       "      <td>0.357346</td>\n",
       "      <td>0.200278</td>\n",
       "    </tr>\n",
       "  </tbody>\n",
       "</table>\n",
       "</div>"
      ],
      "text/plain": [
       "  classifier_type             sampling representation preprocessing  \\\n",
       "0             N/A                 full         tf_idf          None   \n",
       "0             N/A                 full          count          None   \n",
       "0             N/A                 full          count          None   \n",
       "0             N/A                 full         tf_idf          None   \n",
       "0             N/A                 full         tf_idf          None   \n",
       "0             N/A                 full          count          None   \n",
       "0             N/A  random_downsampling          count          None   \n",
       "0             N/A  random_downsampling          count          None   \n",
       "0             N/A          oversampled          count          None   \n",
       "0             N/A          oversampled         tf_idf          None   \n",
       "0             N/A  random_downsampling         tf_idf          None   \n",
       "0             N/A          oversampled          count          None   \n",
       "0             N/A  random_downsampling         tf_idf          None   \n",
       "0             N/A          oversampled         tf_idf          None   \n",
       "0             N/A  random_downsampling          count          None   \n",
       "0             N/A          oversampled          count          None   \n",
       "0             N/A  random_downsampling         tf_idf          None   \n",
       "0             N/A          oversampled         tf_idf          None   \n",
       "0        baseline                 full          count          None   \n",
       "\n",
       "  learning_rate n_estimators  real_world_acc     score  \n",
       "0             1           25        0.556984  0.297228  \n",
       "0             1           25        0.555614  0.293414  \n",
       "0           0.5           25        0.546363  0.239938  \n",
       "0           0.5           25        0.546142  0.241857  \n",
       "0           0.1           25        0.534352  0.203297  \n",
       "0           0.1           25        0.533966  0.202079  \n",
       "0             1           25        0.465497  0.378036  \n",
       "0           0.5           25        0.463871  0.372087  \n",
       "0             1           25        0.459462  0.378354  \n",
       "0             1           25        0.456451  0.379707  \n",
       "0             1           25        0.456024  0.379319  \n",
       "0           0.5           25        0.455944  0.373277  \n",
       "0           0.5           25        0.450326  0.373669  \n",
       "0           0.5           25        0.444084  0.374556  \n",
       "0           0.1           25        0.423215  0.323615  \n",
       "0           0.1           25        0.414652  0.322487  \n",
       "0           0.1           25        0.414595  0.322856  \n",
       "0           0.1           25        0.410104  0.323531  \n",
       "0           N/A          N/A        0.357346  0.200278  "
      ]
     },
     "execution_count": 7,
     "metadata": {},
     "output_type": "execute_result"
    }
   ],
   "source": [
    "results_df.sort_values('real_world_acc', ascending=False)"
   ]
  },
  {
   "cell_type": "markdown",
   "metadata": {},
   "source": [
    "# Winner re-training"
   ]
  },
  {
   "cell_type": "code",
   "execution_count": null,
   "metadata": {},
   "outputs": [
    {
     "name": "stderr",
     "output_type": "stream",
     "text": [
      "/home/asgavar/.local/lib/python3.8/site-packages/numpy/lib/arraysetops.py:569: FutureWarning: elementwise comparison failed; returning scalar instead, but in the future will perform elementwise comparison\n",
      "  mask |= (ar1 == a)\n"
     ]
    }
   ],
   "source": [
    "N_ESTIMATORS = 500\n",
    "sampling = 'oversampled'\n",
    "representation = 'tf_idf'\n",
    "preprocessing = None\n",
    "learning_rate = 1\n",
    "\n",
    "train_as_vec, train_targets, test_as_vec, test_targets = common.load_dataset(sampling, representation, None)\n",
    "classifier = sklearn.ensemble.AdaBoostClassifier(n_estimators=N_ESTIMATORS, learning_rate=learning_rate)\n",
    "classifier.fit(train_as_vec, train_targets)\n",
    "\n",
    "results_df = results_df.append([\n",
    "    common.perf_row(\n",
    "        classifier, test_as_vec, test_targets,\n",
    "        'N/A', sampling, representation, \n",
    "        None, n_estimators=N_ESTIMATORS, learning_rate=learning_rate)])"
   ]
  },
  {
   "cell_type": "code",
   "execution_count": null,
   "metadata": {},
   "outputs": [],
   "source": [
    "results_df"
   ]
  },
  {
   "cell_type": "markdown",
   "metadata": {},
   "source": [
    "# Winners (boo!)"
   ]
  },
  {
   "cell_type": "code",
   "execution_count": 19,
   "metadata": {},
   "outputs": [
    {
     "data": {
      "text/plain": [
       "0.42966717565886214"
      ]
     },
     "execution_count": 19,
     "metadata": {},
     "output_type": "execute_result"
    }
   ],
   "source": [
    "train_as_vec, train_targets, test_as_vec, test_targets = common.load_dataset('random_downsampling', 'tf_idf', None)\n",
    "classifier = sklearn.ensemble.AdaBoostClassifier(n_estimators=10, learning_rate=1)\n",
    "classifier.fit(train_as_vec, train_targets)\n",
    "classifier.score(test_as_vec, test_targets)"
   ]
  },
  {
   "cell_type": "code",
   "execution_count": 21,
   "metadata": {},
   "outputs": [
    {
     "data": {
      "text/plain": [
       "0.33993329124163346"
      ]
     },
     "execution_count": 21,
     "metadata": {},
     "output_type": "execute_result"
    }
   ],
   "source": [
    "common.get_score(classifier, test_as_vec, test_targets)"
   ]
  },
  {
   "cell_type": "code",
   "execution_count": 22,
   "metadata": {},
   "outputs": [
    {
     "name": "stdout",
     "output_type": "stream",
     "text": [
      "SCORE: 0.33993329124163346\n",
      "[[0.39399198 0.13894031 0.1714484  0.05132655 0.24429277]\n",
      " [0.21666994 0.17321043 0.28601687 0.10892332 0.21517945]\n",
      " [0.10419019 0.13521545 0.35603764 0.16229817 0.24225854]\n",
      " [0.06028483 0.07970705 0.29876101 0.19969415 0.36155295]\n",
      " [0.04715493 0.04139366 0.18038429 0.15433487 0.57673225]]\n"
     ]
    },
    {
     "data": {
      "image/png": "[encoded data removed]",
      "text/plain": [
       "<Figure size 432x288 with 2 Axes>"
      ]
     },
     "metadata": {
      "needs_background": "light"
     },
     "output_type": "display_data"
    }
   ],
   "source": [
    "common.display_classifier_performance(classifier, test_as_vec, test_targets)"
   ]
  },
  {
   "cell_type": "code",
   "execution_count": 23,
   "metadata": {},
   "outputs": [
    {
     "data": {
      "text/plain": [
       "0.5458257927082155"
      ]
     },
     "execution_count": 23,
     "metadata": {},
     "output_type": "execute_result"
    }
   ],
   "source": [
    "train_as_vec, train_targets, test_as_vec, test_targets = common.load_dataset('full', 'count', None)\n",
    "classifier = sklearn.ensemble.AdaBoostClassifier(n_estimators=10, learning_rate=1)\n",
    "classifier.fit(train_as_vec, train_targets)\n",
    "classifier.score(test_as_vec, test_targets)"
   ]
  },
  {
   "cell_type": "code",
   "execution_count": 25,
   "metadata": {},
   "outputs": [
    {
     "name": "stdout",
     "output_type": "stream",
     "text": [
      "SCORE: 0.27254614272317623\n",
      "[[0.22250501 0.01966682 0.05498997 0.07847447 0.62436372]\n",
      " [0.09809767 0.02565209 0.06130614 0.147323   0.6676211 ]\n",
      " [0.03627538 0.00980684 0.04570579 0.19021298 0.71799901]\n",
      " [0.01371103 0.00391149 0.02197093 0.1461192  0.81428735]\n",
      " [0.00693208 0.0018247  0.00867725 0.05981735 0.92274862]]\n"
     ]
    },
    {
     "data": {
      "image/png": "[encoded data removed]",
      "text/plain": [
       "<Figure size 432x288 with 2 Axes>"
      ]
     },
     "metadata": {
      "needs_background": "light"
     },
     "output_type": "display_data"
    }
   ],
   "source": [
    "common.display_classifier_performance(classifier, test_as_vec, test_targets)"
   ]
  }
 ],
 "metadata": {
  "kernelspec": {
   "display_name": "Python 3",
   "language": "python",
   "name": "python3"
  },
  "language_info": {
   "codemirror_mode": {
    "name": "ipython",
    "version": 3
   },
   "file_extension": ".py",
   "mimetype": "text/x-python",
   "name": "python",
   "nbconvert_exporter": "python",
   "pygments_lexer": "ipython3",
   "version": "3.8.1"
  }
 },
 "nbformat": 4,
 "nbformat_minor": 4
}
