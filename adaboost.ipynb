{
 "cells": [
  {
   "cell_type": "code",
   "execution_count": 1,
   "metadata": {},
   "outputs": [],
   "source": [
    "%load_ext autoreload\n",
    "%autoreload 2\n",
    "%matplotlib inline\n",
    "\n",
    "import common\n",
    "\n",
    "import matplotlib.pyplot as plt\n",
    "import numpy as np\n",
    "import pandas as pd\n",
    "import sklearn.dummy\n",
    "import sklearn.ensemble"
   ]
  },
  {
   "cell_type": "code",
   "execution_count": 2,
   "metadata": {},
   "outputs": [
    {
     "name": "stderr",
     "output_type": "stream",
     "text": [
      "/home/asgavar/.local/lib/python3.8/site-packages/numpy/lib/arraysetops.py:568: FutureWarning: elementwise comparison failed; returning scalar instead, but in the future will perform elementwise comparison\n",
      "  mask |= (ar1 == a)\n",
      "/home/asgavar/.local/lib/python3.8/site-packages/sklearn/dummy.py:131: FutureWarning: The default value of strategy will change from stratified to prior in 0.24.\n",
      "  warnings.warn(\"The default value of strategy will change from \"\n"
     ]
    },
    {
     "data": {
      "text/plain": [
       "DummyClassifier(constant=None, random_state=None, strategy='warn')"
      ]
     },
     "execution_count": 2,
     "metadata": {},
     "output_type": "execute_result"
    }
   ],
   "source": [
    "train_as_vec, train_targets, test_as_vec, test_targets = common.load_dataset('full', 'count', None)\n",
    "baseline_classifier = sklearn.dummy.DummyClassifier()\n",
    "baseline_classifier.fit(train_as_vec, train_targets)"
   ]
  },
  {
   "cell_type": "code",
   "execution_count": 3,
   "metadata": {},
   "outputs": [
    {
     "name": "stdout",
     "output_type": "stream",
     "text": [
      "SCORE: 0.20002590656416647\n",
      "[[0.05907759 0.05819065 0.11965911 0.22258214 0.54049051]\n",
      " [0.06464013 0.0598941  0.11865072 0.22682879 0.52998627]\n",
      " [0.06222883 0.05991085 0.11750371 0.22617137 0.53418524]\n",
      " [0.0626671  0.06122109 0.11690784 0.227085   0.53211897]\n",
      " [0.0617525  0.06054635 0.118782   0.22538316 0.53353598]]\n"
     ]
    },
    {
     "data": {
      "image/png": "[encoded data removed]",
      "text/plain": [
       "<Figure size 432x288 with 2 Axes>"
      ]
     },
     "metadata": {
      "needs_background": "light"
     },
     "output_type": "display_data"
    }
   ],
   "source": [
    "common.display_classifier_performance(baseline_classifier, test_as_vec, test_targets)"
   ]
  },
  {
   "cell_type": "code",
   "execution_count": 4,
   "metadata": {},
   "outputs": [
    {
     "data": {
      "text/html": [
       "<div>\n",
       "<style scoped>\n",
       "    .dataframe tbody tr th:only-of-type {\n",
       "        vertical-align: middle;\n",
       "    }\n",
       "\n",
       "    .dataframe tbody tr th {\n",
       "        vertical-align: top;\n",
       "    }\n",
       "\n",
       "    .dataframe thead th {\n",
       "        text-align: right;\n",
       "    }\n",
       "</style>\n",
       "<table border=\"1\" class=\"dataframe\">\n",
       "  <thead>\n",
       "    <tr style=\"text-align: right;\">\n",
       "      <th></th>\n",
       "      <th>classifier_type</th>\n",
       "      <th>sampling</th>\n",
       "      <th>representation</th>\n",
       "      <th>preprocessing</th>\n",
       "      <th>learning_rate</th>\n",
       "      <th>n_estimators</th>\n",
       "      <th>real_world_acc</th>\n",
       "      <th>score</th>\n",
       "    </tr>\n",
       "  </thead>\n",
       "  <tbody>\n",
       "    <tr>\n",
       "      <th>0</th>\n",
       "      <td>baseline</td>\n",
       "      <td>full</td>\n",
       "      <td>count</td>\n",
       "      <td>None</td>\n",
       "      <td>N/A</td>\n",
       "      <td>N/A</td>\n",
       "      <td>0.358088</td>\n",
       "      <td>0.200403</td>\n",
       "    </tr>\n",
       "  </tbody>\n",
       "</table>\n",
       "</div>"
      ],
      "text/plain": [
       "  classifier_type sampling representation preprocessing learning_rate  \\\n",
       "0        baseline     full          count          None           N/A   \n",
       "\n",
       "  n_estimators  real_world_acc     score  \n",
       "0          N/A        0.358088  0.200403  "
      ]
     },
     "execution_count": 4,
     "metadata": {},
     "output_type": "execute_result"
    }
   ],
   "source": [
    "results_df = pd.DataFrame.from_dict([\n",
    "    common.perf_row(\n",
    "        baseline_classifier, test_as_vec, test_targets, 'baseline',\n",
    "        'full', 'count', None, learning_rate='N/A', n_estimators='N/A')])\n",
    "results_df"
   ]
  },
  {
   "cell_type": "code",
   "execution_count": 11,
   "metadata": {},
   "outputs": [
    {
     "data": {
      "text/plain": [
       "0.39705397202428083"
      ]
     },
     "execution_count": 11,
     "metadata": {},
     "output_type": "execute_result"
    }
   ],
   "source": [
    "train_as_vec, train_targets, test_as_vec, test_targets = common.load_dataset('random_downsampling', 'count', None)\n",
    "classifier = sklearn.ensemble.AdaBoostClassifier(n_estimators=1)\n",
    "classifier.fit(train_as_vec, train_targets)\n",
    "classifier.score(test_as_vec, test_targets)"
   ]
  },
  {
   "cell_type": "code",
   "execution_count": 9,
   "metadata": {},
   "outputs": [
    {
     "data": {
      "text/plain": [
       "0.533355483919617"
      ]
     },
     "execution_count": 9,
     "metadata": {},
     "output_type": "execute_result"
    }
   ],
   "source": [
    "classifier.score(test_as_vec, test_targets)"
   ]
  },
  {
   "cell_type": "code",
   "execution_count": 14,
   "metadata": {},
   "outputs": [
    {
     "name": "stdout",
     "output_type": "stream",
     "text": [
      "sampling = random_downsampling\n",
      "    representation = count\n",
      "        learning_rate = 0.1\n",
      "        learning_rate = 0.5\n",
      "        learning_rate = 1\n",
      "    representation = tf_idf\n",
      "        learning_rate = 0.1\n",
      "        learning_rate = 0.5\n",
      "        learning_rate = 1\n",
      "sampling = full\n",
      "    representation = count\n",
      "        learning_rate = 0.1\n",
      "        learning_rate = 0.5\n",
      "        learning_rate = 1\n",
      "    representation = tf_idf\n",
      "        learning_rate = 0.1\n"
     ]
    },
    {
     "name": "stderr",
     "output_type": "stream",
     "text": [
      "/home/asgavar/.local/lib/python3.8/site-packages/numpy/lib/arraysetops.py:568: FutureWarning: elementwise comparison failed; returning scalar instead, but in the future will perform elementwise comparison\n",
      "  mask |= (ar1 == a)\n"
     ]
    },
    {
     "name": "stdout",
     "output_type": "stream",
     "text": [
      "        learning_rate = 0.5\n",
      "        learning_rate = 1\n"
     ]
    }
   ],
   "source": [
    "N_ESTIMATORS = 10\n",
    "\n",
    "for sampling in ['random_downsampling', 'full']:# , 'oversampled']:\n",
    "    print(f'sampling = {sampling}')\n",
    "    for representation in ['count', 'tf_idf']:\n",
    "        print(f'    representation = {representation}')\n",
    "        for learning_rate in [0.1, 0.5, 1]:\n",
    "            print(f'        learning_rate = {learning_rate}')\n",
    "\n",
    "            train_as_vec, train_targets, test_as_vec, test_targets = common.load_dataset(\n",
    "                sampling, representation, None)\n",
    "\n",
    "            classifier = sklearn.ensemble.AdaBoostClassifier(n_estimators=N_ESTIMATORS, learning_rate=learning_rate)\n",
    "            classifier.fit(train_as_vec, train_targets)\n",
    "\n",
    "            results_df = results_df.append([\n",
    "                    common.perf_row(\n",
    "                        classifier, test_as_vec, test_targets,\n",
    "                        'N/A', sampling, representation, \n",
    "                        None, n_estimators=N_ESTIMATORS, learning_rate=learning_rate)])"
   ]
  },
  {
   "cell_type": "code",
   "execution_count": 17,
   "metadata": {},
   "outputs": [
    {
     "data": {
      "text/html": [
       "<div>\n",
       "<style scoped>\n",
       "    .dataframe tbody tr th:only-of-type {\n",
       "        vertical-align: middle;\n",
       "    }\n",
       "\n",
       "    .dataframe tbody tr th {\n",
       "        vertical-align: top;\n",
       "    }\n",
       "\n",
       "    .dataframe thead th {\n",
       "        text-align: right;\n",
       "    }\n",
       "</style>\n",
       "<table border=\"1\" class=\"dataframe\">\n",
       "  <thead>\n",
       "    <tr style=\"text-align: right;\">\n",
       "      <th></th>\n",
       "      <th>classifier_type</th>\n",
       "      <th>sampling</th>\n",
       "      <th>representation</th>\n",
       "      <th>preprocessing</th>\n",
       "      <th>learning_rate</th>\n",
       "      <th>n_estimators</th>\n",
       "      <th>real_world_acc</th>\n",
       "      <th>score</th>\n",
       "    </tr>\n",
       "  </thead>\n",
       "  <tbody>\n",
       "    <tr>\n",
       "      <th>0</th>\n",
       "      <td>N/A</td>\n",
       "      <td>random_downsampling</td>\n",
       "      <td>tf_idf</td>\n",
       "      <td>None</td>\n",
       "      <td>1</td>\n",
       "      <td>10</td>\n",
       "      <td>0.429667</td>\n",
       "      <td>0.339933</td>\n",
       "    </tr>\n",
       "    <tr>\n",
       "      <th>0</th>\n",
       "      <td>N/A</td>\n",
       "      <td>random_downsampling</td>\n",
       "      <td>count</td>\n",
       "      <td>None</td>\n",
       "      <td>1</td>\n",
       "      <td>10</td>\n",
       "      <td>0.442531</td>\n",
       "      <td>0.338003</td>\n",
       "    </tr>\n",
       "    <tr>\n",
       "      <th>0</th>\n",
       "      <td>N/A</td>\n",
       "      <td>random_downsampling</td>\n",
       "      <td>count</td>\n",
       "      <td>None</td>\n",
       "      <td>0.5</td>\n",
       "      <td>10</td>\n",
       "      <td>0.437502</td>\n",
       "      <td>0.336282</td>\n",
       "    </tr>\n",
       "    <tr>\n",
       "      <th>0</th>\n",
       "      <td>N/A</td>\n",
       "      <td>random_downsampling</td>\n",
       "      <td>tf_idf</td>\n",
       "      <td>None</td>\n",
       "      <td>0.5</td>\n",
       "      <td>10</td>\n",
       "      <td>0.435252</td>\n",
       "      <td>0.331635</td>\n",
       "    </tr>\n",
       "    <tr>\n",
       "      <th>0</th>\n",
       "      <td>N/A</td>\n",
       "      <td>random_downsampling</td>\n",
       "      <td>count</td>\n",
       "      <td>None</td>\n",
       "      <td>0.1</td>\n",
       "      <td>10</td>\n",
       "      <td>0.401772</td>\n",
       "      <td>0.314914</td>\n",
       "    </tr>\n",
       "    <tr>\n",
       "      <th>0</th>\n",
       "      <td>N/A</td>\n",
       "      <td>random_downsampling</td>\n",
       "      <td>tf_idf</td>\n",
       "      <td>None</td>\n",
       "      <td>0.1</td>\n",
       "      <td>10</td>\n",
       "      <td>0.409755</td>\n",
       "      <td>0.306285</td>\n",
       "    </tr>\n",
       "    <tr>\n",
       "      <th>0</th>\n",
       "      <td>N/A</td>\n",
       "      <td>full</td>\n",
       "      <td>count</td>\n",
       "      <td>None</td>\n",
       "      <td>1</td>\n",
       "      <td>10</td>\n",
       "      <td>0.545826</td>\n",
       "      <td>0.272546</td>\n",
       "    </tr>\n",
       "    <tr>\n",
       "      <th>0</th>\n",
       "      <td>N/A</td>\n",
       "      <td>full</td>\n",
       "      <td>tf_idf</td>\n",
       "      <td>None</td>\n",
       "      <td>1</td>\n",
       "      <td>10</td>\n",
       "      <td>0.544843</td>\n",
       "      <td>0.264352</td>\n",
       "    </tr>\n",
       "    <tr>\n",
       "      <th>0</th>\n",
       "      <td>N/A</td>\n",
       "      <td>full</td>\n",
       "      <td>tf_idf</td>\n",
       "      <td>None</td>\n",
       "      <td>0.5</td>\n",
       "      <td>10</td>\n",
       "      <td>0.539037</td>\n",
       "      <td>0.220025</td>\n",
       "    </tr>\n",
       "    <tr>\n",
       "      <th>0</th>\n",
       "      <td>N/A</td>\n",
       "      <td>full</td>\n",
       "      <td>count</td>\n",
       "      <td>None</td>\n",
       "      <td>0.5</td>\n",
       "      <td>10</td>\n",
       "      <td>0.537901</td>\n",
       "      <td>0.216604</td>\n",
       "    </tr>\n",
       "    <tr>\n",
       "      <th>0</th>\n",
       "      <td>baseline</td>\n",
       "      <td>full</td>\n",
       "      <td>count</td>\n",
       "      <td>None</td>\n",
       "      <td>N/A</td>\n",
       "      <td>N/A</td>\n",
       "      <td>0.358088</td>\n",
       "      <td>0.200403</td>\n",
       "    </tr>\n",
       "    <tr>\n",
       "      <th>0</th>\n",
       "      <td>N/A</td>\n",
       "      <td>full</td>\n",
       "      <td>count</td>\n",
       "      <td>None</td>\n",
       "      <td>0.1</td>\n",
       "      <td>10</td>\n",
       "      <td>0.533355</td>\n",
       "      <td>0.200000</td>\n",
       "    </tr>\n",
       "    <tr>\n",
       "      <th>0</th>\n",
       "      <td>N/A</td>\n",
       "      <td>full</td>\n",
       "      <td>tf_idf</td>\n",
       "      <td>None</td>\n",
       "      <td>0.1</td>\n",
       "      <td>10</td>\n",
       "      <td>0.533355</td>\n",
       "      <td>0.200000</td>\n",
       "    </tr>\n",
       "  </tbody>\n",
       "</table>\n",
       "</div>"
      ],
      "text/plain": [
       "  classifier_type             sampling representation preprocessing  \\\n",
       "0             N/A  random_downsampling         tf_idf          None   \n",
       "0             N/A  random_downsampling          count          None   \n",
       "0             N/A  random_downsampling          count          None   \n",
       "0             N/A  random_downsampling         tf_idf          None   \n",
       "0             N/A  random_downsampling          count          None   \n",
       "0             N/A  random_downsampling         tf_idf          None   \n",
       "0             N/A                 full          count          None   \n",
       "0             N/A                 full         tf_idf          None   \n",
       "0             N/A                 full         tf_idf          None   \n",
       "0             N/A                 full          count          None   \n",
       "0        baseline                 full          count          None   \n",
       "0             N/A                 full          count          None   \n",
       "0             N/A                 full         tf_idf          None   \n",
       "\n",
       "  learning_rate n_estimators  real_world_acc     score  \n",
       "0             1           10        0.429667  0.339933  \n",
       "0             1           10        0.442531  0.338003  \n",
       "0           0.5           10        0.437502  0.336282  \n",
       "0           0.5           10        0.435252  0.331635  \n",
       "0           0.1           10        0.401772  0.314914  \n",
       "0           0.1           10        0.409755  0.306285  \n",
       "0             1           10        0.545826  0.272546  \n",
       "0             1           10        0.544843  0.264352  \n",
       "0           0.5           10        0.539037  0.220025  \n",
       "0           0.5           10        0.537901  0.216604  \n",
       "0           N/A          N/A        0.358088  0.200403  \n",
       "0           0.1           10        0.533355  0.200000  \n",
       "0           0.1           10        0.533355  0.200000  "
      ]
     },
     "execution_count": 17,
     "metadata": {},
     "output_type": "execute_result"
    }
   ],
   "source": [
    "results_df.sort_values('score', ascending=False)"
   ]
  },
  {
   "cell_type": "code",
   "execution_count": 18,
   "metadata": {},
   "outputs": [
    {
     "data": {
      "text/html": [
       "<div>\n",
       "<style scoped>\n",
       "    .dataframe tbody tr th:only-of-type {\n",
       "        vertical-align: middle;\n",
       "    }\n",
       "\n",
       "    .dataframe tbody tr th {\n",
       "        vertical-align: top;\n",
       "    }\n",
       "\n",
       "    .dataframe thead th {\n",
       "        text-align: right;\n",
       "    }\n",
       "</style>\n",
       "<table border=\"1\" class=\"dataframe\">\n",
       "  <thead>\n",
       "    <tr style=\"text-align: right;\">\n",
       "      <th></th>\n",
       "      <th>classifier_type</th>\n",
       "      <th>sampling</th>\n",
       "      <th>representation</th>\n",
       "      <th>preprocessing</th>\n",
       "      <th>learning_rate</th>\n",
       "      <th>n_estimators</th>\n",
       "      <th>real_world_acc</th>\n",
       "      <th>score</th>\n",
       "    </tr>\n",
       "  </thead>\n",
       "  <tbody>\n",
       "    <tr>\n",
       "      <th>0</th>\n",
       "      <td>N/A</td>\n",
       "      <td>full</td>\n",
       "      <td>count</td>\n",
       "      <td>None</td>\n",
       "      <td>1</td>\n",
       "      <td>10</td>\n",
       "      <td>0.545826</td>\n",
       "      <td>0.272546</td>\n",
       "    </tr>\n",
       "    <tr>\n",
       "      <th>0</th>\n",
       "      <td>N/A</td>\n",
       "      <td>full</td>\n",
       "      <td>tf_idf</td>\n",
       "      <td>None</td>\n",
       "      <td>1</td>\n",
       "      <td>10</td>\n",
       "      <td>0.544843</td>\n",
       "      <td>0.264352</td>\n",
       "    </tr>\n",
       "    <tr>\n",
       "      <th>0</th>\n",
       "      <td>N/A</td>\n",
       "      <td>full</td>\n",
       "      <td>tf_idf</td>\n",
       "      <td>None</td>\n",
       "      <td>0.5</td>\n",
       "      <td>10</td>\n",
       "      <td>0.539037</td>\n",
       "      <td>0.220025</td>\n",
       "    </tr>\n",
       "    <tr>\n",
       "      <th>0</th>\n",
       "      <td>N/A</td>\n",
       "      <td>full</td>\n",
       "      <td>count</td>\n",
       "      <td>None</td>\n",
       "      <td>0.5</td>\n",
       "      <td>10</td>\n",
       "      <td>0.537901</td>\n",
       "      <td>0.216604</td>\n",
       "    </tr>\n",
       "    <tr>\n",
       "      <th>0</th>\n",
       "      <td>N/A</td>\n",
       "      <td>full</td>\n",
       "      <td>count</td>\n",
       "      <td>None</td>\n",
       "      <td>0.1</td>\n",
       "      <td>10</td>\n",
       "      <td>0.533355</td>\n",
       "      <td>0.200000</td>\n",
       "    </tr>\n",
       "    <tr>\n",
       "      <th>0</th>\n",
       "      <td>N/A</td>\n",
       "      <td>full</td>\n",
       "      <td>tf_idf</td>\n",
       "      <td>None</td>\n",
       "      <td>0.1</td>\n",
       "      <td>10</td>\n",
       "      <td>0.533355</td>\n",
       "      <td>0.200000</td>\n",
       "    </tr>\n",
       "    <tr>\n",
       "      <th>0</th>\n",
       "      <td>N/A</td>\n",
       "      <td>random_downsampling</td>\n",
       "      <td>count</td>\n",
       "      <td>None</td>\n",
       "      <td>1</td>\n",
       "      <td>10</td>\n",
       "      <td>0.442531</td>\n",
       "      <td>0.338003</td>\n",
       "    </tr>\n",
       "    <tr>\n",
       "      <th>0</th>\n",
       "      <td>N/A</td>\n",
       "      <td>random_downsampling</td>\n",
       "      <td>count</td>\n",
       "      <td>None</td>\n",
       "      <td>0.5</td>\n",
       "      <td>10</td>\n",
       "      <td>0.437502</td>\n",
       "      <td>0.336282</td>\n",
       "    </tr>\n",
       "    <tr>\n",
       "      <th>0</th>\n",
       "      <td>N/A</td>\n",
       "      <td>random_downsampling</td>\n",
       "      <td>tf_idf</td>\n",
       "      <td>None</td>\n",
       "      <td>0.5</td>\n",
       "      <td>10</td>\n",
       "      <td>0.435252</td>\n",
       "      <td>0.331635</td>\n",
       "    </tr>\n",
       "    <tr>\n",
       "      <th>0</th>\n",
       "      <td>N/A</td>\n",
       "      <td>random_downsampling</td>\n",
       "      <td>tf_idf</td>\n",
       "      <td>None</td>\n",
       "      <td>1</td>\n",
       "      <td>10</td>\n",
       "      <td>0.429667</td>\n",
       "      <td>0.339933</td>\n",
       "    </tr>\n",
       "    <tr>\n",
       "      <th>0</th>\n",
       "      <td>N/A</td>\n",
       "      <td>random_downsampling</td>\n",
       "      <td>tf_idf</td>\n",
       "      <td>None</td>\n",
       "      <td>0.1</td>\n",
       "      <td>10</td>\n",
       "      <td>0.409755</td>\n",
       "      <td>0.306285</td>\n",
       "    </tr>\n",
       "    <tr>\n",
       "      <th>0</th>\n",
       "      <td>N/A</td>\n",
       "      <td>random_downsampling</td>\n",
       "      <td>count</td>\n",
       "      <td>None</td>\n",
       "      <td>0.1</td>\n",
       "      <td>10</td>\n",
       "      <td>0.401772</td>\n",
       "      <td>0.314914</td>\n",
       "    </tr>\n",
       "    <tr>\n",
       "      <th>0</th>\n",
       "      <td>baseline</td>\n",
       "      <td>full</td>\n",
       "      <td>count</td>\n",
       "      <td>None</td>\n",
       "      <td>N/A</td>\n",
       "      <td>N/A</td>\n",
       "      <td>0.358088</td>\n",
       "      <td>0.200403</td>\n",
       "    </tr>\n",
       "  </tbody>\n",
       "</table>\n",
       "</div>"
      ],
      "text/plain": [
       "  classifier_type             sampling representation preprocessing  \\\n",
       "0             N/A                 full          count          None   \n",
       "0             N/A                 full         tf_idf          None   \n",
       "0             N/A                 full         tf_idf          None   \n",
       "0             N/A                 full          count          None   \n",
       "0             N/A                 full          count          None   \n",
       "0             N/A                 full         tf_idf          None   \n",
       "0             N/A  random_downsampling          count          None   \n",
       "0             N/A  random_downsampling          count          None   \n",
       "0             N/A  random_downsampling         tf_idf          None   \n",
       "0             N/A  random_downsampling         tf_idf          None   \n",
       "0             N/A  random_downsampling         tf_idf          None   \n",
       "0             N/A  random_downsampling          count          None   \n",
       "0        baseline                 full          count          None   \n",
       "\n",
       "  learning_rate n_estimators  real_world_acc     score  \n",
       "0             1           10        0.545826  0.272546  \n",
       "0             1           10        0.544843  0.264352  \n",
       "0           0.5           10        0.539037  0.220025  \n",
       "0           0.5           10        0.537901  0.216604  \n",
       "0           0.1           10        0.533355  0.200000  \n",
       "0           0.1           10        0.533355  0.200000  \n",
       "0             1           10        0.442531  0.338003  \n",
       "0           0.5           10        0.437502  0.336282  \n",
       "0           0.5           10        0.435252  0.331635  \n",
       "0             1           10        0.429667  0.339933  \n",
       "0           0.1           10        0.409755  0.306285  \n",
       "0           0.1           10        0.401772  0.314914  \n",
       "0           N/A          N/A        0.358088  0.200403  "
      ]
     },
     "execution_count": 18,
     "metadata": {},
     "output_type": "execute_result"
    }
   ],
   "source": [
    "results_df.sort_values('real_world_acc', ascending=False)"
   ]
  },
  {
   "cell_type": "markdown",
   "metadata": {},
   "source": [
    "# Winners (boo!)"
   ]
  },
  {
   "cell_type": "code",
   "execution_count": 19,
   "metadata": {},
   "outputs": [
    {
     "data": {
      "text/plain": [
       "0.42966717565886214"
      ]
     },
     "execution_count": 19,
     "metadata": {},
     "output_type": "execute_result"
    }
   ],
   "source": [
    "train_as_vec, train_targets, test_as_vec, test_targets = common.load_dataset('random_downsampling', 'tf_idf', None)\n",
    "classifier = sklearn.ensemble.AdaBoostClassifier(n_estimators=10, learning_rate=1)\n",
    "classifier.fit(train_as_vec, train_targets)\n",
    "classifier.score(test_as_vec, test_targets)"
   ]
  },
  {
   "cell_type": "code",
   "execution_count": 21,
   "metadata": {},
   "outputs": [
    {
     "data": {
      "text/plain": [
       "0.33993329124163346"
      ]
     },
     "execution_count": 21,
     "metadata": {},
     "output_type": "execute_result"
    }
   ],
   "source": [
    "common.get_score(classifier, test_as_vec, test_targets)"
   ]
  },
  {
   "cell_type": "code",
   "execution_count": 22,
   "metadata": {},
   "outputs": [
    {
     "name": "stdout",
     "output_type": "stream",
     "text": [
      "SCORE: 0.33993329124163346\n",
      "[[0.39399198 0.13894031 0.1714484  0.05132655 0.24429277]\n",
      " [0.21666994 0.17321043 0.28601687 0.10892332 0.21517945]\n",
      " [0.10419019 0.13521545 0.35603764 0.16229817 0.24225854]\n",
      " [0.06028483 0.07970705 0.29876101 0.19969415 0.36155295]\n",
      " [0.04715493 0.04139366 0.18038429 0.15433487 0.57673225]]\n"
     ]
    },
    {
     "data": {
      "image/png": "[encoded data removed]",
      "text/plain": [
       "<Figure size 432x288 with 2 Axes>"
      ]
     },
     "metadata": {
      "needs_background": "light"
     },
     "output_type": "display_data"
    }
   ],
   "source": [
    "common.display_classifier_performance(classifier, test_as_vec, test_targets)"
   ]
  },
  {
   "cell_type": "code",
   "execution_count": 23,
   "metadata": {},
   "outputs": [
    {
     "data": {
      "text/plain": [
       "0.5458257927082155"
      ]
     },
     "execution_count": 23,
     "metadata": {},
     "output_type": "execute_result"
    }
   ],
   "source": [
    "train_as_vec, train_targets, test_as_vec, test_targets = common.load_dataset('full', 'count', None)\n",
    "classifier = sklearn.ensemble.AdaBoostClassifier(n_estimators=10, learning_rate=1)\n",
    "classifier.fit(train_as_vec, train_targets)\n",
    "classifier.score(test_as_vec, test_targets)"
   ]
  },
  {
   "cell_type": "code",
   "execution_count": 25,
   "metadata": {},
   "outputs": [
    {
     "name": "stdout",
     "output_type": "stream",
     "text": [
      "SCORE: 0.27254614272317623\n",
      "[[0.22250501 0.01966682 0.05498997 0.07847447 0.62436372]\n",
      " [0.09809767 0.02565209 0.06130614 0.147323   0.6676211 ]\n",
      " [0.03627538 0.00980684 0.04570579 0.19021298 0.71799901]\n",
      " [0.01371103 0.00391149 0.02197093 0.1461192  0.81428735]\n",
      " [0.00693208 0.0018247  0.00867725 0.05981735 0.92274862]]\n"
     ]
    },
    {
     "data": {
      "image/png": "[encoded data removed]",
      "text/plain": [
       "<Figure size 432x288 with 2 Axes>"
      ]
     },
     "metadata": {
      "needs_background": "light"
     },
     "output_type": "display_data"
    }
   ],
   "source": [
    "common.display_classifier_performance(classifier, test_as_vec, test_targets)"
   ]
  }
 ],
 "metadata": {
  "kernelspec": {
   "display_name": "Python 3",
   "language": "python",
   "name": "python3"
  },
  "language_info": {
   "codemirror_mode": {
    "name": "ipython",
    "version": 3
   },
   "file_extension": ".py",
   "mimetype": "text/x-python",
   "name": "python",
   "nbconvert_exporter": "python",
   "pygments_lexer": "ipython3",
   "version": "3.8.1"
  }
 },
 "nbformat": 4,
 "nbformat_minor": 4
}
