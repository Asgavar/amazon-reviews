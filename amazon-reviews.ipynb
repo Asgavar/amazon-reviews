{
 "cells": [
  {
   "cell_type": "markdown",
   "metadata": {},
   "source": [
    "# Amazon Reviews"
   ]
  },
  {
   "cell_type": "markdown",
   "metadata": {},
   "source": [
    "## A look into the data and its distribution"
   ]
  },
  {
   "cell_type": "markdown",
   "metadata": {},
   "source": [
    "Dataset taken from: http://jmcauley.ucsd.edu/data/amazon/"
   ]
  },
  {
   "cell_type": "code",
   "execution_count": 2,
   "metadata": {},
   "outputs": [],
   "source": [
    "%matplotlib inline\n",
    "\n",
    "import imblearn.under_sampling\n",
    "import matplotlib.pyplot as plt\n",
    "import pandas as pd\n",
    "import seaborn as sns\n",
    "import sklearn.feature_extraction.text\n",
    "import sklearn.model_selection"
   ]
  },
  {
   "cell_type": "code",
   "execution_count": 3,
   "metadata": {},
   "outputs": [],
   "source": [
    "df = pd.read_json('reviews_Movies_and_TV_5.json.gz', lines=True)"
   ]
  },
  {
   "cell_type": "code",
   "execution_count": 4,
   "metadata": {},
   "outputs": [
    {
     "data": {
      "text/html": [
       "<div>\n",
       "<style scoped>\n",
       "    .dataframe tbody tr th:only-of-type {\n",
       "        vertical-align: middle;\n",
       "    }\n",
       "\n",
       "    .dataframe tbody tr th {\n",
       "        vertical-align: top;\n",
       "    }\n",
       "\n",
       "    .dataframe thead th {\n",
       "        text-align: right;\n",
       "    }\n",
       "</style>\n",
       "<table border=\"1\" class=\"dataframe\">\n",
       "  <thead>\n",
       "    <tr style=\"text-align: right;\">\n",
       "      <th></th>\n",
       "      <th>reviewerID</th>\n",
       "      <th>asin</th>\n",
       "      <th>reviewerName</th>\n",
       "      <th>helpful</th>\n",
       "      <th>reviewText</th>\n",
       "      <th>overall</th>\n",
       "      <th>summary</th>\n",
       "      <th>unixReviewTime</th>\n",
       "      <th>reviewTime</th>\n",
       "    </tr>\n",
       "  </thead>\n",
       "  <tbody>\n",
       "    <tr>\n",
       "      <th>0</th>\n",
       "      <td>ADZPIG9QOCDG5</td>\n",
       "      <td>0005019281</td>\n",
       "      <td>Alice L. Larson \"alice-loves-books\"</td>\n",
       "      <td>[0, 0]</td>\n",
       "      <td>This is a charming version of the classic Dick...</td>\n",
       "      <td>4</td>\n",
       "      <td>good version of a classic</td>\n",
       "      <td>1203984000</td>\n",
       "      <td>02 26, 2008</td>\n",
       "    </tr>\n",
       "    <tr>\n",
       "      <th>1</th>\n",
       "      <td>A35947ZP82G7JH</td>\n",
       "      <td>0005019281</td>\n",
       "      <td>Amarah Strack</td>\n",
       "      <td>[0, 0]</td>\n",
       "      <td>It was good but not as emotionally moving as t...</td>\n",
       "      <td>3</td>\n",
       "      <td>Good but not as moving</td>\n",
       "      <td>1388361600</td>\n",
       "      <td>12 30, 2013</td>\n",
       "    </tr>\n",
       "    <tr>\n",
       "      <th>2</th>\n",
       "      <td>A3UORV8A9D5L2E</td>\n",
       "      <td>0005019281</td>\n",
       "      <td>Amazon Customer</td>\n",
       "      <td>[0, 0]</td>\n",
       "      <td>Don't get me wrong, Winkler is a wonderful cha...</td>\n",
       "      <td>3</td>\n",
       "      <td>Winkler's Performance was ok at best!</td>\n",
       "      <td>1388361600</td>\n",
       "      <td>12 30, 2013</td>\n",
       "    </tr>\n",
       "    <tr>\n",
       "      <th>3</th>\n",
       "      <td>A1VKW06X1O2X7V</td>\n",
       "      <td>0005019281</td>\n",
       "      <td>Amazon Customer \"Softmill\"</td>\n",
       "      <td>[0, 0]</td>\n",
       "      <td>Henry Winkler is very good in this twist on th...</td>\n",
       "      <td>5</td>\n",
       "      <td>It's an enjoyable twist on the classic story</td>\n",
       "      <td>1202860800</td>\n",
       "      <td>02 13, 2008</td>\n",
       "    </tr>\n",
       "    <tr>\n",
       "      <th>4</th>\n",
       "      <td>A3R27T4HADWFFJ</td>\n",
       "      <td>0005019281</td>\n",
       "      <td>BABE</td>\n",
       "      <td>[0, 0]</td>\n",
       "      <td>This is one of the best Scrooge movies out.  H...</td>\n",
       "      <td>4</td>\n",
       "      <td>Best Scrooge yet</td>\n",
       "      <td>1387670400</td>\n",
       "      <td>12 22, 2013</td>\n",
       "    </tr>\n",
       "    <tr>\n",
       "      <th>...</th>\n",
       "      <td>...</td>\n",
       "      <td>...</td>\n",
       "      <td>...</td>\n",
       "      <td>...</td>\n",
       "      <td>...</td>\n",
       "      <td>...</td>\n",
       "      <td>...</td>\n",
       "      <td>...</td>\n",
       "      <td>...</td>\n",
       "    </tr>\n",
       "    <tr>\n",
       "      <th>1697528</th>\n",
       "      <td>AV657BUYHHXZ2</td>\n",
       "      <td>B00LT1JHLW</td>\n",
       "      <td>Mike Rules \"Mike\"</td>\n",
       "      <td>[1, 14]</td>\n",
       "      <td>wow $269.99 for the entire series on Blu Ray??...</td>\n",
       "      <td>1</td>\n",
       "      <td>Way to Expensive!! WB = GREED</td>\n",
       "      <td>1406073600</td>\n",
       "      <td>07 23, 2014</td>\n",
       "    </tr>\n",
       "    <tr>\n",
       "      <th>1697529</th>\n",
       "      <td>A17W587EH23J0Q</td>\n",
       "      <td>B00LT1JHLW</td>\n",
       "      <td>Ron2900 \"Ron\"</td>\n",
       "      <td>[32, 48]</td>\n",
       "      <td>Finally, the holy grail of tv-on-dvd boxsets i...</td>\n",
       "      <td>5</td>\n",
       "      <td>HOLY BAT-BOXSET, BATMAN... I never thought thi...</td>\n",
       "      <td>1405641600</td>\n",
       "      <td>07 18, 2014</td>\n",
       "    </tr>\n",
       "    <tr>\n",
       "      <th>1697530</th>\n",
       "      <td>A3DE438TF1A958</td>\n",
       "      <td>B00LT1JHLW</td>\n",
       "      <td>thomas henry</td>\n",
       "      <td>[3, 10]</td>\n",
       "      <td>Could this be a true or I'm i dreaming batman ...</td>\n",
       "      <td>5</td>\n",
       "      <td>prayers have been answered because batman 60s ...</td>\n",
       "      <td>1405728000</td>\n",
       "      <td>07 19, 2014</td>\n",
       "    </tr>\n",
       "    <tr>\n",
       "      <th>1697531</th>\n",
       "      <td>A2RWCXDMANY0LW</td>\n",
       "      <td>B00LT1JHLW</td>\n",
       "      <td>wheev</td>\n",
       "      <td>[0, 4]</td>\n",
       "      <td>I've been a fan of the series since I was a yo...</td>\n",
       "      <td>5</td>\n",
       "      <td>can't Wait!</td>\n",
       "      <td>1405987200</td>\n",
       "      <td>07 22, 2014</td>\n",
       "    </tr>\n",
       "    <tr>\n",
       "      <th>1697532</th>\n",
       "      <td>A3ROPC55BE2OM9</td>\n",
       "      <td>B00LT1JHLW</td>\n",
       "      <td>WingLT</td>\n",
       "      <td>[11, 23]</td>\n",
       "      <td>People seriously need to wake up and realize t...</td>\n",
       "      <td>5</td>\n",
       "      <td>The Price is Insane? People Really Need to Wak...</td>\n",
       "      <td>1405728000</td>\n",
       "      <td>07 19, 2014</td>\n",
       "    </tr>\n",
       "  </tbody>\n",
       "</table>\n",
       "<p>1697533 rows × 9 columns</p>\n",
       "</div>"
      ],
      "text/plain": [
       "             reviewerID        asin                         reviewerName  \\\n",
       "0         ADZPIG9QOCDG5  0005019281  Alice L. Larson \"alice-loves-books\"   \n",
       "1        A35947ZP82G7JH  0005019281                        Amarah Strack   \n",
       "2        A3UORV8A9D5L2E  0005019281                      Amazon Customer   \n",
       "3        A1VKW06X1O2X7V  0005019281           Amazon Customer \"Softmill\"   \n",
       "4        A3R27T4HADWFFJ  0005019281                                 BABE   \n",
       "...                 ...         ...                                  ...   \n",
       "1697528   AV657BUYHHXZ2  B00LT1JHLW                    Mike Rules \"Mike\"   \n",
       "1697529  A17W587EH23J0Q  B00LT1JHLW                        Ron2900 \"Ron\"   \n",
       "1697530  A3DE438TF1A958  B00LT1JHLW                         thomas henry   \n",
       "1697531  A2RWCXDMANY0LW  B00LT1JHLW                                wheev   \n",
       "1697532  A3ROPC55BE2OM9  B00LT1JHLW                               WingLT   \n",
       "\n",
       "          helpful                                         reviewText  overall  \\\n",
       "0          [0, 0]  This is a charming version of the classic Dick...        4   \n",
       "1          [0, 0]  It was good but not as emotionally moving as t...        3   \n",
       "2          [0, 0]  Don't get me wrong, Winkler is a wonderful cha...        3   \n",
       "3          [0, 0]  Henry Winkler is very good in this twist on th...        5   \n",
       "4          [0, 0]  This is one of the best Scrooge movies out.  H...        4   \n",
       "...           ...                                                ...      ...   \n",
       "1697528   [1, 14]  wow $269.99 for the entire series on Blu Ray??...        1   \n",
       "1697529  [32, 48]  Finally, the holy grail of tv-on-dvd boxsets i...        5   \n",
       "1697530   [3, 10]  Could this be a true or I'm i dreaming batman ...        5   \n",
       "1697531    [0, 4]  I've been a fan of the series since I was a yo...        5   \n",
       "1697532  [11, 23]  People seriously need to wake up and realize t...        5   \n",
       "\n",
       "                                                   summary  unixReviewTime  \\\n",
       "0                                good version of a classic      1203984000   \n",
       "1                                   Good but not as moving      1388361600   \n",
       "2                    Winkler's Performance was ok at best!      1388361600   \n",
       "3             It's an enjoyable twist on the classic story      1202860800   \n",
       "4                                         Best Scrooge yet      1387670400   \n",
       "...                                                    ...             ...   \n",
       "1697528                      Way to Expensive!! WB = GREED      1406073600   \n",
       "1697529  HOLY BAT-BOXSET, BATMAN... I never thought thi...      1405641600   \n",
       "1697530  prayers have been answered because batman 60s ...      1405728000   \n",
       "1697531                                        can't Wait!      1405987200   \n",
       "1697532  The Price is Insane? People Really Need to Wak...      1405728000   \n",
       "\n",
       "          reviewTime  \n",
       "0        02 26, 2008  \n",
       "1        12 30, 2013  \n",
       "2        12 30, 2013  \n",
       "3        02 13, 2008  \n",
       "4        12 22, 2013  \n",
       "...              ...  \n",
       "1697528  07 23, 2014  \n",
       "1697529  07 18, 2014  \n",
       "1697530  07 19, 2014  \n",
       "1697531  07 22, 2014  \n",
       "1697532  07 19, 2014  \n",
       "\n",
       "[1697533 rows x 9 columns]"
      ]
     },
     "execution_count": 4,
     "metadata": {},
     "output_type": "execute_result"
    }
   ],
   "source": [
    "df"
   ]
  },
  {
   "cell_type": "markdown",
   "metadata": {},
   "source": [
    "### Getting rid of empty reviews"
   ]
  },
  {
   "cell_type": "code",
   "execution_count": 5,
   "metadata": {},
   "outputs": [
    {
     "data": {
      "text/plain": [
       "(1697471, 9)"
      ]
     },
     "execution_count": 5,
     "metadata": {},
     "output_type": "execute_result"
    }
   ],
   "source": [
    "df = df[df['reviewText'] != '']\n",
    "df.shape"
   ]
  },
  {
   "cell_type": "markdown",
   "metadata": {},
   "source": [
    "### Overall rating"
   ]
  },
  {
   "cell_type": "code",
   "execution_count": 6,
   "metadata": {},
   "outputs": [
    {
     "data": {
      "text/plain": [
       "(104215, 102406, 201294, 382982, 906574)"
      ]
     },
     "execution_count": 6,
     "metadata": {},
     "output_type": "execute_result"
    }
   ],
   "source": [
    "five = df[df['overall'] == 5].count()\n",
    "four = df[df['overall'] == 4].count()\n",
    "three = df[df['overall'] == 3].count()\n",
    "two = df[df['overall'] == 2].count()\n",
    "one = df[df['overall'] == 1].count()\n",
    "\n",
    "one[0], two[0], three[0], four[0], five[0]"
   ]
  },
  {
   "cell_type": "code",
   "execution_count": 7,
   "metadata": {},
   "outputs": [
    {
     "data": {
      "text/plain": [
       "<matplotlib.axes._subplots.AxesSubplot at 0x7fc542d807c0>"
      ]
     },
     "execution_count": 7,
     "metadata": {},
     "output_type": "execute_result"
    },
    {
     "data": {
      "image/png": "[encoded data removed]",
      "text/plain": [
       "<Figure size 432x288 with 1 Axes>"
      ]
     },
     "metadata": {
      "needs_background": "light"
     },
     "output_type": "display_data"
    }
   ],
   "source": [
    "sns.barplot(x=[1, 2, 3, 4, 5], y=[df[df['overall'] == rating].count()[0] for rating in range(1, 5+1)])"
   ]
  },
  {
   "cell_type": "markdown",
   "metadata": {},
   "source": [
    "### Arbitrary split to 25% test samples and 75% training ones"
   ]
  },
  {
   "cell_type": "code",
   "execution_count": 8,
   "metadata": {},
   "outputs": [],
   "source": [
    "train, test = sklearn.model_selection.train_test_split(df, test_size=0.25)"
   ]
  },
  {
   "cell_type": "code",
   "execution_count": 9,
   "metadata": {},
   "outputs": [
    {
     "data": {
      "text/plain": [
       "((1273103, 9), (424368, 9))"
      ]
     },
     "execution_count": 9,
     "metadata": {},
     "output_type": "execute_result"
    }
   ],
   "source": [
    "train.shape, test.shape"
   ]
  },
  {
   "cell_type": "code",
   "execution_count": 10,
   "metadata": {},
   "outputs": [
    {
     "data": {
      "text/plain": [
       "Text(0.5, 1.0, 'test')"
      ]
     },
     "execution_count": 10,
     "metadata": {},
     "output_type": "execute_result"
    },
    {
     "data": {
      "image/png": "[encoded data removed]",
      "text/plain": [
       "<Figure size 1008x432 with 2 Axes>"
      ]
     },
     "metadata": {
      "needs_background": "light"
     },
     "output_type": "display_data"
    }
   ],
   "source": [
    "fig, ax = plt.subplots(1, 2, figsize=(14, 6))\n",
    "\n",
    "sns.barplot(\n",
    "    x=[1, 2, 3, 4, 5],\n",
    "    y=[train[train['overall'] == rating].count()[0] for rating in range(1, 5+1)], ax=ax[0]).set_title('train')\n",
    "\n",
    "sns.barplot(\n",
    "    x=[1, 2, 3, 4, 5],\n",
    "    y=[test[test['overall'] == rating].count()[0] for rating in range(1, 5+1)], ax=ax[1]).set_title('test')"
   ]
  },
  {
   "cell_type": "markdown",
   "metadata": {},
   "source": [
    "#### Random downsampling of the overrepresented classes"
   ]
  },
  {
   "cell_type": "code",
   "execution_count": 11,
   "metadata": {},
   "outputs": [],
   "source": [
    "downsampled_train_df = pd.concat([\n",
    "    train[train['overall'] == 1],\n",
    "    train[train['overall'] == 2],\n",
    "    train[train['overall'] == 3].sample(80_000),\n",
    "    train[train['overall'] == 4].sample(80_000),\n",
    "    train[train['overall'] == 5].sample(80_000),\n",
    "])"
   ]
  },
  {
   "cell_type": "code",
   "execution_count": 12,
   "metadata": {},
   "outputs": [
    {
     "data": {
      "text/plain": [
       "<matplotlib.axes._subplots.AxesSubplot at 0x7fc56eb578b0>"
      ]
     },
     "execution_count": 12,
     "metadata": {},
     "output_type": "execute_result"
    },
    {
     "data": {
      "image/png": "[encoded data removed]",
      "text/plain": [
       "<Figure size 432x288 with 1 Axes>"
      ]
     },
     "metadata": {
      "needs_background": "light"
     },
     "output_type": "display_data"
    }
   ],
   "source": [
    "sns.barplot(\n",
    "    x=[1, 2, 3, 4, 5],\n",
    "    y=[downsampled_train_df[downsampled_train_df['overall'] == rating].count()[0] for rating in range(1, 5+1)])"
   ]
  },
  {
   "cell_type": "markdown",
   "metadata": {},
   "source": [
    "#### Crude oversamplying, done by simply copying the data"
   ]
  },
  {
   "cell_type": "code",
   "execution_count": 13,
   "metadata": {},
   "outputs": [
    {
     "data": {
      "text/plain": [
       "<matplotlib.axes._subplots.AxesSubplot at 0x7fc5457bb910>"
      ]
     },
     "execution_count": 13,
     "metadata": {},
     "output_type": "execute_result"
    },
    {
     "data": {
      "image/png": "[encoded data removed]",
      "text/plain": [
       "<Figure size 432x288 with 1 Axes>"
      ]
     },
     "metadata": {
      "needs_background": "light"
     },
     "output_type": "display_data"
    }
   ],
   "source": [
    "oversampled_train_df = pd.concat([\n",
    "    train[train['overall'] == 1],\n",
    "    train[train['overall'] == 1],\n",
    "    train[train['overall'] == 1],\n",
    "    train[train['overall'] == 1],\n",
    "    train[train['overall'] == 1],\n",
    "    train[train['overall'] == 1],\n",
    "    train[train['overall'] == 1],\n",
    "    train[train['overall'] == 1],\n",
    "    train[train['overall'] == 1],\n",
    "    train[train['overall'] == 2],\n",
    "    train[train['overall'] == 2],\n",
    "    train[train['overall'] == 2],\n",
    "    train[train['overall'] == 2],\n",
    "    train[train['overall'] == 2],\n",
    "    train[train['overall'] == 2],\n",
    "    train[train['overall'] == 2],\n",
    "    train[train['overall'] == 2],\n",
    "    train[train['overall'] == 2],\n",
    "    train[train['overall'] == 3],\n",
    "    train[train['overall'] == 3],\n",
    "    train[train['overall'] == 3],\n",
    "    train[train['overall'] == 3],\n",
    "    train[train['overall'] == 3].sample(100_000),\n",
    "    train[train['overall'] == 4],\n",
    "    train[train['overall'] == 4],\n",
    "    train[train['overall'] == 4].sample(100_000),\n",
    "    train[train['overall'] == 5],\n",
    "])\n",
    "\n",
    "sns.barplot(\n",
    "    x=[1, 2, 3, 4, 5],\n",
    "    y=[oversampled_train_df[oversampled_train_df['overall'] == rating].count()[0] for rating in range(1, 5+1)])"
   ]
  },
  {
   "cell_type": "markdown",
   "metadata": {},
   "source": [
    "#### Purely synthetic over-, and then under-sampling"
   ]
  },
  {
   "cell_type": "code",
   "execution_count": null,
   "metadata": {},
   "outputs": [
    {
     "name": "stdout",
     "output_type": "stream",
     "text": [
      "tomek zwektoryzowany\n"
     ]
    }
   ],
   "source": [
    "tomek = imblearn.under_sampling.TomekLinks(sampling_strategy='majority')\n",
    "tomek_vectorizer = sklearn.feature_extraction.text.CountVectorizer()\n",
    "tomek_train = tomek_vectorizer.fit_transform(train['reviewText'])\n",
    "print('tomek zwektoryzowany')\n",
    "tomek_X, tomek_Y = tomek.fit_sample(tomek_train, train['overall'].values)"
   ]
  },
  {
   "cell_type": "code",
   "execution_count": null,
   "metadata": {},
   "outputs": [],
   "source": []
  },
  {
   "cell_type": "markdown",
   "metadata": {},
   "source": [
    "#### Dump the downsampled and stripped datasets to disk"
   ]
  },
  {
   "cell_type": "code",
   "execution_count": 14,
   "metadata": {},
   "outputs": [],
   "source": [
    "unnecessary_columns = ['reviewerID', 'asin', 'reviewerName', 'helpful', 'unixReviewTime', 'reviewTime', 'summary']\n",
    "\n",
    "with open('full_train.csv', 'w') as f:\n",
    "    f.write(train.drop(unnecessary_columns, axis=1).to_csv())\n",
    "\n",
    "with open('downsampled_train.csv', 'w') as f:\n",
    "    f.write(downsampled_train_df.drop(unnecessary_columns, axis=1).to_csv())\n",
    "\n",
    "with open('oversampled_train.csv', 'w') as f:\n",
    "    f.write(oversampled_train_df.drop(unnecessary_columns, axis=1).to_csv())\n",
    "\n",
    "with open('test.csv', 'w') as f:\n",
    "    f.write(test.drop(unnecessary_columns, axis=1).to_csv())"
   ]
  },
  {
   "cell_type": "markdown",
   "metadata": {},
   "source": [
    "### \"Helpfulness\""
   ]
  },
  {
   "cell_type": "code",
   "execution_count": 15,
   "metadata": {},
   "outputs": [
    {
     "name": "stderr",
     "output_type": "stream",
     "text": [
      "/home/asgavar/.local/lib/python3.8/site-packages/pandas/core/frame.py:3509: SettingWithCopyWarning: \n",
      "A value is trying to be set on a copy of a slice from a DataFrame.\n",
      "Try using .loc[row_indexer,col_indexer] = value instead\n",
      "\n",
      "See the caveats in the documentation: http://pandas.pydata.org/pandas-docs/stable/user_guide/indexing.html#returning-a-view-versus-a-copy\n",
      "  self[k1] = value[k2]\n"
     ]
    },
    {
     "data": {
      "text/html": [
       "<div>\n",
       "<style scoped>\n",
       "    .dataframe tbody tr th:only-of-type {\n",
       "        vertical-align: middle;\n",
       "    }\n",
       "\n",
       "    .dataframe tbody tr th {\n",
       "        vertical-align: top;\n",
       "    }\n",
       "\n",
       "    .dataframe thead th {\n",
       "        text-align: right;\n",
       "    }\n",
       "</style>\n",
       "<table border=\"1\" class=\"dataframe\">\n",
       "  <thead>\n",
       "    <tr style=\"text-align: right;\">\n",
       "      <th></th>\n",
       "      <th>reviewerID</th>\n",
       "      <th>asin</th>\n",
       "      <th>reviewerName</th>\n",
       "      <th>helpful</th>\n",
       "      <th>reviewText</th>\n",
       "      <th>overall</th>\n",
       "      <th>summary</th>\n",
       "      <th>unixReviewTime</th>\n",
       "      <th>reviewTime</th>\n",
       "      <th>helpful_voted</th>\n",
       "      <th>helpful_out_of</th>\n",
       "    </tr>\n",
       "  </thead>\n",
       "  <tbody>\n",
       "    <tr>\n",
       "      <th>0</th>\n",
       "      <td>ADZPIG9QOCDG5</td>\n",
       "      <td>0005019281</td>\n",
       "      <td>Alice L. Larson \"alice-loves-books\"</td>\n",
       "      <td>[0, 0]</td>\n",
       "      <td>This is a charming version of the classic Dick...</td>\n",
       "      <td>4</td>\n",
       "      <td>good version of a classic</td>\n",
       "      <td>1203984000</td>\n",
       "      <td>02 26, 2008</td>\n",
       "      <td>0.0</td>\n",
       "      <td>0.0</td>\n",
       "    </tr>\n",
       "    <tr>\n",
       "      <th>1</th>\n",
       "      <td>A35947ZP82G7JH</td>\n",
       "      <td>0005019281</td>\n",
       "      <td>Amarah Strack</td>\n",
       "      <td>[0, 0]</td>\n",
       "      <td>It was good but not as emotionally moving as t...</td>\n",
       "      <td>3</td>\n",
       "      <td>Good but not as moving</td>\n",
       "      <td>1388361600</td>\n",
       "      <td>12 30, 2013</td>\n",
       "      <td>0.0</td>\n",
       "      <td>0.0</td>\n",
       "    </tr>\n",
       "    <tr>\n",
       "      <th>2</th>\n",
       "      <td>A3UORV8A9D5L2E</td>\n",
       "      <td>0005019281</td>\n",
       "      <td>Amazon Customer</td>\n",
       "      <td>[0, 0]</td>\n",
       "      <td>Don't get me wrong, Winkler is a wonderful cha...</td>\n",
       "      <td>3</td>\n",
       "      <td>Winkler's Performance was ok at best!</td>\n",
       "      <td>1388361600</td>\n",
       "      <td>12 30, 2013</td>\n",
       "      <td>0.0</td>\n",
       "      <td>0.0</td>\n",
       "    </tr>\n",
       "    <tr>\n",
       "      <th>3</th>\n",
       "      <td>A1VKW06X1O2X7V</td>\n",
       "      <td>0005019281</td>\n",
       "      <td>Amazon Customer \"Softmill\"</td>\n",
       "      <td>[0, 0]</td>\n",
       "      <td>Henry Winkler is very good in this twist on th...</td>\n",
       "      <td>5</td>\n",
       "      <td>It's an enjoyable twist on the classic story</td>\n",
       "      <td>1202860800</td>\n",
       "      <td>02 13, 2008</td>\n",
       "      <td>0.0</td>\n",
       "      <td>0.0</td>\n",
       "    </tr>\n",
       "    <tr>\n",
       "      <th>4</th>\n",
       "      <td>A3R27T4HADWFFJ</td>\n",
       "      <td>0005019281</td>\n",
       "      <td>BABE</td>\n",
       "      <td>[0, 0]</td>\n",
       "      <td>This is one of the best Scrooge movies out.  H...</td>\n",
       "      <td>4</td>\n",
       "      <td>Best Scrooge yet</td>\n",
       "      <td>1387670400</td>\n",
       "      <td>12 22, 2013</td>\n",
       "      <td>0.0</td>\n",
       "      <td>0.0</td>\n",
       "    </tr>\n",
       "    <tr>\n",
       "      <th>...</th>\n",
       "      <td>...</td>\n",
       "      <td>...</td>\n",
       "      <td>...</td>\n",
       "      <td>...</td>\n",
       "      <td>...</td>\n",
       "      <td>...</td>\n",
       "      <td>...</td>\n",
       "      <td>...</td>\n",
       "      <td>...</td>\n",
       "      <td>...</td>\n",
       "      <td>...</td>\n",
       "    </tr>\n",
       "    <tr>\n",
       "      <th>1697528</th>\n",
       "      <td>AV657BUYHHXZ2</td>\n",
       "      <td>B00LT1JHLW</td>\n",
       "      <td>Mike Rules \"Mike\"</td>\n",
       "      <td>[1, 14]</td>\n",
       "      <td>wow $269.99 for the entire series on Blu Ray??...</td>\n",
       "      <td>1</td>\n",
       "      <td>Way to Expensive!! WB = GREED</td>\n",
       "      <td>1406073600</td>\n",
       "      <td>07 23, 2014</td>\n",
       "      <td>NaN</td>\n",
       "      <td>NaN</td>\n",
       "    </tr>\n",
       "    <tr>\n",
       "      <th>1697529</th>\n",
       "      <td>A17W587EH23J0Q</td>\n",
       "      <td>B00LT1JHLW</td>\n",
       "      <td>Ron2900 \"Ron\"</td>\n",
       "      <td>[32, 48]</td>\n",
       "      <td>Finally, the holy grail of tv-on-dvd boxsets i...</td>\n",
       "      <td>5</td>\n",
       "      <td>HOLY BAT-BOXSET, BATMAN... I never thought thi...</td>\n",
       "      <td>1405641600</td>\n",
       "      <td>07 18, 2014</td>\n",
       "      <td>NaN</td>\n",
       "      <td>NaN</td>\n",
       "    </tr>\n",
       "    <tr>\n",
       "      <th>1697530</th>\n",
       "      <td>A3DE438TF1A958</td>\n",
       "      <td>B00LT1JHLW</td>\n",
       "      <td>thomas henry</td>\n",
       "      <td>[3, 10]</td>\n",
       "      <td>Could this be a true or I'm i dreaming batman ...</td>\n",
       "      <td>5</td>\n",
       "      <td>prayers have been answered because batman 60s ...</td>\n",
       "      <td>1405728000</td>\n",
       "      <td>07 19, 2014</td>\n",
       "      <td>NaN</td>\n",
       "      <td>NaN</td>\n",
       "    </tr>\n",
       "    <tr>\n",
       "      <th>1697531</th>\n",
       "      <td>A2RWCXDMANY0LW</td>\n",
       "      <td>B00LT1JHLW</td>\n",
       "      <td>wheev</td>\n",
       "      <td>[0, 4]</td>\n",
       "      <td>I've been a fan of the series since I was a yo...</td>\n",
       "      <td>5</td>\n",
       "      <td>can't Wait!</td>\n",
       "      <td>1405987200</td>\n",
       "      <td>07 22, 2014</td>\n",
       "      <td>NaN</td>\n",
       "      <td>NaN</td>\n",
       "    </tr>\n",
       "    <tr>\n",
       "      <th>1697532</th>\n",
       "      <td>A3ROPC55BE2OM9</td>\n",
       "      <td>B00LT1JHLW</td>\n",
       "      <td>WingLT</td>\n",
       "      <td>[11, 23]</td>\n",
       "      <td>People seriously need to wake up and realize t...</td>\n",
       "      <td>5</td>\n",
       "      <td>The Price is Insane? People Really Need to Wak...</td>\n",
       "      <td>1405728000</td>\n",
       "      <td>07 19, 2014</td>\n",
       "      <td>NaN</td>\n",
       "      <td>NaN</td>\n",
       "    </tr>\n",
       "  </tbody>\n",
       "</table>\n",
       "<p>1697471 rows × 11 columns</p>\n",
       "</div>"
      ],
      "text/plain": [
       "             reviewerID        asin                         reviewerName  \\\n",
       "0         ADZPIG9QOCDG5  0005019281  Alice L. Larson \"alice-loves-books\"   \n",
       "1        A35947ZP82G7JH  0005019281                        Amarah Strack   \n",
       "2        A3UORV8A9D5L2E  0005019281                      Amazon Customer   \n",
       "3        A1VKW06X1O2X7V  0005019281           Amazon Customer \"Softmill\"   \n",
       "4        A3R27T4HADWFFJ  0005019281                                 BABE   \n",
       "...                 ...         ...                                  ...   \n",
       "1697528   AV657BUYHHXZ2  B00LT1JHLW                    Mike Rules \"Mike\"   \n",
       "1697529  A17W587EH23J0Q  B00LT1JHLW                        Ron2900 \"Ron\"   \n",
       "1697530  A3DE438TF1A958  B00LT1JHLW                         thomas henry   \n",
       "1697531  A2RWCXDMANY0LW  B00LT1JHLW                                wheev   \n",
       "1697532  A3ROPC55BE2OM9  B00LT1JHLW                               WingLT   \n",
       "\n",
       "          helpful                                         reviewText  overall  \\\n",
       "0          [0, 0]  This is a charming version of the classic Dick...        4   \n",
       "1          [0, 0]  It was good but not as emotionally moving as t...        3   \n",
       "2          [0, 0]  Don't get me wrong, Winkler is a wonderful cha...        3   \n",
       "3          [0, 0]  Henry Winkler is very good in this twist on th...        5   \n",
       "4          [0, 0]  This is one of the best Scrooge movies out.  H...        4   \n",
       "...           ...                                                ...      ...   \n",
       "1697528   [1, 14]  wow $269.99 for the entire series on Blu Ray??...        1   \n",
       "1697529  [32, 48]  Finally, the holy grail of tv-on-dvd boxsets i...        5   \n",
       "1697530   [3, 10]  Could this be a true or I'm i dreaming batman ...        5   \n",
       "1697531    [0, 4]  I've been a fan of the series since I was a yo...        5   \n",
       "1697532  [11, 23]  People seriously need to wake up and realize t...        5   \n",
       "\n",
       "                                                   summary  unixReviewTime  \\\n",
       "0                                good version of a classic      1203984000   \n",
       "1                                   Good but not as moving      1388361600   \n",
       "2                    Winkler's Performance was ok at best!      1388361600   \n",
       "3             It's an enjoyable twist on the classic story      1202860800   \n",
       "4                                         Best Scrooge yet      1387670400   \n",
       "...                                                    ...             ...   \n",
       "1697528                      Way to Expensive!! WB = GREED      1406073600   \n",
       "1697529  HOLY BAT-BOXSET, BATMAN... I never thought thi...      1405641600   \n",
       "1697530  prayers have been answered because batman 60s ...      1405728000   \n",
       "1697531                                        can't Wait!      1405987200   \n",
       "1697532  The Price is Insane? People Really Need to Wak...      1405728000   \n",
       "\n",
       "          reviewTime  helpful_voted  helpful_out_of  \n",
       "0        02 26, 2008            0.0             0.0  \n",
       "1        12 30, 2013            0.0             0.0  \n",
       "2        12 30, 2013            0.0             0.0  \n",
       "3        02 13, 2008            0.0             0.0  \n",
       "4        12 22, 2013            0.0             0.0  \n",
       "...              ...            ...             ...  \n",
       "1697528  07 23, 2014            NaN             NaN  \n",
       "1697529  07 18, 2014            NaN             NaN  \n",
       "1697530  07 19, 2014            NaN             NaN  \n",
       "1697531  07 22, 2014            NaN             NaN  \n",
       "1697532  07 19, 2014            NaN             NaN  \n",
       "\n",
       "[1697471 rows x 11 columns]"
      ]
     },
     "execution_count": 15,
     "metadata": {},
     "output_type": "execute_result"
    }
   ],
   "source": [
    "df[['helpful_voted', 'helpful_out_of']] = pd.DataFrame(df['helpful'].values.tolist())\n",
    "df"
   ]
  },
  {
   "cell_type": "code",
   "execution_count": 16,
   "metadata": {},
   "outputs": [
    {
     "name": "stderr",
     "output_type": "stream",
     "text": [
      "<ipython-input-16-aa199c44962a>:1: SettingWithCopyWarning: \n",
      "A value is trying to be set on a copy of a slice from a DataFrame.\n",
      "Try using .loc[row_indexer,col_indexer] = value instead\n",
      "\n",
      "See the caveats in the documentation: http://pandas.pydata.org/pandas-docs/stable/user_guide/indexing.html#returning-a-view-versus-a-copy\n",
      "  df['helpfulness'] = (df['helpful_voted'] / df['helpful_out_of']).fillna(1.1)\n",
      "<ipython-input-16-aa199c44962a>:2: SettingWithCopyWarning: \n",
      "A value is trying to be set on a copy of a slice from a DataFrame.\n",
      "Try using .loc[row_indexer,col_indexer] = value instead\n",
      "\n",
      "See the caveats in the documentation: http://pandas.pydata.org/pandas-docs/stable/user_guide/indexing.html#returning-a-view-versus-a-copy\n",
      "  df[df['helpfulness'] > 1.1] = -0.1\n",
      "/home/asgavar/.local/lib/python3.8/site-packages/pandas/core/indexing.py:494: SettingWithCopyWarning: \n",
      "A value is trying to be set on a copy of a slice from a DataFrame.\n",
      "Try using .loc[row_indexer,col_indexer] = value instead\n",
      "\n",
      "See the caveats in the documentation: http://pandas.pydata.org/pandas-docs/stable/user_guide/indexing.html#returning-a-view-versus-a-copy\n",
      "  self.obj[item] = s\n"
     ]
    }
   ],
   "source": [
    "df['helpfulness'] = (df['helpful_voted'] / df['helpful_out_of']).fillna(1.1)\n",
    "df[df['helpfulness'] > 1.1] = -0.1"
   ]
  },
  {
   "cell_type": "code",
   "execution_count": 17,
   "metadata": {},
   "outputs": [
    {
     "data": {
      "text/plain": [
       "<matplotlib.axes._subplots.AxesSubplot at 0x7fc539d5efd0>"
      ]
     },
     "execution_count": 17,
     "metadata": {},
     "output_type": "execute_result"
    },
    {
     "data": {
      "image/png": "[encoded data removed]",
      "text/plain": [
       "<Figure size 432x288 with 1 Axes>"
      ]
     },
     "metadata": {
      "needs_background": "light"
     },
     "output_type": "display_data"
    }
   ],
   "source": [
    "sns.distplot(df['helpfulness'], kde='false', color='red')"
   ]
  }
 ],
 "metadata": {
  "kernelspec": {
   "display_name": "Python 3",
   "language": "python",
   "name": "python3"
  },
  "language_info": {
   "codemirror_mode": {
    "name": "ipython",
    "version": 3
   },
   "file_extension": ".py",
   "mimetype": "text/x-python",
   "name": "python",
   "nbconvert_exporter": "python",
   "pygments_lexer": "ipython3",
   "version": "3.8.1"
  }
 },
 "nbformat": 4,
 "nbformat_minor": 4
}
