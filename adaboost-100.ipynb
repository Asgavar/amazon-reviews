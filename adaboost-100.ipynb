{
 "cells": [
  {
   "cell_type": "code",
   "execution_count": 3,
   "metadata": {},
   "outputs": [],
   "source": [
    "%load_ext autoreload\n",
    "%autoreload 2\n",
    "%matplotlib inline\n",
    "\n",
    "import common\n",
    "\n",
    "import matplotlib.pyplot as plt\n",
    "import numpy as np\n",
    "import pandas as pd\n",
    "import sklearn.dummy\n",
    "import sklearn.ensemble"
   ]
  },
  {
   "cell_type": "code",
   "execution_count": 2,
   "metadata": {},
   "outputs": [
    {
     "name": "stderr",
     "output_type": "stream",
     "text": [
      "/home/asgavar/.local/lib/python3.8/site-packages/numpy/lib/arraysetops.py:569: FutureWarning: elementwise comparison failed; returning scalar instead, but in the future will perform elementwise comparison\n",
      "  mask |= (ar1 == a)\n",
      "/home/asgavar/.local/lib/python3.8/site-packages/sklearn/dummy.py:131: FutureWarning: The default value of strategy will change from stratified to prior in 0.24.\n",
      "  warnings.warn(\"The default value of strategy will change from \"\n"
     ]
    },
    {
     "data": {
      "text/plain": [
       "DummyClassifier(constant=None, random_state=None, strategy='warn')"
      ]
     },
     "execution_count": 2,
     "metadata": {},
     "output_type": "execute_result"
    }
   ],
   "source": [
    "train_as_vec, train_targets, test_as_vec, test_targets = common.load_dataset('full', 'count', None)\n",
    "baseline_classifier = sklearn.dummy.DummyClassifier()\n",
    "baseline_classifier.fit(train_as_vec, train_targets)"
   ]
  },
  {
   "cell_type": "code",
   "execution_count": 4,
   "metadata": {},
   "outputs": [
    {
     "name": "stdout",
     "output_type": "stream",
     "text": [
      "SCORE: 0.20024917291549454\n",
      "[[0.06073577 0.0580364  0.11989048 0.22948481 0.53185254]\n",
      " [0.060404   0.06256129 0.12190626 0.22647578 0.52865268]\n",
      " [0.06276374 0.0611788  0.11704804 0.22482417 0.53418524]\n",
      " [0.06114827 0.06109626 0.11865553 0.22611753 0.53298241]\n",
      " [0.06121791 0.05991455 0.11924591 0.22541409 0.53420754]]\n"
     ]
    },
    {
     "data": {
      "image/png": "[encoded data removed]",
      "text/plain": [
       "<Figure size 432x288 with 2 Axes>"
      ]
     },
     "metadata": {
      "needs_background": "light"
     },
     "output_type": "display_data"
    }
   ],
   "source": [
    "common.display_classifier_performance(baseline_classifier, test_as_vec, test_targets)"
   ]
  },
  {
   "cell_type": "code",
   "execution_count": 5,
   "metadata": {},
   "outputs": [
    {
     "data": {
      "text/html": [
       "<div>\n",
       "<style scoped>\n",
       "    .dataframe tbody tr th:only-of-type {\n",
       "        vertical-align: middle;\n",
       "    }\n",
       "\n",
       "    .dataframe tbody tr th {\n",
       "        vertical-align: top;\n",
       "    }\n",
       "\n",
       "    .dataframe thead th {\n",
       "        text-align: right;\n",
       "    }\n",
       "</style>\n",
       "<table border=\"1\" class=\"dataframe\">\n",
       "  <thead>\n",
       "    <tr style=\"text-align: right;\">\n",
       "      <th></th>\n",
       "      <th>classifier_type</th>\n",
       "      <th>sampling</th>\n",
       "      <th>representation</th>\n",
       "      <th>preprocessing</th>\n",
       "      <th>learning_rate</th>\n",
       "      <th>n_estimators</th>\n",
       "      <th>real_world_acc</th>\n",
       "      <th>score</th>\n",
       "    </tr>\n",
       "  </thead>\n",
       "  <tbody>\n",
       "    <tr>\n",
       "      <th>0</th>\n",
       "      <td>baseline</td>\n",
       "      <td>full</td>\n",
       "      <td>count</td>\n",
       "      <td>None</td>\n",
       "      <td>N/A</td>\n",
       "      <td>N/A</td>\n",
       "      <td>0.357228</td>\n",
       "      <td>0.200005</td>\n",
       "    </tr>\n",
       "  </tbody>\n",
       "</table>\n",
       "</div>"
      ],
      "text/plain": [
       "  classifier_type sampling representation preprocessing learning_rate  \\\n",
       "0        baseline     full          count          None           N/A   \n",
       "\n",
       "  n_estimators  real_world_acc     score  \n",
       "0          N/A        0.357228  0.200005  "
      ]
     },
     "execution_count": 5,
     "metadata": {},
     "output_type": "execute_result"
    }
   ],
   "source": [
    "results_df = pd.DataFrame.from_dict([\n",
    "    common.perf_row(\n",
    "        baseline_classifier, test_as_vec, test_targets, 'baseline',\n",
    "        'full', 'count', None, learning_rate='N/A', n_estimators='N/A')])\n",
    "results_df"
   ]
  },
  {
   "cell_type": "code",
   "execution_count": 11,
   "metadata": {},
   "outputs": [
    {
     "data": {
      "text/plain": [
       "0.39705397202428083"
      ]
     },
     "execution_count": 11,
     "metadata": {},
     "output_type": "execute_result"
    }
   ],
   "source": [
    "train_as_vec, train_targets, test_as_vec, test_targets = common.load_dataset('random_downsampling', 'count', None)\n",
    "classifier = sklearn.ensemble.AdaBoostClassifier(n_estimators=1)\n",
    "classifier.fit(train_as_vec, train_targets)\n",
    "classifier.score(test_as_vec, test_targets)"
   ]
  },
  {
   "cell_type": "code",
   "execution_count": 9,
   "metadata": {},
   "outputs": [
    {
     "data": {
      "text/plain": [
       "0.533355483919617"
      ]
     },
     "execution_count": 9,
     "metadata": {},
     "output_type": "execute_result"
    }
   ],
   "source": [
    "classifier.score(test_as_vec, test_targets)"
   ]
  },
  {
   "cell_type": "code",
   "execution_count": null,
   "metadata": {},
   "outputs": [
    {
     "name": "stdout",
     "output_type": "stream",
     "text": [
      "sampling = random_downsampling\n",
      "    representation = count\n",
      "        learning_rate = 0.1\n",
      "        learning_rate = 0.5\n",
      "        learning_rate = 1\n",
      "    representation = tf_idf\n",
      "        learning_rate = 0.1\n",
      "        learning_rate = 0.5\n",
      "        learning_rate = 1\n",
      "sampling = full\n",
      "    representation = count\n",
      "        learning_rate = 0.1\n"
     ]
    }
   ],
   "source": [
    "N_ESTIMATORS = 25\n",
    "\n",
    "for sampling in ['random_downsampling', 'full', 'oversampled']:\n",
    "    print(f'sampling = {sampling}')\n",
    "    for representation in ['count', 'tf_idf']:\n",
    "        print(f'    representation = {representation}')\n",
    "        for learning_rate in [0.1, 0.5, 1]:\n",
    "            print(f'        learning_rate = {learning_rate}')\n",
    "\n",
    "            train_as_vec, train_targets, test_as_vec, test_targets = common.load_dataset(\n",
    "                sampling, representation, None)\n",
    "\n",
    "            classifier = sklearn.ensemble.AdaBoostClassifier(n_estimators=N_ESTIMATORS, learning_rate=learning_rate)\n",
    "            classifier.fit(train_as_vec, train_targets)\n",
    "\n",
    "            results_df = results_df.append([\n",
    "                    common.perf_row(\n",
    "                        classifier, test_as_vec, test_targets,\n",
    "                        'N/A', sampling, representation, \n",
    "                        None, n_estimators=N_ESTIMATORS, learning_rate=learning_rate)])"
   ]
  },
  {
   "cell_type": "code",
   "execution_count": 6,
   "metadata": {},
   "outputs": [
    {
     "data": {
      "text/html": [
       "<div>\n",
       "<style scoped>\n",
       "    .dataframe tbody tr th:only-of-type {\n",
       "        vertical-align: middle;\n",
       "    }\n",
       "\n",
       "    .dataframe tbody tr th {\n",
       "        vertical-align: top;\n",
       "    }\n",
       "\n",
       "    .dataframe thead th {\n",
       "        text-align: right;\n",
       "    }\n",
       "</style>\n",
       "<table border=\"1\" class=\"dataframe\">\n",
       "  <thead>\n",
       "    <tr style=\"text-align: right;\">\n",
       "      <th></th>\n",
       "      <th>classifier_type</th>\n",
       "      <th>sampling</th>\n",
       "      <th>representation</th>\n",
       "      <th>preprocessing</th>\n",
       "      <th>learning_rate</th>\n",
       "      <th>n_estimators</th>\n",
       "      <th>real_world_acc</th>\n",
       "      <th>score</th>\n",
       "    </tr>\n",
       "  </thead>\n",
       "  <tbody>\n",
       "    <tr>\n",
       "      <th>0</th>\n",
       "      <td>N/A</td>\n",
       "      <td>oversampled</td>\n",
       "      <td>tf_idf</td>\n",
       "      <td>None</td>\n",
       "      <td>1</td>\n",
       "      <td>25</td>\n",
       "      <td>0.456451</td>\n",
       "      <td>0.379707</td>\n",
       "    </tr>\n",
       "    <tr>\n",
       "      <th>0</th>\n",
       "      <td>N/A</td>\n",
       "      <td>random_downsampling</td>\n",
       "      <td>tf_idf</td>\n",
       "      <td>None</td>\n",
       "      <td>1</td>\n",
       "      <td>25</td>\n",
       "      <td>0.456024</td>\n",
       "      <td>0.379319</td>\n",
       "    </tr>\n",
       "    <tr>\n",
       "      <th>0</th>\n",
       "      <td>N/A</td>\n",
       "      <td>oversampled</td>\n",
       "      <td>count</td>\n",
       "      <td>None</td>\n",
       "      <td>1</td>\n",
       "      <td>25</td>\n",
       "      <td>0.459462</td>\n",
       "      <td>0.378354</td>\n",
       "    </tr>\n",
       "    <tr>\n",
       "      <th>0</th>\n",
       "      <td>N/A</td>\n",
       "      <td>random_downsampling</td>\n",
       "      <td>count</td>\n",
       "      <td>None</td>\n",
       "      <td>1</td>\n",
       "      <td>25</td>\n",
       "      <td>0.465497</td>\n",
       "      <td>0.378036</td>\n",
       "    </tr>\n",
       "    <tr>\n",
       "      <th>0</th>\n",
       "      <td>N/A</td>\n",
       "      <td>oversampled</td>\n",
       "      <td>tf_idf</td>\n",
       "      <td>None</td>\n",
       "      <td>0.5</td>\n",
       "      <td>25</td>\n",
       "      <td>0.444084</td>\n",
       "      <td>0.374556</td>\n",
       "    </tr>\n",
       "    <tr>\n",
       "      <th>0</th>\n",
       "      <td>N/A</td>\n",
       "      <td>random_downsampling</td>\n",
       "      <td>tf_idf</td>\n",
       "      <td>None</td>\n",
       "      <td>0.5</td>\n",
       "      <td>25</td>\n",
       "      <td>0.450326</td>\n",
       "      <td>0.373669</td>\n",
       "    </tr>\n",
       "    <tr>\n",
       "      <th>0</th>\n",
       "      <td>N/A</td>\n",
       "      <td>oversampled</td>\n",
       "      <td>count</td>\n",
       "      <td>None</td>\n",
       "      <td>0.5</td>\n",
       "      <td>25</td>\n",
       "      <td>0.455944</td>\n",
       "      <td>0.373277</td>\n",
       "    </tr>\n",
       "    <tr>\n",
       "      <th>0</th>\n",
       "      <td>N/A</td>\n",
       "      <td>random_downsampling</td>\n",
       "      <td>count</td>\n",
       "      <td>None</td>\n",
       "      <td>0.5</td>\n",
       "      <td>25</td>\n",
       "      <td>0.463871</td>\n",
       "      <td>0.372087</td>\n",
       "    </tr>\n",
       "    <tr>\n",
       "      <th>0</th>\n",
       "      <td>N/A</td>\n",
       "      <td>random_downsampling</td>\n",
       "      <td>count</td>\n",
       "      <td>None</td>\n",
       "      <td>0.1</td>\n",
       "      <td>25</td>\n",
       "      <td>0.423215</td>\n",
       "      <td>0.323615</td>\n",
       "    </tr>\n",
       "    <tr>\n",
       "      <th>0</th>\n",
       "      <td>N/A</td>\n",
       "      <td>oversampled</td>\n",
       "      <td>tf_idf</td>\n",
       "      <td>None</td>\n",
       "      <td>0.1</td>\n",
       "      <td>25</td>\n",
       "      <td>0.410104</td>\n",
       "      <td>0.323531</td>\n",
       "    </tr>\n",
       "    <tr>\n",
       "      <th>0</th>\n",
       "      <td>N/A</td>\n",
       "      <td>random_downsampling</td>\n",
       "      <td>tf_idf</td>\n",
       "      <td>None</td>\n",
       "      <td>0.1</td>\n",
       "      <td>25</td>\n",
       "      <td>0.414595</td>\n",
       "      <td>0.322856</td>\n",
       "    </tr>\n",
       "    <tr>\n",
       "      <th>0</th>\n",
       "      <td>N/A</td>\n",
       "      <td>oversampled</td>\n",
       "      <td>count</td>\n",
       "      <td>None</td>\n",
       "      <td>0.1</td>\n",
       "      <td>25</td>\n",
       "      <td>0.414652</td>\n",
       "      <td>0.322487</td>\n",
       "    </tr>\n",
       "    <tr>\n",
       "      <th>0</th>\n",
       "      <td>N/A</td>\n",
       "      <td>full</td>\n",
       "      <td>tf_idf</td>\n",
       "      <td>None</td>\n",
       "      <td>1</td>\n",
       "      <td>25</td>\n",
       "      <td>0.556984</td>\n",
       "      <td>0.297228</td>\n",
       "    </tr>\n",
       "    <tr>\n",
       "      <th>0</th>\n",
       "      <td>N/A</td>\n",
       "      <td>full</td>\n",
       "      <td>count</td>\n",
       "      <td>None</td>\n",
       "      <td>1</td>\n",
       "      <td>25</td>\n",
       "      <td>0.555614</td>\n",
       "      <td>0.293414</td>\n",
       "    </tr>\n",
       "    <tr>\n",
       "      <th>0</th>\n",
       "      <td>N/A</td>\n",
       "      <td>full</td>\n",
       "      <td>tf_idf</td>\n",
       "      <td>None</td>\n",
       "      <td>0.5</td>\n",
       "      <td>25</td>\n",
       "      <td>0.546142</td>\n",
       "      <td>0.241857</td>\n",
       "    </tr>\n",
       "    <tr>\n",
       "      <th>0</th>\n",
       "      <td>N/A</td>\n",
       "      <td>full</td>\n",
       "      <td>count</td>\n",
       "      <td>None</td>\n",
       "      <td>0.5</td>\n",
       "      <td>25</td>\n",
       "      <td>0.546363</td>\n",
       "      <td>0.239938</td>\n",
       "    </tr>\n",
       "    <tr>\n",
       "      <th>0</th>\n",
       "      <td>N/A</td>\n",
       "      <td>full</td>\n",
       "      <td>tf_idf</td>\n",
       "      <td>None</td>\n",
       "      <td>0.1</td>\n",
       "      <td>25</td>\n",
       "      <td>0.534352</td>\n",
       "      <td>0.203297</td>\n",
       "    </tr>\n",
       "    <tr>\n",
       "      <th>0</th>\n",
       "      <td>N/A</td>\n",
       "      <td>full</td>\n",
       "      <td>count</td>\n",
       "      <td>None</td>\n",
       "      <td>0.1</td>\n",
       "      <td>25</td>\n",
       "      <td>0.533966</td>\n",
       "      <td>0.202079</td>\n",
       "    </tr>\n",
       "    <tr>\n",
       "      <th>0</th>\n",
       "      <td>baseline</td>\n",
       "      <td>full</td>\n",
       "      <td>count</td>\n",
       "      <td>None</td>\n",
       "      <td>N/A</td>\n",
       "      <td>N/A</td>\n",
       "      <td>0.357346</td>\n",
       "      <td>0.200278</td>\n",
       "    </tr>\n",
       "  </tbody>\n",
       "</table>\n",
       "</div>"
      ],
      "text/plain": [
       "  classifier_type             sampling representation preprocessing  \\\n",
       "0             N/A          oversampled         tf_idf          None   \n",
       "0             N/A  random_downsampling         tf_idf          None   \n",
       "0             N/A          oversampled          count          None   \n",
       "0             N/A  random_downsampling          count          None   \n",
       "0             N/A          oversampled         tf_idf          None   \n",
       "0             N/A  random_downsampling         tf_idf          None   \n",
       "0             N/A          oversampled          count          None   \n",
       "0             N/A  random_downsampling          count          None   \n",
       "0             N/A  random_downsampling          count          None   \n",
       "0             N/A          oversampled         tf_idf          None   \n",
       "0             N/A  random_downsampling         tf_idf          None   \n",
       "0             N/A          oversampled          count          None   \n",
       "0             N/A                 full         tf_idf          None   \n",
       "0             N/A                 full          count          None   \n",
       "0             N/A                 full         tf_idf          None   \n",
       "0             N/A                 full          count          None   \n",
       "0             N/A                 full         tf_idf          None   \n",
       "0             N/A                 full          count          None   \n",
       "0        baseline                 full          count          None   \n",
       "\n",
       "  learning_rate n_estimators  real_world_acc     score  \n",
       "0             1           25        0.456451  0.379707  \n",
       "0             1           25        0.456024  0.379319  \n",
       "0             1           25        0.459462  0.378354  \n",
       "0             1           25        0.465497  0.378036  \n",
       "0           0.5           25        0.444084  0.374556  \n",
       "0           0.5           25        0.450326  0.373669  \n",
       "0           0.5           25        0.455944  0.373277  \n",
       "0           0.5           25        0.463871  0.372087  \n",
       "0           0.1           25        0.423215  0.323615  \n",
       "0           0.1           25        0.410104  0.323531  \n",
       "0           0.1           25        0.414595  0.322856  \n",
       "0           0.1           25        0.414652  0.322487  \n",
       "0             1           25        0.556984  0.297228  \n",
       "0             1           25        0.555614  0.293414  \n",
       "0           0.5           25        0.546142  0.241857  \n",
       "0           0.5           25        0.546363  0.239938  \n",
       "0           0.1           25        0.534352  0.203297  \n",
       "0           0.1           25        0.533966  0.202079  \n",
       "0           N/A          N/A        0.357346  0.200278  "
      ]
     },
     "execution_count": 6,
     "metadata": {},
     "output_type": "execute_result"
    }
   ],
   "source": [
    "results_df.sort_values('score', ascending=False)"
   ]
  },
  {
   "cell_type": "code",
   "execution_count": 7,
   "metadata": {},
   "outputs": [
    {
     "data": {
      "text/html": [
       "<div>\n",
       "<style scoped>\n",
       "    .dataframe tbody tr th:only-of-type {\n",
       "        vertical-align: middle;\n",
       "    }\n",
       "\n",
       "    .dataframe tbody tr th {\n",
       "        vertical-align: top;\n",
       "    }\n",
       "\n",
       "    .dataframe thead th {\n",
       "        text-align: right;\n",
       "    }\n",
       "</style>\n",
       "<table border=\"1\" class=\"dataframe\">\n",
       "  <thead>\n",
       "    <tr style=\"text-align: right;\">\n",
       "      <th></th>\n",
       "      <th>classifier_type</th>\n",
       "      <th>sampling</th>\n",
       "      <th>representation</th>\n",
       "      <th>preprocessing</th>\n",
       "      <th>learning_rate</th>\n",
       "      <th>n_estimators</th>\n",
       "      <th>real_world_acc</th>\n",
       "      <th>score</th>\n",
       "    </tr>\n",
       "  </thead>\n",
       "  <tbody>\n",
       "    <tr>\n",
       "      <th>0</th>\n",
       "      <td>N/A</td>\n",
       "      <td>full</td>\n",
       "      <td>tf_idf</td>\n",
       "      <td>None</td>\n",
       "      <td>1</td>\n",
       "      <td>25</td>\n",
       "      <td>0.556984</td>\n",
       "      <td>0.297228</td>\n",
       "    </tr>\n",
       "    <tr>\n",
       "      <th>0</th>\n",
       "      <td>N/A</td>\n",
       "      <td>full</td>\n",
       "      <td>count</td>\n",
       "      <td>None</td>\n",
       "      <td>1</td>\n",
       "      <td>25</td>\n",
       "      <td>0.555614</td>\n",
       "      <td>0.293414</td>\n",
       "    </tr>\n",
       "    <tr>\n",
       "      <th>0</th>\n",
       "      <td>N/A</td>\n",
       "      <td>full</td>\n",
       "      <td>count</td>\n",
       "      <td>None</td>\n",
       "      <td>0.5</td>\n",
       "      <td>25</td>\n",
       "      <td>0.546363</td>\n",
       "      <td>0.239938</td>\n",
       "    </tr>\n",
       "    <tr>\n",
       "      <th>0</th>\n",
       "      <td>N/A</td>\n",
       "      <td>full</td>\n",
       "      <td>tf_idf</td>\n",
       "      <td>None</td>\n",
       "      <td>0.5</td>\n",
       "      <td>25</td>\n",
       "      <td>0.546142</td>\n",
       "      <td>0.241857</td>\n",
       "    </tr>\n",
       "    <tr>\n",
       "      <th>0</th>\n",
       "      <td>N/A</td>\n",
       "      <td>full</td>\n",
       "      <td>tf_idf</td>\n",
       "      <td>None</td>\n",
       "      <td>0.1</td>\n",
       "      <td>25</td>\n",
       "      <td>0.534352</td>\n",
       "      <td>0.203297</td>\n",
       "    </tr>\n",
       "    <tr>\n",
       "      <th>0</th>\n",
       "      <td>N/A</td>\n",
       "      <td>full</td>\n",
       "      <td>count</td>\n",
       "      <td>None</td>\n",
       "      <td>0.1</td>\n",
       "      <td>25</td>\n",
       "      <td>0.533966</td>\n",
       "      <td>0.202079</td>\n",
       "    </tr>\n",
       "    <tr>\n",
       "      <th>0</th>\n",
       "      <td>N/A</td>\n",
       "      <td>random_downsampling</td>\n",
       "      <td>count</td>\n",
       "      <td>None</td>\n",
       "      <td>1</td>\n",
       "      <td>25</td>\n",
       "      <td>0.465497</td>\n",
       "      <td>0.378036</td>\n",
       "    </tr>\n",
       "    <tr>\n",
       "      <th>0</th>\n",
       "      <td>N/A</td>\n",
       "      <td>random_downsampling</td>\n",
       "      <td>count</td>\n",
       "      <td>None</td>\n",
       "      <td>0.5</td>\n",
       "      <td>25</td>\n",
       "      <td>0.463871</td>\n",
       "      <td>0.372087</td>\n",
       "    </tr>\n",
       "    <tr>\n",
       "      <th>0</th>\n",
       "      <td>N/A</td>\n",
       "      <td>oversampled</td>\n",
       "      <td>count</td>\n",
       "      <td>None</td>\n",
       "      <td>1</td>\n",
       "      <td>25</td>\n",
       "      <td>0.459462</td>\n",
       "      <td>0.378354</td>\n",
       "    </tr>\n",
       "    <tr>\n",
       "      <th>0</th>\n",
       "      <td>N/A</td>\n",
       "      <td>oversampled</td>\n",
       "      <td>tf_idf</td>\n",
       "      <td>None</td>\n",
       "      <td>1</td>\n",
       "      <td>25</td>\n",
       "      <td>0.456451</td>\n",
       "      <td>0.379707</td>\n",
       "    </tr>\n",
       "    <tr>\n",
       "      <th>0</th>\n",
       "      <td>N/A</td>\n",
       "      <td>random_downsampling</td>\n",
       "      <td>tf_idf</td>\n",
       "      <td>None</td>\n",
       "      <td>1</td>\n",
       "      <td>25</td>\n",
       "      <td>0.456024</td>\n",
       "      <td>0.379319</td>\n",
       "    </tr>\n",
       "    <tr>\n",
       "      <th>0</th>\n",
       "      <td>N/A</td>\n",
       "      <td>oversampled</td>\n",
       "      <td>count</td>\n",
       "      <td>None</td>\n",
       "      <td>0.5</td>\n",
       "      <td>25</td>\n",
       "      <td>0.455944</td>\n",
       "      <td>0.373277</td>\n",
       "    </tr>\n",
       "    <tr>\n",
       "      <th>0</th>\n",
       "      <td>N/A</td>\n",
       "      <td>random_downsampling</td>\n",
       "      <td>tf_idf</td>\n",
       "      <td>None</td>\n",
       "      <td>0.5</td>\n",
       "      <td>25</td>\n",
       "      <td>0.450326</td>\n",
       "      <td>0.373669</td>\n",
       "    </tr>\n",
       "    <tr>\n",
       "      <th>0</th>\n",
       "      <td>N/A</td>\n",
       "      <td>oversampled</td>\n",
       "      <td>tf_idf</td>\n",
       "      <td>None</td>\n",
       "      <td>0.5</td>\n",
       "      <td>25</td>\n",
       "      <td>0.444084</td>\n",
       "      <td>0.374556</td>\n",
       "    </tr>\n",
       "    <tr>\n",
       "      <th>0</th>\n",
       "      <td>N/A</td>\n",
       "      <td>random_downsampling</td>\n",
       "      <td>count</td>\n",
       "      <td>None</td>\n",
       "      <td>0.1</td>\n",
       "      <td>25</td>\n",
       "      <td>0.423215</td>\n",
       "      <td>0.323615</td>\n",
       "    </tr>\n",
       "    <tr>\n",
       "      <th>0</th>\n",
       "      <td>N/A</td>\n",
       "      <td>oversampled</td>\n",
       "      <td>count</td>\n",
       "      <td>None</td>\n",
       "      <td>0.1</td>\n",
       "      <td>25</td>\n",
       "      <td>0.414652</td>\n",
       "      <td>0.322487</td>\n",
       "    </tr>\n",
       "    <tr>\n",
       "      <th>0</th>\n",
       "      <td>N/A</td>\n",
       "      <td>random_downsampling</td>\n",
       "      <td>tf_idf</td>\n",
       "      <td>None</td>\n",
       "      <td>0.1</td>\n",
       "      <td>25</td>\n",
       "      <td>0.414595</td>\n",
       "      <td>0.322856</td>\n",
       "    </tr>\n",
       "    <tr>\n",
       "      <th>0</th>\n",
       "      <td>N/A</td>\n",
       "      <td>oversampled</td>\n",
       "      <td>tf_idf</td>\n",
       "      <td>None</td>\n",
       "      <td>0.1</td>\n",
       "      <td>25</td>\n",
       "      <td>0.410104</td>\n",
       "      <td>0.323531</td>\n",
       "    </tr>\n",
       "    <tr>\n",
       "      <th>0</th>\n",
       "      <td>baseline</td>\n",
       "      <td>full</td>\n",
       "      <td>count</td>\n",
       "      <td>None</td>\n",
       "      <td>N/A</td>\n",
       "      <td>N/A</td>\n",
       "      <td>0.357346</td>\n",
       "      <td>0.200278</td>\n",
       "    </tr>\n",
       "  </tbody>\n",
       "</table>\n",
       "</div>"
      ],
      "text/plain": [
       "  classifier_type             sampling representation preprocessing  \\\n",
       "0             N/A                 full         tf_idf          None   \n",
       "0             N/A                 full          count          None   \n",
       "0             N/A                 full          count          None   \n",
       "0             N/A                 full         tf_idf          None   \n",
       "0             N/A                 full         tf_idf          None   \n",
       "0             N/A                 full          count          None   \n",
       "0             N/A  random_downsampling          count          None   \n",
       "0             N/A  random_downsampling          count          None   \n",
       "0             N/A          oversampled          count          None   \n",
       "0             N/A          oversampled         tf_idf          None   \n",
       "0             N/A  random_downsampling         tf_idf          None   \n",
       "0             N/A          oversampled          count          None   \n",
       "0             N/A  random_downsampling         tf_idf          None   \n",
       "0             N/A          oversampled         tf_idf          None   \n",
       "0             N/A  random_downsampling          count          None   \n",
       "0             N/A          oversampled          count          None   \n",
       "0             N/A  random_downsampling         tf_idf          None   \n",
       "0             N/A          oversampled         tf_idf          None   \n",
       "0        baseline                 full          count          None   \n",
       "\n",
       "  learning_rate n_estimators  real_world_acc     score  \n",
       "0             1           25        0.556984  0.297228  \n",
       "0             1           25        0.555614  0.293414  \n",
       "0           0.5           25        0.546363  0.239938  \n",
       "0           0.5           25        0.546142  0.241857  \n",
       "0           0.1           25        0.534352  0.203297  \n",
       "0           0.1           25        0.533966  0.202079  \n",
       "0             1           25        0.465497  0.378036  \n",
       "0           0.5           25        0.463871  0.372087  \n",
       "0             1           25        0.459462  0.378354  \n",
       "0             1           25        0.456451  0.379707  \n",
       "0             1           25        0.456024  0.379319  \n",
       "0           0.5           25        0.455944  0.373277  \n",
       "0           0.5           25        0.450326  0.373669  \n",
       "0           0.5           25        0.444084  0.374556  \n",
       "0           0.1           25        0.423215  0.323615  \n",
       "0           0.1           25        0.414652  0.322487  \n",
       "0           0.1           25        0.414595  0.322856  \n",
       "0           0.1           25        0.410104  0.323531  \n",
       "0           N/A          N/A        0.357346  0.200278  "
      ]
     },
     "execution_count": 7,
     "metadata": {},
     "output_type": "execute_result"
    }
   ],
   "source": [
    "results_df.sort_values('real_world_acc', ascending=False)"
   ]
  },
  {
   "cell_type": "markdown",
   "metadata": {},
   "source": [
    "# Winner re-training"
   ]
  },
  {
   "cell_type": "code",
   "execution_count": 4,
   "metadata": {},
   "outputs": [
    {
     "name": "stderr",
     "output_type": "stream",
     "text": [
      "/home/asgavar/.local/lib/python3.8/site-packages/numpy/lib/arraysetops.py:569: FutureWarning: elementwise comparison failed; returning scalar instead, but in the future will perform elementwise comparison\n",
      "  mask |= (ar1 == a)\n"
     ]
    }
   ],
   "source": [
    "N_ESTIMATORS = 100\n",
    "sampling = 'oversampled'\n",
    "representation = 'tf_idf'\n",
    "preprocessing = None\n",
    "learning_rate = 1\n",
    "\n",
    "train_as_vec, train_targets, test_as_vec, test_targets = common.load_dataset(sampling, representation, None)\n",
    "classifier = sklearn.ensemble.AdaBoostClassifier(n_estimators=N_ESTIMATORS, learning_rate=learning_rate)\n",
    "classifier.fit(train_as_vec, train_targets)"
   ]
  },
  {
   "cell_type": "code",
   "execution_count": 25,
   "metadata": {},
   "outputs": [],
   "source": [
    "results_df = pd.DataFrame.from_dict([\n",
    "    common.perf_row(\n",
    "        classifier, test_as_vec, test_targets,\n",
    "        'N/A', sampling, representation, \n",
    "        None, n_estimators=N_ESTIMATORS, learning_rate=learning_rate)])"
   ]
  },
  {
   "cell_type": "code",
   "execution_count": 26,
   "metadata": {},
   "outputs": [
    {
     "data": {
      "text/html": [
       "<div>\n",
       "<style scoped>\n",
       "    .dataframe tbody tr th:only-of-type {\n",
       "        vertical-align: middle;\n",
       "    }\n",
       "\n",
       "    .dataframe tbody tr th {\n",
       "        vertical-align: top;\n",
       "    }\n",
       "\n",
       "    .dataframe thead th {\n",
       "        text-align: right;\n",
       "    }\n",
       "</style>\n",
       "<table border=\"1\" class=\"dataframe\">\n",
       "  <thead>\n",
       "    <tr style=\"text-align: right;\">\n",
       "      <th></th>\n",
       "      <th>classifier_type</th>\n",
       "      <th>sampling</th>\n",
       "      <th>representation</th>\n",
       "      <th>preprocessing</th>\n",
       "      <th>n_estimators</th>\n",
       "      <th>learning_rate</th>\n",
       "      <th>real_world_acc</th>\n",
       "      <th>score</th>\n",
       "      <th>order_aware_error_1</th>\n",
       "      <th>order_aware_error_2</th>\n",
       "      <th>order_aware_error_3</th>\n",
       "      <th>order_aware_error_4</th>\n",
       "      <th>order_aware_error_5</th>\n",
       "      <th>order_aware_error_avg</th>\n",
       "    </tr>\n",
       "  </thead>\n",
       "  <tbody>\n",
       "    <tr>\n",
       "      <th>0</th>\n",
       "      <td>N/A</td>\n",
       "      <td>oversampled</td>\n",
       "      <td>tf_idf</td>\n",
       "      <td>None</td>\n",
       "      <td>100</td>\n",
       "      <td>1</td>\n",
       "      <td>0.51415</td>\n",
       "      <td>0.448909</td>\n",
       "      <td>2.120906</td>\n",
       "      <td>1.395576</td>\n",
       "      <td>1.393329</td>\n",
       "      <td>1.30709</td>\n",
       "      <td>1.930265</td>\n",
       "      <td>1.629433</td>\n",
       "    </tr>\n",
       "  </tbody>\n",
       "</table>\n",
       "</div>"
      ],
      "text/plain": [
       "  classifier_type     sampling representation preprocessing  n_estimators  \\\n",
       "0             N/A  oversampled         tf_idf          None           100   \n",
       "\n",
       "   learning_rate  real_world_acc     score  order_aware_error_1  \\\n",
       "0              1         0.51415  0.448909             2.120906   \n",
       "\n",
       "   order_aware_error_2  order_aware_error_3  order_aware_error_4  \\\n",
       "0             1.395576             1.393329              1.30709   \n",
       "\n",
       "   order_aware_error_5  order_aware_error_avg  \n",
       "0             1.930265               1.629433  "
      ]
     },
     "execution_count": 26,
     "metadata": {},
     "output_type": "execute_result"
    }
   ],
   "source": [
    "results_df"
   ]
  },
  {
   "cell_type": "markdown",
   "metadata": {},
   "source": [
    "## Boosting error plotting"
   ]
  },
  {
   "cell_type": "code",
   "execution_count": 32,
   "metadata": {},
   "outputs": [
    {
     "data": {
      "text/plain": [
       "array([0.22099112, 0.28306871, 0.29711779, 0.30026303, 0.31518395,\n",
       "       0.32504792, 0.33134019, 0.33368791, 0.3363466 , 0.34114058,\n",
       "       0.34463307, 0.34608783, 0.35243397, 0.35120324, 0.35412651,\n",
       "       0.35659963, 0.35886721, 0.36690495, 0.36935311, 0.37069892,\n",
       "       0.37273959, 0.37512772, 0.37670065, 0.37905941, 0.37970706,\n",
       "       0.38175214, 0.38321833, 0.38435333, 0.3863881 , 0.388258  ,\n",
       "       0.38920169, 0.39151647, 0.39281928, 0.39466662, 0.3955769 ,\n",
       "       0.39612154, 0.39817516, 0.39990053, 0.39974025, 0.40237078,\n",
       "       0.40300868, 0.40452868, 0.40647517, 0.40752821, 0.40936125,\n",
       "       0.41018809, 0.41031967, 0.41076255, 0.41204526, 0.41264755,\n",
       "       0.41524459, 0.41514564, 0.41670317, 0.41713395, 0.41818109,\n",
       "       0.41917495, 0.41995377, 0.42150415, 0.4228146 , 0.4237988 ,\n",
       "       0.42484751, 0.42567616, 0.42647222, 0.42763987, 0.42840811,\n",
       "       0.43033551, 0.43046334, 0.43157547, 0.43247126, 0.43328341,\n",
       "       0.43366454, 0.43490949, 0.43584643, 0.43579953, 0.43658576,\n",
       "       0.43678441, 0.43791406, 0.43824915, 0.43873885, 0.43903596,\n",
       "       0.43938941, 0.43964748, 0.4394065 , 0.44034105, 0.44048517,\n",
       "       0.44089776, 0.44146626, 0.44165641, 0.44311141, 0.44384666,\n",
       "       0.4438328 , 0.44449083, 0.44500467, 0.44611329, 0.44668707,\n",
       "       0.44707659, 0.44786372, 0.44842454, 0.44878005, 0.448909  ])"
      ]
     },
     "execution_count": 32,
     "metadata": {},
     "output_type": "execute_result"
    }
   ],
   "source": [
    "from sklearn.metrics import balanced_accuracy_score\n",
    "\n",
    "ada_scores = np.zeros((100,))\n",
    "for idx, y_pred in enumerate(classifier.staged_predict(test_as_vec)):\n",
    "    ada_scores[idx] = balanced_accuracy_score(test_targets, y_pred)\n",
    "\n",
    "ada_scores"
   ]
  },
  {
   "cell_type": "code",
   "execution_count": 35,
   "metadata": {},
   "outputs": [
    {
     "data": {
      "text/plain": [
       "Text(0.5, 1.0, 'Balanced accuracy score <-> boosting levels')"
      ]
     },
     "execution_count": 35,
     "metadata": {},
     "output_type": "execute_result"
    },
    {
     "data": {
      "image/png": "[encoded data removed]",
      "text/plain": [
       "<Figure size 432x288 with 1 Axes>"
      ]
     },
     "metadata": {
      "needs_background": "light"
     },
     "output_type": "display_data"
    }
   ],
   "source": [
    "plt.scatter(np.arange(ada_errors.shape[0]), ada_errors, marker='.', color='orange')\n",
    "plt.xlabel('boosting levels')\n",
    "plt.ylabel('balanced accuracy score')\n",
    "plt.title('Balanced accuracy score <-> boosting levels')"
   ]
  },
  {
   "cell_type": "markdown",
   "metadata": {},
   "source": [
    "# Winners (boo!)"
   ]
  },
  {
   "cell_type": "code",
   "execution_count": 19,
   "metadata": {},
   "outputs": [
    {
     "data": {
      "text/plain": [
       "0.42966717565886214"
      ]
     },
     "execution_count": 19,
     "metadata": {},
     "output_type": "execute_result"
    }
   ],
   "source": [
    "train_as_vec, train_targets, test_as_vec, test_targets = common.load_dataset('random_downsampling', 'tf_idf', None)\n",
    "classifier = sklearn.ensemble.AdaBoostClassifier(n_estimators=10, learning_rate=1)\n",
    "classifier.fit(train_as_vec, train_targets)\n",
    "classifier.score(test_as_vec, test_targets)"
   ]
  },
  {
   "cell_type": "code",
   "execution_count": 21,
   "metadata": {},
   "outputs": [
    {
     "data": {
      "text/plain": [
       "0.33993329124163346"
      ]
     },
     "execution_count": 21,
     "metadata": {},
     "output_type": "execute_result"
    }
   ],
   "source": [
    "common.get_score(classifier, test_as_vec, test_targets)"
   ]
  },
  {
   "cell_type": "code",
   "execution_count": 22,
   "metadata": {},
   "outputs": [
    {
     "name": "stdout",
     "output_type": "stream",
     "text": [
      "SCORE: 0.33993329124163346\n",
      "[[0.39399198 0.13894031 0.1714484  0.05132655 0.24429277]\n",
      " [0.21666994 0.17321043 0.28601687 0.10892332 0.21517945]\n",
      " [0.10419019 0.13521545 0.35603764 0.16229817 0.24225854]\n",
      " [0.06028483 0.07970705 0.29876101 0.19969415 0.36155295]\n",
      " [0.04715493 0.04139366 0.18038429 0.15433487 0.57673225]]\n"
     ]
    },
    {
     "data": {
      "image/png": "[encoded data removed]",
      "text/plain": [
       "<Figure size 432x288 with 2 Axes>"
      ]
     },
     "metadata": {
      "needs_background": "light"
     },
     "output_type": "display_data"
    }
   ],
   "source": [
    "common.display_classifier_performance(classifier, test_as_vec, test_targets)"
   ]
  },
  {
   "cell_type": "code",
   "execution_count": 23,
   "metadata": {},
   "outputs": [
    {
     "data": {
      "text/plain": [
       "0.5458257927082155"
      ]
     },
     "execution_count": 23,
     "metadata": {},
     "output_type": "execute_result"
    }
   ],
   "source": [
    "train_as_vec, train_targets, test_as_vec, test_targets = common.load_dataset('full', 'count', None)\n",
    "classifier = sklearn.ensemble.AdaBoostClassifier(n_estimators=10, learning_rate=1)\n",
    "classifier.fit(train_as_vec, train_targets)\n",
    "classifier.score(test_as_vec, test_targets)"
   ]
  },
  {
   "cell_type": "code",
   "execution_count": 25,
   "metadata": {},
   "outputs": [
    {
     "name": "stdout",
     "output_type": "stream",
     "text": [
      "SCORE: 0.27254614272317623\n",
      "[[0.22250501 0.01966682 0.05498997 0.07847447 0.62436372]\n",
      " [0.09809767 0.02565209 0.06130614 0.147323   0.6676211 ]\n",
      " [0.03627538 0.00980684 0.04570579 0.19021298 0.71799901]\n",
      " [0.01371103 0.00391149 0.02197093 0.1461192  0.81428735]\n",
      " [0.00693208 0.0018247  0.00867725 0.05981735 0.92274862]]\n"
     ]
    },
    {
     "data": {
      "image/png": "[encoded data removed]",
      "text/plain": [
       "<Figure size 432x288 with 2 Axes>"
      ]
     },
     "metadata": {
      "needs_background": "light"
     },
     "output_type": "display_data"
    }
   ],
   "source": [
    "common.display_classifier_performance(classifier, test_as_vec, test_targets)"
   ]
  }
 ],
 "metadata": {
  "kernelspec": {
   "display_name": "Python 3",
   "language": "python",
   "name": "python3"
  },
  "language_info": {
   "codemirror_mode": {
    "name": "ipython",
    "version": 3
   },
   "file_extension": ".py",
   "mimetype": "text/x-python",
   "name": "python",
   "nbconvert_exporter": "python",
   "pygments_lexer": "ipython3",
   "version": "3.8.1"
  }
 },
 "nbformat": 4,
 "nbformat_minor": 4
}
